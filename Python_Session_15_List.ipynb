{
 "cells": [
  {
   "cell_type": "markdown",
   "id": "930b6850-3a54-4371-8b61-7a3c8dda966b",
   "metadata": {},
   "source": [
    "- intilaiztion\n",
    "\n",
    "- type\n",
    "\n",
    "- len\n",
    "\n",
    "- min\n",
    "\n",
    "- max\n",
    "\n",
    "- sorted\n",
    "\n",
    "- reveresd\n",
    "\n",
    "- in \n",
    "\n",
    "- for loop with in\n",
    "\n",
    "- index\n",
    "\n",
    "- for loop with index\n",
    "\n",
    "- mutable immutable\n",
    "\n",
    "- concatenation\n",
    "\n",
    "- methods\n",
    "\n",
    "- conditions"
   ]
  },
  {
   "cell_type": "code",
   "execution_count": 1,
   "id": "851afc05-c767-48b8-a436-0ced48293c81",
   "metadata": {},
   "outputs": [
    {
     "data": {
      "text/plain": [
       "[1, 2, 3, 4, 5]"
      ]
     },
     "execution_count": 1,
     "metadata": {},
     "output_type": "execute_result"
    }
   ],
   "source": [
    "list1=[1,2,3,4,5]\n",
    "list1"
   ]
  },
  {
   "cell_type": "code",
   "execution_count": 2,
   "id": "ec746f41-7ba4-4b81-ae91-116d1df37cf2",
   "metadata": {},
   "outputs": [
    {
     "data": {
      "text/plain": [
       "list"
      ]
     },
     "execution_count": 2,
     "metadata": {},
     "output_type": "execute_result"
    }
   ],
   "source": [
    "type(list1)"
   ]
  },
  {
   "cell_type": "code",
   "execution_count": 3,
   "id": "3db55e9a-523f-4bc5-83f5-1ad473b09911",
   "metadata": {},
   "outputs": [
    {
     "data": {
      "text/plain": [
       "['A', 'B', 'C', 'D']"
      ]
     },
     "execution_count": 3,
     "metadata": {},
     "output_type": "execute_result"
    }
   ],
   "source": [
    "list2=['A','B','C','D']\n",
    "list2"
   ]
  },
  {
   "cell_type": "code",
   "execution_count": 4,
   "id": "042d4bb5-c42f-4cd1-bb9a-207230f7f469",
   "metadata": {},
   "outputs": [
    {
     "data": {
      "text/plain": [
       "[1, 2, 3, 'A', 'B', 'C']"
      ]
     },
     "execution_count": 4,
     "metadata": {},
     "output_type": "execute_result"
    }
   ],
   "source": [
    "list3=[1,2,3,'A','B','C']\n",
    "list3"
   ]
  },
  {
   "cell_type": "code",
   "execution_count": 5,
   "id": "7d712c79-6ca5-4372-bff3-b104123fd24c",
   "metadata": {},
   "outputs": [
    {
     "data": {
      "text/plain": [
       "[1, 2, 'Apple', '10.5', 1.5, True, False, (20+30j)]"
      ]
     },
     "execution_count": 5,
     "metadata": {},
     "output_type": "execute_result"
    }
   ],
   "source": [
    "list4=[1,2,'Apple','10.5',1.5,True,False,20+30j]\n",
    "list4"
   ]
  },
  {
   "cell_type": "code",
   "execution_count": 6,
   "id": "179adfde-32e5-442c-b0c1-131923c17386",
   "metadata": {},
   "outputs": [
    {
     "data": {
      "text/plain": [
       "[10, 10, 10]"
      ]
     },
     "execution_count": 6,
     "metadata": {},
     "output_type": "execute_result"
    }
   ],
   "source": [
    "list5=[10,10,10]\n",
    "list5"
   ]
  },
  {
   "cell_type": "code",
   "execution_count": 7,
   "id": "a8a00f74-04cd-4e69-97b2-df0307de6b10",
   "metadata": {},
   "outputs": [
    {
     "data": {
      "text/plain": [
       "[1, 2, 3, ['A', 'B', 'C']]"
      ]
     },
     "execution_count": 7,
     "metadata": {},
     "output_type": "execute_result"
    }
   ],
   "source": [
    "list6=[1,2,3,['A','B','C']]\n",
    "list6"
   ]
  },
  {
   "cell_type": "code",
   "execution_count": 10,
   "id": "3fabc1f8-906b-4e43-baeb-4d3efdb9a856",
   "metadata": {},
   "outputs": [
    {
     "data": {
      "text/plain": [
       "[]"
      ]
     },
     "execution_count": 10,
     "metadata": {},
     "output_type": "execute_result"
    }
   ],
   "source": [
    "list7=[]\n",
    "list7"
   ]
  },
  {
   "cell_type": "code",
   "execution_count": 20,
   "id": "7a705a7c-fccd-4f10-a857-d30f4d9da5af",
   "metadata": {},
   "outputs": [
    {
     "data": {
      "text/plain": [
       "[[[[[[[[[[[]], [[]]]]]]]]]]]"
      ]
     },
     "execution_count": 20,
     "metadata": {},
     "output_type": "execute_result"
    }
   ],
   "source": [
    "list8=[_]\n",
    "list8 \n",
    "# sepeate empty list form\n",
    "# Dataframe:[]"
   ]
  },
  {
   "cell_type": "code",
   "execution_count": 21,
   "id": "b6421476-229f-4b62-8368-35d10bd8a6ce",
   "metadata": {},
   "outputs": [],
   "source": [
    "list1=[1,2,3,4,5]\n",
    "list2=['A','B','C','D']\n",
    "list3=[1,2,3,'A','B','C']\n",
    "list4=[1,2,'Apple','10.5',1.5,True,False,20+30j]\n",
    "list5=[10,10,10]\n",
    "list6=[1,2,3,['A','B','C']]\n",
    "list7=[]\n",
    "list8=[_]"
   ]
  },
  {
   "cell_type": "markdown",
   "id": "75c7123b-8329-403c-85e4-195e3719353a",
   "metadata": {},
   "source": [
    "- List represents with square brackets\n",
    "\n",
    "- List can access the array of elements\n",
    "\n",
    "- The values inside list we are calling as elements\n",
    "\n",
    "- List can be have any data type\n",
    "\n",
    "- List can have duplicates\n",
    "\n",
    "- List in list possible , because list also a data type"
   ]
  },
  {
   "cell_type": "code",
   "execution_count": 24,
   "id": "9b88e3d5-a689-4d83-8e7c-a7f204653349",
   "metadata": {},
   "outputs": [],
   "source": [
    "list1= [11,23,33,44,54]\n",
    "list2=['Apple','Banana','Cherry']\n",
    "list3=[10,20,30,'Apple','Banana']\n",
    "\n",
    "# len\n",
    "# max\n",
    "# min\n",
    "# revered \n",
    "# sorted"
   ]
  },
  {
   "cell_type": "code",
   "execution_count": 27,
   "id": "726fe8a1-da71-4234-8bfe-0b7cd7815418",
   "metadata": {},
   "outputs": [
    {
     "data": {
      "text/plain": [
       "(5, 3, 5)"
      ]
     },
     "execution_count": 27,
     "metadata": {},
     "output_type": "execute_result"
    }
   ],
   "source": [
    "len(list1),len(list2),len(list3)"
   ]
  },
  {
   "cell_type": "code",
   "execution_count": 28,
   "id": "c3ceb53d-dbb9-4cd2-9000-9cf0741b2772",
   "metadata": {},
   "outputs": [
    {
     "data": {
      "text/plain": [
       "54"
      ]
     },
     "execution_count": 28,
     "metadata": {},
     "output_type": "execute_result"
    }
   ],
   "source": [
    "max(list1)"
   ]
  },
  {
   "cell_type": "code",
   "execution_count": 29,
   "id": "26ae33f9-aebb-4134-9e7c-dc45998ec79f",
   "metadata": {},
   "outputs": [
    {
     "data": {
      "text/plain": [
       "'Cherry'"
      ]
     },
     "execution_count": 29,
     "metadata": {},
     "output_type": "execute_result"
    }
   ],
   "source": [
    "max(list2)  # "
   ]
  },
  {
   "cell_type": "code",
   "execution_count": 30,
   "id": "e438215c-35e3-4e27-8029-f30f70e6013d",
   "metadata": {},
   "outputs": [
    {
     "ename": "TypeError",
     "evalue": "'>' not supported between instances of 'str' and 'int'",
     "output_type": "error",
     "traceback": [
      "\u001b[1;31m---------------------------------------------------------------------------\u001b[0m",
      "\u001b[1;31mTypeError\u001b[0m                                 Traceback (most recent call last)",
      "Cell \u001b[1;32mIn[30], line 1\u001b[0m\n\u001b[1;32m----> 1\u001b[0m \u001b[38;5;28mmax\u001b[39m(list3)\n",
      "\u001b[1;31mTypeError\u001b[0m: '>' not supported between instances of 'str' and 'int'"
     ]
    }
   ],
   "source": [
    "max(list3)"
   ]
  },
  {
   "cell_type": "code",
   "execution_count": 31,
   "id": "89aaafe6-8973-4391-bdcf-7fb45d770ddf",
   "metadata": {},
   "outputs": [
    {
     "data": {
      "text/plain": [
       "[10, 20, 30, 'Apple', 'Banana']"
      ]
     },
     "execution_count": 31,
     "metadata": {},
     "output_type": "execute_result"
    }
   ],
   "source": [
    "list3"
   ]
  },
  {
   "cell_type": "code",
   "execution_count": 32,
   "id": "aeae892b-746a-4c21-97bc-b2e64ff31172",
   "metadata": {},
   "outputs": [
    {
     "data": {
      "text/plain": [
       "[11, 23, 33, 44, 54]"
      ]
     },
     "execution_count": 32,
     "metadata": {},
     "output_type": "execute_result"
    }
   ],
   "source": [
    "sorted(list1)"
   ]
  },
  {
   "cell_type": "code",
   "execution_count": 34,
   "id": "d493c9d2-dbbf-408a-8220-18ea6cbf95ba",
   "metadata": {},
   "outputs": [
    {
     "data": {
      "text/plain": [
       "[54, 44, 33, 23, 11]"
      ]
     },
     "execution_count": 34,
     "metadata": {},
     "output_type": "execute_result"
    }
   ],
   "source": [
    "sorted(list1,reverse=True)"
   ]
  },
  {
   "cell_type": "code",
   "execution_count": 35,
   "id": "2dce5f8f-82f0-4ec9-adfe-c1a8f2a8b7d6",
   "metadata": {},
   "outputs": [
    {
     "ename": "TypeError",
     "evalue": "'<' not supported between instances of 'str' and 'int'",
     "output_type": "error",
     "traceback": [
      "\u001b[1;31m---------------------------------------------------------------------------\u001b[0m",
      "\u001b[1;31mTypeError\u001b[0m                                 Traceback (most recent call last)",
      "Cell \u001b[1;32mIn[35], line 1\u001b[0m\n\u001b[1;32m----> 1\u001b[0m \u001b[38;5;28msorted\u001b[39m(list3)\n",
      "\u001b[1;31mTypeError\u001b[0m: '<' not supported between instances of 'str' and 'int'"
     ]
    }
   ],
   "source": [
    "sorted(list3)"
   ]
  },
  {
   "cell_type": "code",
   "execution_count": 37,
   "id": "4207300c-d4a6-4309-b0f1-1d32428ce735",
   "metadata": {},
   "outputs": [
    {
     "data": {
      "text/plain": [
       "<list_reverseiterator at 0x16dee601570>"
      ]
     },
     "execution_count": 37,
     "metadata": {},
     "output_type": "execute_result"
    }
   ],
   "source": [
    "reversed(list1)"
   ]
  },
  {
   "cell_type": "code",
   "execution_count": 38,
   "id": "d0f139eb-ca79-469d-b677-0a04f64e7a07",
   "metadata": {},
   "outputs": [
    {
     "name": "stdout",
     "output_type": "stream",
     "text": [
      "54\n",
      "44\n",
      "33\n",
      "23\n",
      "11\n"
     ]
    }
   ],
   "source": [
    "for i in reversed(list1):\n",
    "    print(i)"
   ]
  },
  {
   "cell_type": "code",
   "execution_count": 40,
   "id": "0a62f864-37b2-4659-bfa8-ad2c79d30fdd",
   "metadata": {},
   "outputs": [
    {
     "data": {
      "text/plain": [
       "[54, 44, 33, 23, 11]"
      ]
     },
     "execution_count": 40,
     "metadata": {},
     "output_type": "execute_result"
    }
   ],
   "source": [
    "list(reversed(list1))"
   ]
  },
  {
   "cell_type": "code",
   "execution_count": 41,
   "id": "b2efd92d-0c3b-43ef-9b1f-c63da42669b8",
   "metadata": {},
   "outputs": [
    {
     "data": {
      "text/plain": [
       "['Banana', 'Apple', 30, 20, 10]"
      ]
     },
     "execution_count": 41,
     "metadata": {},
     "output_type": "execute_result"
    }
   ],
   "source": [
    "list(reversed(list3)) # no need of compare"
   ]
  },
  {
   "cell_type": "markdown",
   "id": "13b8a7db-56ac-4c08-a80a-699b8ff5ab8b",
   "metadata": {},
   "source": [
    "**in**"
   ]
  },
  {
   "cell_type": "code",
   "execution_count": null,
   "id": "cdb08923-8997-48a4-b6d8-7dd8434c09fd",
   "metadata": {},
   "outputs": [],
   "source": [
    "list object not callable\n",
    "restart and run"
   ]
  },
  {
   "cell_type": "code",
   "execution_count": 44,
   "id": "a9e86c37-dcc2-485d-900c-f40b0574d7bd",
   "metadata": {},
   "outputs": [
    {
     "data": {
      "text/plain": [
       "True"
      ]
     },
     "execution_count": 44,
     "metadata": {},
     "output_type": "execute_result"
    }
   ],
   "source": [
    "list1=[1,2,3,4,'A','B','C']\n",
    "1 in list1\n",
    "2 in list1\n",
    "3 in list1\n",
    "\n",
    "#i in list1"
   ]
  },
  {
   "cell_type": "code",
   "execution_count": 45,
   "id": "4d3d4c09-5d72-4dcc-ae14-d1c7a0b2a26f",
   "metadata": {},
   "outputs": [
    {
     "name": "stdout",
     "output_type": "stream",
     "text": [
      "1 2 3 4 A B C "
     ]
    }
   ],
   "source": [
    "for i in list1:\n",
    "    print(i,end=' ')"
   ]
  },
  {
   "cell_type": "code",
   "execution_count": 47,
   "id": "d3a86165-3a28-44bc-80b5-1fdaebcf755f",
   "metadata": {},
   "outputs": [
    {
     "name": "stdout",
     "output_type": "stream",
     "text": [
      "1 2 3 4 A B C "
     ]
    }
   ],
   "source": [
    "for i in [1,2,3,4,'A','B','C']:\n",
    "    print(i,end=' ')"
   ]
  },
  {
   "cell_type": "code",
   "execution_count": 49,
   "id": "6c798c73-56f5-4f05-8083-c2191e9dc5e3",
   "metadata": {},
   "outputs": [
    {
     "name": "stdout",
     "output_type": "stream",
     "text": [
      "1 2 3 4 A B C "
     ]
    }
   ],
   "source": [
    "for i in '1234ABC':\n",
    "    print(i,end=' ')"
   ]
  },
  {
   "cell_type": "markdown",
   "id": "c5282c4e-3a68-4132-8faf-7ea4f15e7827",
   "metadata": {},
   "source": [
    "**index**"
   ]
  },
  {
   "cell_type": "code",
   "execution_count": 51,
   "id": "b76b7be1-ca65-49da-980f-d19ffffadfa9",
   "metadata": {
    "scrolled": true
   },
   "outputs": [
    {
     "data": {
      "text/plain": [
       "22"
      ]
     },
     "execution_count": 51,
     "metadata": {},
     "output_type": "execute_result"
    }
   ],
   "source": [
    "list1=[11,22,33,44,'A','B','C']\n",
    "\n",
    "# -7  -6  -5  -4   -3  -2    -1 \n",
    "# 11  22  33  44  'A'  'B'  'C'\n",
    "# 0   1   2   3    4    5    6\n",
    "list1[0]\n",
    "list1[1]"
   ]
  },
  {
   "cell_type": "markdown",
   "id": "a8e82761-eda9-46a3-8b76-afdc26989c77",
   "metadata": {},
   "source": [
    "**slice**"
   ]
  },
  {
   "cell_type": "code",
   "execution_count": 52,
   "id": "66eef3d6-3e74-4e3f-a038-03f5d0563d14",
   "metadata": {},
   "outputs": [
    {
     "data": {
      "text/plain": [
       "[11, 22, 33, 44, 55, 66, 77, 88, 99, 100, 'A', 'B', 'C']"
      ]
     },
     "execution_count": 52,
     "metadata": {},
     "output_type": "execute_result"
    }
   ],
   "source": [
    "l=[11,22,33,44,55,66,77,88,99,100,'A','B','C']\n",
    "l[::]"
   ]
  },
  {
   "cell_type": "code",
   "execution_count": 53,
   "id": "3621ca45-2aca-48d8-a126-62b3502b7541",
   "metadata": {},
   "outputs": [
    {
     "data": {
      "text/plain": [
       "['C', 'B', 'A', 100, 99, 88, 77, 66, 55, 44, 33, 22, 11]"
      ]
     },
     "execution_count": 53,
     "metadata": {},
     "output_type": "execute_result"
    }
   ],
   "source": [
    "l[::-1]"
   ]
  },
  {
   "cell_type": "code",
   "execution_count": null,
   "id": "1843428b-5860-476b-951a-215561f69844",
   "metadata": {},
   "outputs": [],
   "source": [
    "l=[11,22,33,44,55,66,77,88,99,100,'A','B','C']\n",
    "l[2:12:2]\n",
    "l[2:12:-2]\n",
    "l[2:-12:2]\n",
    "l[-2:12:2]\n",
    "l[2:-12:-2]\n",
    "l[-2:12:-2]\n",
    "l[-2:-12:-2]\n",
    "l[12:2:2]\n",
    "l[12:2:-2]\n",
    "l[12:-2:2]\n",
    "l[12:-2:-2]\n",
    "l[-12:2:2]"
   ]
  },
  {
   "cell_type": "code",
   "execution_count": 54,
   "id": "3ac293b9-bb9e-4e1b-9f2d-dfc35945a17a",
   "metadata": {},
   "outputs": [
    {
     "data": {
      "text/plain": [
       "10"
      ]
     },
     "execution_count": 54,
     "metadata": {},
     "output_type": "execute_result"
    }
   ],
   "source": [
    "l=[10,20]\n",
    "l[0]"
   ]
  },
  {
   "cell_type": "code",
   "execution_count": 58,
   "id": "39bbc5ea-c23b-4a5c-8068-27d09efc5af6",
   "metadata": {},
   "outputs": [
    {
     "data": {
      "text/plain": [
       "10"
      ]
     },
     "execution_count": 58,
     "metadata": {},
     "output_type": "execute_result"
    }
   ],
   "source": [
    "l=[[10]]\n",
    "# how can you get 10\n",
    "# in a list 'l' how many elements are there: one element\n",
    "# How can I access one element using index: 0\n",
    "l[0] # the output also a list\n",
    "l[0][0]"
   ]
  },
  {
   "cell_type": "code",
   "execution_count": 60,
   "id": "b703f6f3-be4d-49a9-bb68-97d85ab233ff",
   "metadata": {},
   "outputs": [
    {
     "data": {
      "text/plain": [
       "10"
      ]
     },
     "execution_count": 60,
     "metadata": {},
     "output_type": "execute_result"
    }
   ],
   "source": [
    "l=[1,2,[10]]\n",
    "l[2][0]"
   ]
  },
  {
   "cell_type": "code",
   "execution_count": 68,
   "id": "6dce89a1-abbf-417c-be17-cd48f8cb6670",
   "metadata": {},
   "outputs": [
    {
     "data": {
      "text/plain": [
       "'Apple'"
      ]
     },
     "execution_count": 68,
     "metadata": {},
     "output_type": "execute_result"
    }
   ],
   "source": [
    "l=[1,\n",
    "   2,\n",
    "   3,\n",
    "   [5,6,['Apple']]\n",
    "  ] \n",
    "len(l)\n",
    "len(l[3])\n",
    "l[3][2][0]"
   ]
  },
  {
   "cell_type": "code",
   "execution_count": 71,
   "id": "88924b91-66ac-4c8b-9a49-9631a065a1f7",
   "metadata": {},
   "outputs": [
    {
     "data": {
      "text/plain": [
       "3"
      ]
     },
     "execution_count": 71,
     "metadata": {},
     "output_type": "execute_result"
    }
   ],
   "source": [
    "l=[1,2,[3,4,['A'],['B']]]\n",
    "l\n",
    "# How many elements\n",
    "len(l)"
   ]
  },
  {
   "cell_type": "code",
   "execution_count": 77,
   "id": "ccc866ef-cb2c-41f6-916b-c4e378805a45",
   "metadata": {},
   "outputs": [
    {
     "data": {
      "text/plain": [
       "'B'"
      ]
     },
     "execution_count": 77,
     "metadata": {},
     "output_type": "execute_result"
    }
   ],
   "source": [
    "l[2][3][0]"
   ]
  },
  {
   "cell_type": "code",
   "execution_count": 85,
   "id": "7aa87bd9-ef0e-44dc-b0e2-e7f25170997b",
   "metadata": {},
   "outputs": [
    {
     "data": {
      "text/plain": [
       "'Banana'"
      ]
     },
     "execution_count": 85,
     "metadata": {},
     "output_type": "execute_result"
    }
   ],
   "source": [
    "l=[1,[2,[3,[4,[5,['Banana']]]]]]\n",
    "l[1][1][1][1][1][0]"
   ]
  },
  {
   "cell_type": "code",
   "execution_count": 80,
   "id": "a4cf6952-a2dc-4910-8cbf-0c1493e45bcc",
   "metadata": {},
   "outputs": [
    {
     "data": {
      "text/plain": [
       "2"
      ]
     },
     "execution_count": 80,
     "metadata": {},
     "output_type": "execute_result"
    }
   ],
   "source": [
    "len(l[1])"
   ]
  },
  {
   "cell_type": "code",
   "execution_count": 95,
   "id": "9c95eeac-67cd-4632-8f8f-492d9a6505d9",
   "metadata": {},
   "outputs": [
    {
     "data": {
      "text/plain": [
       "'onion'"
      ]
     },
     "execution_count": 95,
     "metadata": {},
     "output_type": "execute_result"
    }
   ],
   "source": [
    "l=[[[[[[[[['onion']]]]]]]]]\n",
    "l[0][0][0][0][0][0][0][0][0]"
   ]
  },
  {
   "cell_type": "code",
   "execution_count": 98,
   "id": "3e417911-6e99-4369-95b5-66accc8338db",
   "metadata": {},
   "outputs": [
    {
     "data": {
      "text/plain": [
       "' hello'"
      ]
     },
     "execution_count": 98,
     "metadata": {},
     "output_type": "execute_result"
    }
   ],
   "source": [
    "' hello'"
   ]
  },
  {
   "cell_type": "code",
   "execution_count": 97,
   "id": "2d89c136-e5bc-4184-98a9-7fd144ef0de8",
   "metadata": {},
   "outputs": [
    {
     "name": "stdout",
     "output_type": "stream",
     "text": [
      "hai\n"
     ]
    }
   ],
   "source": [
    "print('hai')"
   ]
  },
  {
   "cell_type": "code",
   "execution_count": null,
   "id": "86e4d887-9af3-4c3d-b53c-753b0c1f4a13",
   "metadata": {},
   "outputs": [],
   "source": [
    "dec 25th  ==== jan1 \n"
   ]
  },
  {
   "cell_type": "markdown",
   "id": "a8ff0d8c-450b-4c95-9332-f8441ae244d1",
   "metadata": {},
   "source": [
    "**Methods**"
   ]
  },
  {
   "cell_type": "code",
   "execution_count": 1,
   "id": "0f37d027-6e31-4346-8afa-811799d4a1c5",
   "metadata": {},
   "outputs": [
    {
     "data": {
      "text/plain": [
       "['__add__',\n",
       " '__class__',\n",
       " '__class_getitem__',\n",
       " '__contains__',\n",
       " '__delattr__',\n",
       " '__delitem__',\n",
       " '__dir__',\n",
       " '__doc__',\n",
       " '__eq__',\n",
       " '__format__',\n",
       " '__ge__',\n",
       " '__getattribute__',\n",
       " '__getitem__',\n",
       " '__getstate__',\n",
       " '__gt__',\n",
       " '__hash__',\n",
       " '__iadd__',\n",
       " '__imul__',\n",
       " '__init__',\n",
       " '__init_subclass__',\n",
       " '__iter__',\n",
       " '__le__',\n",
       " '__len__',\n",
       " '__lt__',\n",
       " '__mul__',\n",
       " '__ne__',\n",
       " '__new__',\n",
       " '__reduce__',\n",
       " '__reduce_ex__',\n",
       " '__repr__',\n",
       " '__reversed__',\n",
       " '__rmul__',\n",
       " '__setattr__',\n",
       " '__setitem__',\n",
       " '__sizeof__',\n",
       " '__str__',\n",
       " '__subclasshook__',\n",
       " 'append',\n",
       " 'clear',\n",
       " 'copy',\n",
       " 'count',\n",
       " 'extend',\n",
       " 'index',\n",
       " 'insert',\n",
       " 'pop',\n",
       " 'remove',\n",
       " 'reverse',\n",
       " 'sort']"
      ]
     },
     "execution_count": 1,
     "metadata": {},
     "output_type": "execute_result"
    }
   ],
   "source": [
    "dir([])"
   ]
  },
  {
   "cell_type": "code",
   "execution_count": null,
   "id": "8cffb690-313e-4c09-930f-959e3196eb96",
   "metadata": {},
   "outputs": [],
   "source": [
    "'append',\n",
    "'clear',\n",
    "'copy',\n",
    "'count',\n",
    "'extend',\n",
    "'index',\n",
    "'insert',\n",
    "'pop',\n",
    "'remove',\n",
    "'reverse',\n",
    "'sort'"
   ]
  },
  {
   "cell_type": "code",
   "execution_count": null,
   "id": "34e42638-1f11-46bb-b949-8327cbc9c0fb",
   "metadata": {},
   "outputs": [],
   "source": [
    "- clear\n",
    "\n",
    "- copy\n",
    "\n",
    "- count\n",
    "\n",
    "- reverse\n",
    "\n",
    "- sort"
   ]
  },
  {
   "cell_type": "markdown",
   "id": "29a90f6d-25a1-4a21-934d-8a84aacbd218",
   "metadata": {},
   "source": [
    "**Clear**"
   ]
  },
  {
   "cell_type": "code",
   "execution_count": 2,
   "id": "359f7899-a7c0-4cbd-be45-658677b29f05",
   "metadata": {},
   "outputs": [],
   "source": [
    "l1=[1,2,3,'A','B','C']\n",
    "l1.clear()"
   ]
  },
  {
   "cell_type": "code",
   "execution_count": 3,
   "id": "70a51948-0507-4886-b695-7547a45af9ec",
   "metadata": {},
   "outputs": [
    {
     "data": {
      "text/plain": [
       "[]"
      ]
     },
     "execution_count": 3,
     "metadata": {},
     "output_type": "execute_result"
    }
   ],
   "source": [
    "l1"
   ]
  },
  {
   "cell_type": "markdown",
   "id": "af096628-d997-4d06-90d5-468af305a3a4",
   "metadata": {},
   "source": [
    "**Copy**"
   ]
  },
  {
   "cell_type": "code",
   "execution_count": 4,
   "id": "451db352-58ce-4ea8-bacb-722590bfb667",
   "metadata": {},
   "outputs": [],
   "source": [
    "l1=[1,2,3,'A','B','C']\n",
    "l2=l1.copy()\n",
    "l1.clear()"
   ]
  },
  {
   "cell_type": "code",
   "execution_count": 5,
   "id": "d73eccfd-c1be-4e60-b81b-db5037dbbe1e",
   "metadata": {},
   "outputs": [
    {
     "data": {
      "text/plain": [
       "[]"
      ]
     },
     "execution_count": 5,
     "metadata": {},
     "output_type": "execute_result"
    }
   ],
   "source": [
    "l1"
   ]
  },
  {
   "cell_type": "code",
   "execution_count": 6,
   "id": "5d35c88f-2885-460e-97ba-d82295f653e0",
   "metadata": {},
   "outputs": [
    {
     "data": {
      "text/plain": [
       "[1, 2, 3, 'A', 'B', 'C']"
      ]
     },
     "execution_count": 6,
     "metadata": {},
     "output_type": "execute_result"
    }
   ],
   "source": [
    "l2"
   ]
  },
  {
   "cell_type": "code",
   "execution_count": 11,
   "id": "33cb4529-52d7-4b4e-a4d8-1fab7264759f",
   "metadata": {},
   "outputs": [
    {
     "data": {
      "text/plain": [
       "4"
      ]
     },
     "execution_count": 11,
     "metadata": {},
     "output_type": "execute_result"
    }
   ],
   "source": [
    "l1=[1,2,3,3,3,3,'A','A','A','B','C']\n",
    "l1.count(3)"
   ]
  },
  {
   "cell_type": "code",
   "execution_count": 9,
   "id": "1b40dda7-a4dc-498b-8f67-c9d078496e0e",
   "metadata": {},
   "outputs": [
    {
     "data": {
      "text/plain": [
       "6"
      ]
     },
     "execution_count": 9,
     "metadata": {},
     "output_type": "execute_result"
    }
   ],
   "source": [
    "s1='aaaaaaaaabbbbbbbccc'\n",
    "s1.count('a',3)"
   ]
  },
  {
   "cell_type": "code",
   "execution_count": 12,
   "id": "1b71b3b9-5aa0-4433-a6fc-8c2f37922ed3",
   "metadata": {},
   "outputs": [
    {
     "ename": "TypeError",
     "evalue": "list.count() takes exactly one argument (2 given)",
     "output_type": "error",
     "traceback": [
      "\u001b[1;31m---------------------------------------------------------------------------\u001b[0m",
      "\u001b[1;31mTypeError\u001b[0m                                 Traceback (most recent call last)",
      "Cell \u001b[1;32mIn[12], line 2\u001b[0m\n\u001b[0;32m      1\u001b[0m l1\u001b[38;5;241m=\u001b[39m[\u001b[38;5;241m1\u001b[39m,\u001b[38;5;241m2\u001b[39m,\u001b[38;5;241m3\u001b[39m,\u001b[38;5;241m3\u001b[39m,\u001b[38;5;241m3\u001b[39m,\u001b[38;5;241m3\u001b[39m,\u001b[38;5;124m'\u001b[39m\u001b[38;5;124mA\u001b[39m\u001b[38;5;124m'\u001b[39m,\u001b[38;5;124m'\u001b[39m\u001b[38;5;124mA\u001b[39m\u001b[38;5;124m'\u001b[39m,\u001b[38;5;124m'\u001b[39m\u001b[38;5;124mA\u001b[39m\u001b[38;5;124m'\u001b[39m,\u001b[38;5;124m'\u001b[39m\u001b[38;5;124mB\u001b[39m\u001b[38;5;124m'\u001b[39m,\u001b[38;5;124m'\u001b[39m\u001b[38;5;124mC\u001b[39m\u001b[38;5;124m'\u001b[39m]\n\u001b[1;32m----> 2\u001b[0m l1\u001b[38;5;241m.\u001b[39mcount(\u001b[38;5;241m3\u001b[39m,\u001b[38;5;241m2\u001b[39m)\n",
      "\u001b[1;31mTypeError\u001b[0m: list.count() takes exactly one argument (2 given)"
     ]
    }
   ],
   "source": [
    "l1=[1,2,3,3,3,3,'A','A','A','B','C']\n",
    "l1.count(3,2)"
   ]
  },
  {
   "cell_type": "markdown",
   "id": "570c4bc9-ffa3-459e-beee-ab1f203bdff9",
   "metadata": {},
   "source": [
    "**reverse**"
   ]
  },
  {
   "cell_type": "code",
   "execution_count": 13,
   "id": "98dff2e5-2f98-403d-a0b5-b113116bafd6",
   "metadata": {},
   "outputs": [],
   "source": [
    "l1=[1,2,3,3,3,3,'A','A','A','B','C']\n",
    "l1.reverse()"
   ]
  },
  {
   "cell_type": "code",
   "execution_count": 14,
   "id": "c69f6c6f-fae7-4afd-8a9f-7368b90ffdd1",
   "metadata": {},
   "outputs": [
    {
     "data": {
      "text/plain": [
       "['C', 'B', 'A', 'A', 'A', 3, 3, 3, 3, 2, 1]"
      ]
     },
     "execution_count": 14,
     "metadata": {},
     "output_type": "execute_result"
    }
   ],
   "source": [
    "l1"
   ]
  },
  {
   "cell_type": "code",
   "execution_count": 15,
   "id": "d3fe67cf-a1e3-440d-82b5-eab2a5c22bdb",
   "metadata": {},
   "outputs": [
    {
     "data": {
      "text/plain": [
       "[1, 2, 3, 4, 5, 6]"
      ]
     },
     "execution_count": 15,
     "metadata": {},
     "output_type": "execute_result"
    }
   ],
   "source": [
    "l1=[1,2,3]\n",
    "l2=[4,5,6]\n",
    "l1+l2"
   ]
  },
  {
   "cell_type": "code",
   "execution_count": 16,
   "id": "1690c613-e106-499e-a33c-7e383d81a724",
   "metadata": {},
   "outputs": [
    {
     "data": {
      "text/plain": [
       "[1, 2, 3]"
      ]
     },
     "execution_count": 16,
     "metadata": {},
     "output_type": "execute_result"
    }
   ],
   "source": [
    "l1"
   ]
  },
  {
   "cell_type": "markdown",
   "id": "46318d1e-11ff-4d13-8e9a-e25c54f79ad6",
   "metadata": {},
   "source": [
    "**IN PLACE**\n",
    "\n",
    "- whenever you want to overwrite the operation output\n",
    "\n",
    "- in same variable we will use **inplace** \n",
    "\n",
    "- In place means overwriting the existing elements\n",
    "\n",
    "- some methods have inplace argument\n",
    "\n",
    "- inplace= True means overwrite\n",
    "\n",
    "- inplace = False means do not overwrites"
   ]
  },
  {
   "cell_type": "code",
   "execution_count": 17,
   "id": "c435cf61-b5f3-48e3-a7ac-25472fee980a",
   "metadata": {},
   "outputs": [],
   "source": [
    "lst=[10,20,20,30,'apple','apple','banana','axe','ape']\n",
    "lst.reverse()"
   ]
  },
  {
   "cell_type": "code",
   "execution_count": 18,
   "id": "01d753ab-8607-4bb0-a67c-51af3bf670cf",
   "metadata": {},
   "outputs": [
    {
     "data": {
      "text/plain": [
       "['ape', 'axe', 'banana', 'apple', 'apple', 30, 20, 20, 10]"
      ]
     },
     "execution_count": 18,
     "metadata": {},
     "output_type": "execute_result"
    }
   ],
   "source": [
    "lst"
   ]
  },
  {
   "cell_type": "markdown",
   "id": "8c6ceed6-8a4a-45c3-87d5-c77c51f32258",
   "metadata": {},
   "source": [
    "**Sort**"
   ]
  },
  {
   "cell_type": "code",
   "execution_count": 19,
   "id": "9bb2f3e5-e004-468e-ab07-a8ed57138558",
   "metadata": {},
   "outputs": [
    {
     "ename": "TypeError",
     "evalue": "'<' not supported between instances of 'str' and 'int'",
     "output_type": "error",
     "traceback": [
      "\u001b[1;31m---------------------------------------------------------------------------\u001b[0m",
      "\u001b[1;31mTypeError\u001b[0m                                 Traceback (most recent call last)",
      "Cell \u001b[1;32mIn[19], line 2\u001b[0m\n\u001b[0;32m      1\u001b[0m lst\u001b[38;5;241m=\u001b[39m[\u001b[38;5;241m10\u001b[39m,\u001b[38;5;241m20\u001b[39m,\u001b[38;5;241m20\u001b[39m,\u001b[38;5;241m30\u001b[39m,\u001b[38;5;124m'\u001b[39m\u001b[38;5;124mapple\u001b[39m\u001b[38;5;124m'\u001b[39m,\u001b[38;5;124m'\u001b[39m\u001b[38;5;124mapple\u001b[39m\u001b[38;5;124m'\u001b[39m,\u001b[38;5;124m'\u001b[39m\u001b[38;5;124mbanana\u001b[39m\u001b[38;5;124m'\u001b[39m,\u001b[38;5;124m'\u001b[39m\u001b[38;5;124maxe\u001b[39m\u001b[38;5;124m'\u001b[39m,\u001b[38;5;124m'\u001b[39m\u001b[38;5;124mape\u001b[39m\u001b[38;5;124m'\u001b[39m]\n\u001b[1;32m----> 2\u001b[0m lst\u001b[38;5;241m.\u001b[39msort()\n",
      "\u001b[1;31mTypeError\u001b[0m: '<' not supported between instances of 'str' and 'int'"
     ]
    }
   ],
   "source": [
    "lst=[10,20,20,30,'apple','apple','banana','axe','ape']\n",
    "lst.sort()"
   ]
  },
  {
   "cell_type": "markdown",
   "id": "c57c7024-6a4a-4393-af03-72fe2102748a",
   "metadata": {},
   "source": [
    "- sorted\n",
    "\n",
    "- reveresd\n",
    "\n",
    "- sort\n",
    "\n",
    "- reverse"
   ]
  },
  {
   "cell_type": "code",
   "execution_count": 20,
   "id": "3cea5de3-4622-4e67-912d-ddba52526f1f",
   "metadata": {},
   "outputs": [],
   "source": [
    "l1=[1,22,33,3]\n",
    "l1.sort()"
   ]
  },
  {
   "cell_type": "code",
   "execution_count": 21,
   "id": "c88511ae-bf43-4974-a747-8fe532515784",
   "metadata": {},
   "outputs": [
    {
     "data": {
      "text/plain": [
       "[1, 3, 22, 33]"
      ]
     },
     "execution_count": 21,
     "metadata": {},
     "output_type": "execute_result"
    }
   ],
   "source": [
    "l1"
   ]
  },
  {
   "cell_type": "code",
   "execution_count": 23,
   "id": "a7abd344-2c8f-4618-9e73-36cc8318001d",
   "metadata": {},
   "outputs": [
    {
     "data": {
      "text/plain": [
       "[1, 3, 22, 33]"
      ]
     },
     "execution_count": 23,
     "metadata": {},
     "output_type": "execute_result"
    }
   ],
   "source": [
    "l1=[1,22,33,3]\n",
    "sorted(l1)"
   ]
  },
  {
   "cell_type": "code",
   "execution_count": 24,
   "id": "47e2e815-3e83-4a6d-873a-8767c1e13b3d",
   "metadata": {},
   "outputs": [
    {
     "data": {
      "text/plain": [
       "[1, 22, 33, 3]"
      ]
     },
     "execution_count": 24,
     "metadata": {},
     "output_type": "execute_result"
    }
   ],
   "source": [
    "l1"
   ]
  },
  {
   "cell_type": "code",
   "execution_count": null,
   "id": "e78ae6f6-f9f3-4776-a77c-40883f9e89b2",
   "metadata": {},
   "outputs": [],
   "source": [
    "len([1,2,3])\n",
    "len('123')"
   ]
  },
  {
   "cell_type": "code",
   "execution_count": 25,
   "id": "3b42d399-a9cd-4acb-aeb2-0e7453c2db2e",
   "metadata": {},
   "outputs": [
    {
     "data": {
      "text/plain": [
       "['__add__',\n",
       " '__class__',\n",
       " '__contains__',\n",
       " '__delattr__',\n",
       " '__dir__',\n",
       " '__doc__',\n",
       " '__eq__',\n",
       " '__format__',\n",
       " '__ge__',\n",
       " '__getattribute__',\n",
       " '__getitem__',\n",
       " '__getnewargs__',\n",
       " '__getstate__',\n",
       " '__gt__',\n",
       " '__hash__',\n",
       " '__init__',\n",
       " '__init_subclass__',\n",
       " '__iter__',\n",
       " '__le__',\n",
       " '__len__',\n",
       " '__lt__',\n",
       " '__mod__',\n",
       " '__mul__',\n",
       " '__ne__',\n",
       " '__new__',\n",
       " '__reduce__',\n",
       " '__reduce_ex__',\n",
       " '__repr__',\n",
       " '__rmod__',\n",
       " '__rmul__',\n",
       " '__setattr__',\n",
       " '__sizeof__',\n",
       " '__str__',\n",
       " '__subclasshook__',\n",
       " 'capitalize',\n",
       " 'casefold',\n",
       " 'center',\n",
       " 'count',\n",
       " 'encode',\n",
       " 'endswith',\n",
       " 'expandtabs',\n",
       " 'find',\n",
       " 'format',\n",
       " 'format_map',\n",
       " 'index',\n",
       " 'isalnum',\n",
       " 'isalpha',\n",
       " 'isascii',\n",
       " 'isdecimal',\n",
       " 'isdigit',\n",
       " 'isidentifier',\n",
       " 'islower',\n",
       " 'isnumeric',\n",
       " 'isprintable',\n",
       " 'isspace',\n",
       " 'istitle',\n",
       " 'isupper',\n",
       " 'join',\n",
       " 'ljust',\n",
       " 'lower',\n",
       " 'lstrip',\n",
       " 'maketrans',\n",
       " 'partition',\n",
       " 'removeprefix',\n",
       " 'removesuffix',\n",
       " 'replace',\n",
       " 'rfind',\n",
       " 'rindex',\n",
       " 'rjust',\n",
       " 'rpartition',\n",
       " 'rsplit',\n",
       " 'rstrip',\n",
       " 'split',\n",
       " 'splitlines',\n",
       " 'startswith',\n",
       " 'strip',\n",
       " 'swapcase',\n",
       " 'title',\n",
       " 'translate',\n",
       " 'upper',\n",
       " 'zfill']"
      ]
     },
     "execution_count": 25,
     "metadata": {},
     "output_type": "execute_result"
    }
   ],
   "source": [
    "dir('')"
   ]
  },
  {
   "cell_type": "markdown",
   "id": "0fbfebf8-fa06-4342-ae5d-ef99737e5bfa",
   "metadata": {},
   "source": [
    "- keywords or inbuilt function str , list etc\n",
    "\n",
    "- methods is resepctvive data types only"
   ]
  },
  {
   "cell_type": "markdown",
   "id": "8009402b-747d-479a-815b-e1223d8ae2f8",
   "metadata": {},
   "source": [
    "**append**"
   ]
  },
  {
   "cell_type": "markdown",
   "id": "ed0aecb0-4fdc-44b7-8e63-3aa4c88a97db",
   "metadata": {},
   "source": [
    "- Till now we just printed the output\n",
    "\n",
    "- If you want to save the output in a list \n",
    "\n",
    "- then we can use append method\n",
    "\n",
    "- append means adding an element in a list\n",
    "\n",
    "- the element will add at last, and the output will be overwrite"
   ]
  },
  {
   "cell_type": "code",
   "execution_count": 27,
   "id": "5cfeb120-99f3-4f84-b66c-7df4a42f4a26",
   "metadata": {},
   "outputs": [
    {
     "data": {
      "text/plain": [
       "[1, 2, 3, 4, 40]"
      ]
     },
     "execution_count": 27,
     "metadata": {},
     "output_type": "execute_result"
    }
   ],
   "source": [
    "l=[1,2,3,4]\n",
    "l.append(40)\n",
    "l"
   ]
  },
  {
   "cell_type": "code",
   "execution_count": 28,
   "id": "1e7ba059-d472-4179-952e-063f5a98fc30",
   "metadata": {},
   "outputs": [
    {
     "data": {
      "text/plain": [
       "[1, 2, 3, 4, 20, 40]"
      ]
     },
     "execution_count": 28,
     "metadata": {},
     "output_type": "execute_result"
    }
   ],
   "source": [
    "l=[1,2,3,4]\n",
    "l.append(20)\n",
    "l.append(40)\n",
    "l"
   ]
  },
  {
   "cell_type": "code",
   "execution_count": 29,
   "id": "723a05b2-bffc-4fcb-82ce-62f73ac406aa",
   "metadata": {},
   "outputs": [
    {
     "ename": "TypeError",
     "evalue": "list.append() takes exactly one argument (2 given)",
     "output_type": "error",
     "traceback": [
      "\u001b[1;31m---------------------------------------------------------------------------\u001b[0m",
      "\u001b[1;31mTypeError\u001b[0m                                 Traceback (most recent call last)",
      "Cell \u001b[1;32mIn[29], line 1\u001b[0m\n\u001b[1;32m----> 1\u001b[0m l\u001b[38;5;241m.\u001b[39mappend(\u001b[38;5;241m20\u001b[39m,\u001b[38;5;241m30\u001b[39m)\n",
      "\u001b[1;31mTypeError\u001b[0m: list.append() takes exactly one argument (2 given)"
     ]
    }
   ],
   "source": [
    "l.append(20,30)"
   ]
  },
  {
   "cell_type": "code",
   "execution_count": 30,
   "id": "9168d0c7-a6d8-469d-b478-b6dc800e0b67",
   "metadata": {},
   "outputs": [
    {
     "data": {
      "text/plain": [
       "[1, 2, 3, 4, ['Apple', 'Banana']]"
      ]
     },
     "execution_count": 30,
     "metadata": {},
     "output_type": "execute_result"
    }
   ],
   "source": [
    "l=[1,2,3,4]\n",
    "l.append(['Apple','Banana'])\n",
    "l"
   ]
  },
  {
   "cell_type": "markdown",
   "id": "30bd65c7-1c1d-48e7-b239-3691aeabcd0d",
   "metadata": {},
   "source": [
    "**How to fill the values in a empty string**\n",
    "\n",
    "**How to fill the values in a empty list**"
   ]
  },
  {
   "cell_type": "code",
   "execution_count": 31,
   "id": "c325c823-d620-4504-8b7b-f13a3bd45353",
   "metadata": {},
   "outputs": [
    {
     "data": {
      "text/plain": [
       "'apple'"
      ]
     },
     "execution_count": 31,
     "metadata": {},
     "output_type": "execute_result"
    }
   ],
   "source": [
    "s=''\n",
    "s=s+'apple'\n",
    "s"
   ]
  },
  {
   "cell_type": "code",
   "execution_count": 33,
   "id": "79d93309-3e8f-449f-8bf0-22a6e9059d82",
   "metadata": {},
   "outputs": [
    {
     "data": {
      "text/plain": [
       "['apple']"
      ]
     },
     "execution_count": 33,
     "metadata": {},
     "output_type": "execute_result"
    }
   ],
   "source": [
    "l=[]\n",
    "l=l+['apple']\n",
    "l"
   ]
  },
  {
   "cell_type": "code",
   "execution_count": 34,
   "id": "64411fd1-976f-44ca-8f18-d71322a42b5d",
   "metadata": {},
   "outputs": [
    {
     "data": {
      "text/plain": [
       "['Apple']"
      ]
     },
     "execution_count": 34,
     "metadata": {},
     "output_type": "execute_result"
    }
   ],
   "source": [
    "l=[]\n",
    "l.append('Apple')\n",
    "l"
   ]
  },
  {
   "cell_type": "code",
   "execution_count": null,
   "id": "1c064d96-c032-42c5-aeb2-7736197668a7",
   "metadata": {},
   "outputs": [],
   "source": [
    "#but if we need to add 10 element then we have to do 10 times append ?\n",
    "l=[]\n",
    "l.append(10)\n",
    "l.append(10)\n",
    "l.append(10)\n",
    "l.append(10)\n"
   ]
  },
  {
   "cell_type": "code",
   "execution_count": 35,
   "id": "0e716ce2-e233-4842-87b6-383f10f6f0a9",
   "metadata": {},
   "outputs": [
    {
     "data": {
      "text/plain": [
       "[10, 10, 10, 10, 10, 10, 10, 10, 10, 10]"
      ]
     },
     "execution_count": 35,
     "metadata": {},
     "output_type": "execute_result"
    }
   ],
   "source": [
    "l=[]\n",
    "for i in range(10):\n",
    "    l.append(10)\n",
    "l"
   ]
  },
  {
   "cell_type": "code",
   "execution_count": 36,
   "id": "e518ec17-18dd-4cb2-a83e-646ba8829b87",
   "metadata": {},
   "outputs": [
    {
     "data": {
      "text/plain": [
       "[1, 2, 3, 4, 5, 6, 7, 8, 9, 10]"
      ]
     },
     "execution_count": 36,
     "metadata": {},
     "output_type": "execute_result"
    }
   ],
   "source": [
    "l=[]\n",
    "for i in range(1,11):\n",
    "    l.append(i)\n",
    "l"
   ]
  },
  {
   "cell_type": "code",
   "execution_count": 39,
   "id": "b925edd6-2eee-4b6f-a195-5f45a2d2306c",
   "metadata": {},
   "outputs": [
    {
     "data": {
      "text/plain": [
       "[1, 4, 9, 16, 25]"
      ]
     },
     "execution_count": 39,
     "metadata": {},
     "output_type": "execute_result"
    }
   ],
   "source": [
    "l=[]\n",
    "for i in range(1,6):\n",
    "    l.append(i*i)\n",
    "l"
   ]
  },
  {
   "cell_type": "markdown",
   "id": "3ef56df0-ec4f-4c59-98b3-436cd05f2f06",
   "metadata": {},
   "source": [
    "**Extend**"
   ]
  },
  {
   "cell_type": "code",
   "execution_count": null,
   "id": "372c4194-bf6b-48d3-aff3-fb095dacc957",
   "metadata": {},
   "outputs": [],
   "source": [
    "# take 1 list = l1=[1,2,3,4]\n",
    "# take 2 list = l2=['A','B','C']\n",
    "# l1.append(l2)\n",
    "# l1+l2\n",
    "# l1.extend(l2)\n",
    "\n",
    "# "
   ]
  },
  {
   "cell_type": "code",
   "execution_count": 42,
   "id": "9886b1c5-bfa2-4280-bd89-4d3cdafacc41",
   "metadata": {},
   "outputs": [
    {
     "name": "stdout",
     "output_type": "stream",
     "text": [
      "l1: [1, 2, 3, 4, ['A', 'B', 'C']]\n",
      "l2: ['A', 'B', 'C']\n"
     ]
    }
   ],
   "source": [
    "l1=[1,2,3,4]\n",
    "l2=['A','B','C']\n",
    "l1.append(l2)\n",
    "print('l1:',l1)\n",
    "print('l2:',l2)"
   ]
  },
  {
   "cell_type": "code",
   "execution_count": 43,
   "id": "cd0ec39f-3a68-4fb1-a861-8247805e8e32",
   "metadata": {},
   "outputs": [
    {
     "name": "stdout",
     "output_type": "stream",
     "text": [
      "l1: [1, 2, 3, 4, 'A', 'B', 'C']\n",
      "l2: ['A', 'B', 'C']\n"
     ]
    }
   ],
   "source": [
    "l1=[1,2,3,4]\n",
    "l2=['A','B','C']\n",
    "l1.extend(l2)\n",
    "print('l1:',l1)\n",
    "print('l2:',l2)"
   ]
  },
  {
   "cell_type": "code",
   "execution_count": 45,
   "id": "518555ab-b636-4d76-a2d5-fadb51c68ad3",
   "metadata": {},
   "outputs": [
    {
     "name": "stdout",
     "output_type": "stream",
     "text": [
      "[1, 2, 3, 4, 'A', 'B', 'C']\n",
      "l1: [1, 2, 3, 4]\n",
      "l2: ['A', 'B', 'C']\n"
     ]
    }
   ],
   "source": [
    "l1=[1,2,3,4]\n",
    "l2=['A','B','C']\n",
    "print(l1+l2)\n",
    "print('l1:',l1)\n",
    "print('l2:',l2)"
   ]
  },
  {
   "cell_type": "code",
   "execution_count": 3,
   "id": "55037f64-9209-4e35-80ca-2c84893da189",
   "metadata": {},
   "outputs": [
    {
     "name": "stdin",
     "output_type": "stream",
     "text": [
      "enter the number: 3\n",
      "enter the number: 5\n",
      "enter the number: 6\n",
      "enter the number: 7\n",
      "enter the number: 8\n"
     ]
    },
    {
     "data": {
      "text/plain": [
       "([6, 8], [3, 5, 7])"
      ]
     },
     "execution_count": 3,
     "metadata": {},
     "output_type": "execute_result"
    }
   ],
   "source": [
    "# WAP1) Ask the user enter 5 values get the evn numbers and odd numbers list\n",
    "# Idea : we alreday did this but we use print statement\n",
    "#       instead of print the values, append the values\n",
    "# take two list\n",
    "# even_list=[]\n",
    "# odd_list=[]\n",
    "# perform the operation\n",
    "even_list,odd_list=[],[]\n",
    "for i in range(5):\n",
    "    num=eval(input('enter the number:'))\n",
    "    if num%2==0:\n",
    "        even_list.append(num)\n",
    "    else:\n",
    "        odd_list.append(num)\n",
    "\n",
    "even_list,odd_list"
   ]
  },
  {
   "cell_type": "code",
   "execution_count": 5,
   "id": "56e38b0e-07cc-4672-838c-94af359a8930",
   "metadata": {},
   "outputs": [
    {
     "name": "stdin",
     "output_type": "stream",
     "text": [
      "Who is PM of india Rohit\n",
      "Who is ICT ODI captain \n",
      "How many states are there in India \n"
     ]
    }
   ],
   "source": [
    "# Q2) WAP \n",
    "# l=['hyd','mumbai','chennai']\n",
    "# op=['HYD','MUMBAI','CHENNAI']\n",
    "\n",
    "# Q3) WAP\n",
    "# L=['hyd','mumbai','chennai']\n",
    "# o=['Hyd','Mumbai','Chennai']\n",
    "\n",
    "# Q4) Wap\n",
    "# L=['hyd','mum#bai','chen#nai']\n",
    "# o=[mum#bai','chen#nai']\n",
    "\n",
    "# Q5) Wap\n",
    "# L=['hyd','mum#bai','chen#nai']\n",
    "# o=['hyd']\n",
    "\n",
    "# Q6): string='hello hai how are you'\n",
    "#  op= ['Hello','Hai','How','Are','You']\n",
    "\n",
    "# Q7): \n",
    "# input:\n",
    "# string1='virat.kohli@rcb.com, Rohit.sharma@Mi.co,\n",
    "#           Dhoni.Mahendra@csk.com'\n",
    "\n",
    "# output\n",
    "# fnames=['virat','Rohit','Dhoni']\n",
    "# sname=['kohli,sharma,Mahendar']\n",
    "# cname=['rcb','Mi','Csk']\n",
    "\n",
    "# Q8) string1='can canner can you can not canner can be can'\n",
    "# Get the count of each word in above string in a list\n",
    "# o.p: ['can-5','canner-2','you-1','not-1','be-1']\n",
    "\n",
    "\n",
    "# Q9)  get 5 randm numbers between 1 to 100 \n",
    "#      append in a list\n",
    "#    Find the maximum and minimu value of a given list\n",
    "#     with out using max and min functions\n",
    "\n",
    "\n",
    "# Q10) list_qns=['Who is PM of india','Who is ICT ODI captain',\n",
    "#               'How many states are there in India']\n",
    "#      list_ans= ['Modi','Rohit',29]\n",
    "# step-1: Iterate each qn\n",
    "# step-2: ask the user enter the answer for corresponding qn\n",
    "# step-3: match that answer with list_ans\n",
    "# Note:  Make sure first qns ans match with first index of the ans \n",
    "# step-4: if both are match give the one mark\n",
    "# step-5: Finally print how many qns are correct\n",
    "#         how many marks got\n",
    "\n",
    "list_qns=['Who is PM of india','Who is ICT ODI captain',\n",
    "               'How many states are there in India']\n",
    "list_ans= ['Modi','Rohit',29]\n",
    "for i in list_qns:\n",
    "    ans=input(i)\n",
    "    if ans im list_ans:"
   ]
  },
  {
   "cell_type": "code",
   "execution_count": null,
   "id": "869836f3-805a-4551-8efd-ce82d6239106",
   "metadata": {},
   "outputs": [],
   "source": [
    "# attend the both\n",
    "# enjoyed the both\n",
    "# dont skip   3 == \n",
    "# good end to end"
   ]
  },
  {
   "cell_type": "code",
   "execution_count": null,
   "id": "ece0a851-9c0e-43a4-a8f3-97171ecb0b83",
   "metadata": {},
   "outputs": [],
   "source": [
    "TextLoader\n",
    "Textloader\n",
    "# starting === fun \n",
    "# so much ==== fun\n",
    "\n",
    "# \n",
    "# Naresh it \n",
    "# Sep 15th ==== \n",
    "\n",
    "# === workshops every weekend \n",
    "# other trainer \n",
    "# Langchain+RAG+FASTAPI === \n",
    "# Python part2   \n",
    "# statit\n",
    "\n",
    "# workshop 750 +550 \n",
    "# 350 \n",
    "# rag : 68 \n",
    "\n",
    "# workshops\n",
    "# youtube === pratcice\n",
    "# like -share -comment\n",
    "# ====\n",
    "\n"
   ]
  },
  {
   "cell_type": "code",
   "execution_count": null,
   "id": "db97ef99-6bfa-4fb7-a380-554b0b88ce96",
   "metadata": {},
   "outputs": [],
   "source": [
    "# Q2) WAP \n",
    "# l=['hyd','mumbai','chennai']\n",
    "# op=['HYD','MUMBAI','CHENNAI']\n",
    "\n",
    "# Q3) WAP\n",
    "# L=['hyd','mumbai','chennai']\n",
    "# o=['Hyd','Mumbai','Chennai']\n",
    "\n",
    "# Q4) Wap\n",
    "# L=['hyd','mum#bai','chen#nai']\n",
    "# o=[mum#bai','chen#nai']\n",
    "\n",
    "# Q5) Wap\n",
    "# L=['hyd','mum#bai','chen#nai']\n",
    "# o=['hyd']\n",
    "\n",
    "\n",
    "\n",
    "# Q7): \n",
    "# input:\n",
    "# string1='virat.kohli@rcb.com, Rohit.sharma@Mi.co,\n",
    "#           Dhoni.Mahendra@csk.com'\n",
    "\n",
    "# output\n",
    "# fnames=['virat','Rohit','Dhoni']\n",
    "# sname=['kohli,sharma,Mahendar']\n",
    "# cname=['rcb','Mi','Csk']\n",
    "\n",
    "# Q8) string1='can canner can you can not canner can be can'\n",
    "# Get the count of each word in above string in a list\n",
    "# o.p: ['can-5','canner-2','you-1','not-1','be-1']\n",
    "\n",
    "\n",
    "# Q9)  get 5 randm numbers between 1 to 100 \n",
    "#      append in a list\n",
    "#    Find the maximum and minimu value of a given list\n",
    "#     with out using max and min functions\n",
    "\n",
    "\n",
    "# Q10) list_qns=['Who is PM of india','Who is ICT ODI captain',\n",
    "#               'How many states are there in India']\n",
    "#      list_ans= ['Modi','Rohit',29]\n",
    "# step-1: Iterate each qn\n",
    "# step-2: ask the user enter the answer for corresponding qn\n",
    "# step-3: match that answer with list_ans\n",
    "# Note:  Make sure first qns ans match with first index of the ans \n",
    "# step-4: if both are match give the one mark\n",
    "# step-5: Finally print how many qns are correct\n",
    "#         how many marks got\n",
    "\n",
    "# list_qns=['Who is PM of india','Who is ICT ODI captain',\n",
    "#                'How many states are there in India']\n",
    "# list_ans= ['Modi','Rohit',29]\n",
    "# for i in list_qns:\n",
    "#     ans=input(i)\n",
    "#     if ans im list_ans:"
   ]
  },
  {
   "cell_type": "code",
   "execution_count": 3,
   "id": "3d4f2120-83b2-4016-95e5-e65777dc07f0",
   "metadata": {},
   "outputs": [
    {
     "data": {
      "text/plain": [
       "['mum#bai', 'chen#nai']"
      ]
     },
     "execution_count": 3,
     "metadata": {},
     "output_type": "execute_result"
    }
   ],
   "source": [
    "# Q4) Wap\n",
    "# L=['hyd','mum#bai','chen#nai']\n",
    "# o=[mum#bai','chen#nai']\n",
    "\n",
    "L=['hyd','mum#bai','chen#nai']\n",
    "o=[]\n",
    "for i in L:\n",
    "    if '#' in i:\n",
    "        o.append(i)\n",
    "\n",
    "o"
   ]
  },
  {
   "cell_type": "code",
   "execution_count": 4,
   "id": "53caa15e-db4d-42e6-8eab-8e128aa74cc9",
   "metadata": {},
   "outputs": [
    {
     "data": {
      "text/plain": [
       "['hyd']"
      ]
     },
     "execution_count": 4,
     "metadata": {},
     "output_type": "execute_result"
    }
   ],
   "source": [
    "L=['hyd','mum#bai','chen#nai']\n",
    "o=[]\n",
    "for i in L:\n",
    "    if '#' not in i:\n",
    "        o.append(i)\n",
    "\n",
    "o"
   ]
  },
  {
   "cell_type": "code",
   "execution_count": 6,
   "id": "f0e68daf-e2e2-4ad4-90cb-7d14a83086cb",
   "metadata": {},
   "outputs": [
    {
     "data": {
      "text/plain": [
       "['Hello', 'Hai', 'How', 'Are', 'You']"
      ]
     },
     "execution_count": 6,
     "metadata": {},
     "output_type": "execute_result"
    }
   ],
   "source": [
    "# Q6): string='hello hai how are you'\n",
    "#  op= ['Hello','Hai','How','Are','You']\n",
    "\n",
    "string='hello hai how are you'\n",
    "lst=string.split()\n",
    "o=[]\n",
    "for i in lst:\n",
    "    o.append(i.capitalize())\n",
    "o"
   ]
  },
  {
   "cell_type": "code",
   "execution_count": 8,
   "id": "a9822b19-d535-4d31-8e5a-ca7020272647",
   "metadata": {},
   "outputs": [
    {
     "data": {
      "text/plain": [
       "['Hello', 'Hai', 'How', 'Are', 'You']"
      ]
     },
     "execution_count": 8,
     "metadata": {},
     "output_type": "execute_result"
    }
   ],
   "source": [
    "string='hello hai how are you'\n",
    "string.title().split()"
   ]
  },
  {
   "cell_type": "markdown",
   "id": "c721cae5-a731-4cd2-b0bf-e86334bafbe8",
   "metadata": {},
   "source": [
    "**Join**"
   ]
  },
  {
   "cell_type": "code",
   "execution_count": 10,
   "id": "5bd0f747-2f6a-4864-809a-4df9b925765d",
   "metadata": {},
   "outputs": [
    {
     "data": {
      "text/plain": [
       "['hello', 'hai', 'how', 'are', 'you']"
      ]
     },
     "execution_count": 10,
     "metadata": {},
     "output_type": "execute_result"
    }
   ],
   "source": [
    "string='hello hai how are you'\n",
    "l=string.split()\n",
    "l"
   ]
  },
  {
   "cell_type": "code",
   "execution_count": 12,
   "id": "1ea474cf-5101-4e76-aef5-d6ce036fb91b",
   "metadata": {},
   "outputs": [
    {
     "data": {
      "text/plain": [
       "'hello hai how are you'"
      ]
     },
     "execution_count": 12,
     "metadata": {},
     "output_type": "execute_result"
    }
   ],
   "source": [
    "' '.join(l)"
   ]
  },
  {
   "cell_type": "code",
   "execution_count": 13,
   "id": "b83e1448-75e2-4817-9d1d-5a661c894665",
   "metadata": {},
   "outputs": [
    {
     "data": {
      "text/plain": [
       "'hello***hai***how***are***you'"
      ]
     },
     "execution_count": 13,
     "metadata": {},
     "output_type": "execute_result"
    }
   ],
   "source": [
    "'***'.join(l)"
   ]
  },
  {
   "cell_type": "markdown",
   "id": "01fc4e49-ebc1-46bb-a536-8a7ffadee0d7",
   "metadata": {},
   "source": [
    "- split and join together\n",
    "\n",
    "- split works for strings\n",
    "\n",
    "- join works for list"
   ]
  },
  {
   "cell_type": "code",
   "execution_count": 16,
   "id": "85fd5782-e857-4231-b249-e87fa1e84a3c",
   "metadata": {},
   "outputs": [
    {
     "data": {
      "text/plain": [
       "('virat', 'kohli', 'rcb')"
      ]
     },
     "execution_count": 16,
     "metadata": {},
     "output_type": "execute_result"
    }
   ],
   "source": [
    "# Q7): \n",
    "# input:\n",
    "# string1='virat.kohli@rcb.com, Rohit.sharma@Mi.co,\n",
    "#           Dhoni.Mahendra@csk.com'\n",
    "\n",
    "# output\n",
    "# fnames=['virat','Rohit','Dhoni']\n",
    "# sname=['kohli,sharma,Mahendar']\n",
    "# cname=['rcb','Mi','Csk']\n",
    "\n",
    "string1='virat.kohli@rcb.com, Rohit.sharma@Mi.co, Dhoni.Mahendra@csk.com'\n",
    "l=string1.split()\n",
    "l[0]\n",
    "first_dot_index=l[0].index('.')\n",
    "second_dot_index=l[0].index('.',1+first_dot_index)\n",
    "index_at_the_rat=l[0].index('@')\n",
    "first_name=l[0][:first_dot_index]\n",
    "sname=l[0][first_dot_index+1:index_at_the_rat]\n",
    "cname=l[0][index_at_the_rat+1:second_dot_index]\n",
    "first_name,sname,cname"
   ]
  },
  {
   "cell_type": "code",
   "execution_count": 18,
   "id": "0f4ac9bc-522c-4d1a-a2d0-ec707be83b16",
   "metadata": {},
   "outputs": [
    {
     "data": {
      "text/plain": [
       "(['virat', 'Rohit', 'Dhoni'],\n",
       " ['kohli', 'sharma', 'Mahendra'],\n",
       " ['rcb', 'Mi', 'csk'])"
      ]
     },
     "execution_count": 18,
     "metadata": {},
     "output_type": "execute_result"
    }
   ],
   "source": [
    "string1='virat.kohli@rcb.com, Rohit.sharma@Mi.co, Dhoni.Mahendra@csk.com'\n",
    "l=string1.split()\n",
    "\n",
    "fname=[]\n",
    "sname=[]\n",
    "cname=[]\n",
    "for i in range(len(l)):\n",
    "    first_dot_index=l[i].index('.')\n",
    "    second_dot_index=l[i].index('.',1+first_dot_index)\n",
    "    index_at_the_rat=l[i].index('@')\n",
    "    f1=l[i][:first_dot_index]\n",
    "    s1=l[i][first_dot_index+1:index_at_the_rat]\n",
    "    c1=l[i][index_at_the_rat+1:second_dot_index]\n",
    "    fname.append(f1)\n",
    "    sname.append(s1)\n",
    "    cname.append(c1)\n",
    "fname,sname,cname"
   ]
  },
  {
   "cell_type": "code",
   "execution_count": 39,
   "id": "b1532bb7-01c8-4491-ac5e-e60e46a2ef7a",
   "metadata": {},
   "outputs": [
    {
     "data": {
      "text/plain": [
       "['can-5', 'canner-2', 'you-1', 'not-1', 'be-1']"
      ]
     },
     "execution_count": 39,
     "metadata": {},
     "output_type": "execute_result"
    }
   ],
   "source": [
    "# Q8) string1='can canner can you can not canner can be can'\n",
    "# Get the count of each word in above string in a list\n",
    "# o.p: ['can-5','canner-2','you-1','not-1','be-1']\n",
    "string1='can canner can you can not canner can be can'\n",
    "l=string1.split() #[can,canner,can,you, can, not, canner, can, be, can]\n",
    "l1=[]\n",
    "o=[]\n",
    "for i in l:\n",
    "    if i not in l1:\n",
    "        o.append(f\"{i}-{l.count(i)}\")\n",
    "        l1.append(i)\n",
    "\n",
    "\n",
    "# step-1: i='can'   'can' not in []   can=5   l1=['can']\n",
    "# step-1: i='canner'   'cannner' not in ['can']   canner=2   l1=['can','canner']\n",
    "# step-1: i='can'   'can' not in ['can','canner']   False\n",
    "\n",
    "o"
   ]
  },
  {
   "cell_type": "code",
   "execution_count": 24,
   "id": "373cc761-ea84-4888-89c5-2f0890b333f6",
   "metadata": {},
   "outputs": [
    {
     "data": {
      "text/plain": [
       "3"
      ]
     },
     "execution_count": 24,
     "metadata": {},
     "output_type": "execute_result"
    }
   ],
   "source": [
    "string1='can canner can you can not canner can be can'\n",
    "string1.count('e')"
   ]
  },
  {
   "cell_type": "code",
   "execution_count": 28,
   "id": "7e909aae-8943-4006-a0ed-5c12f023a816",
   "metadata": {},
   "outputs": [
    {
     "data": {
      "text/plain": [
       "2"
      ]
     },
     "execution_count": 28,
     "metadata": {},
     "output_type": "execute_result"
    }
   ],
   "source": [
    "l=['priyanka','priyanka']\n",
    "l.count('priyanka')"
   ]
  },
  {
   "cell_type": "code",
   "execution_count": 29,
   "id": "b0e46062-e38b-4d66-9d1c-272dfddea2eb",
   "metadata": {},
   "outputs": [
    {
     "data": {
      "text/plain": [
       "2"
      ]
     },
     "execution_count": 29,
     "metadata": {},
     "output_type": "execute_result"
    }
   ],
   "source": [
    "s='priyanka priyanka'\n",
    "s.count('priyanka')"
   ]
  },
  {
   "cell_type": "code",
   "execution_count": 40,
   "id": "b82f8d92-9227-448c-b664-86ffed53fc68",
   "metadata": {},
   "outputs": [],
   "source": [
    "# Take some paragraph from wikipedia\n",
    "# Print how many words count\n",
    "# each word and its count\n",
    "\n",
    "# Condition: aviod stop words\n",
    "# ['a','an','the']\n",
    "para=\"\"\"Data science is \"a concept to unify statistics, data analysis, informatics, and their related methods\" to \n",
    "     \"understand and analyze actual phenomena\" with data.[5] It uses techniques and theories drawn from many fields within the context of mathematics,\n",
    "     statistics, computer science, information science, and domain knowledge.\n",
    "     [6] However, data science is different from computer science and information science. \n",
    "     Turing Award winner Jim Gray imagined data science as a \"fourth paradigm\" of science \n",
    "     (empirical, theoretical, computational, and now data-driven) \n",
    "     and asserted that \"everything about science is changing because of the impact of information technology\" and the data deluge.[7][8]\n",
    "    \"\"\"\n",
    "\n",
    "# Idea: make a new paragraph with out punctuations with out numbers\n",
    "# idea: make a another paragreaph with out  'a' ,'an','the'\n",
    "# count words\n",
    "\n",
    "# How many times Data repetaed\n",
    "# like each and evry word"
   ]
  },
  {
   "cell_type": "code",
   "execution_count": 41,
   "id": "5fcf4580-8df1-4eed-a6e4-f6b7f22b61fa",
   "metadata": {},
   "outputs": [
    {
     "data": {
      "text/plain": [
       "['Data',\n",
       " 'science',\n",
       " 'is',\n",
       " '\"a',\n",
       " 'concept',\n",
       " 'to',\n",
       " 'unify',\n",
       " 'statistics,',\n",
       " 'data',\n",
       " 'analysis,',\n",
       " 'informatics,',\n",
       " 'and',\n",
       " 'their',\n",
       " 'related',\n",
       " 'methods\"',\n",
       " 'to',\n",
       " '\"understand',\n",
       " 'and',\n",
       " 'analyze',\n",
       " 'actual',\n",
       " 'phenomena\"',\n",
       " 'with',\n",
       " 'data.[5]',\n",
       " 'It',\n",
       " 'uses',\n",
       " 'techniques',\n",
       " 'and',\n",
       " 'theories',\n",
       " 'drawn',\n",
       " 'from',\n",
       " 'many',\n",
       " 'fields',\n",
       " 'within',\n",
       " 'the',\n",
       " 'context',\n",
       " 'of',\n",
       " 'mathematics,',\n",
       " 'statistics,',\n",
       " 'computer',\n",
       " 'science,',\n",
       " 'information',\n",
       " 'science,',\n",
       " 'and',\n",
       " 'domain',\n",
       " 'knowledge.',\n",
       " '[6]',\n",
       " 'However,',\n",
       " 'data',\n",
       " 'science',\n",
       " 'is',\n",
       " 'different',\n",
       " 'from',\n",
       " 'computer',\n",
       " 'science',\n",
       " 'and',\n",
       " 'information',\n",
       " 'science.',\n",
       " 'Turing',\n",
       " 'Award',\n",
       " 'winner',\n",
       " 'Jim',\n",
       " 'Gray',\n",
       " 'imagined',\n",
       " 'data',\n",
       " 'science',\n",
       " 'as',\n",
       " 'a',\n",
       " '\"fourth',\n",
       " 'paradigm\"',\n",
       " 'of',\n",
       " 'science',\n",
       " '(empirical,',\n",
       " 'theoretical,',\n",
       " 'computational,',\n",
       " 'and',\n",
       " 'now',\n",
       " 'data-driven)',\n",
       " 'and',\n",
       " 'asserted',\n",
       " 'that',\n",
       " '\"everything',\n",
       " 'about',\n",
       " 'science',\n",
       " 'is',\n",
       " 'changing',\n",
       " 'because',\n",
       " 'of',\n",
       " 'the',\n",
       " 'impact',\n",
       " 'of',\n",
       " 'information',\n",
       " 'technology\"',\n",
       " 'and',\n",
       " 'the',\n",
       " 'data',\n",
       " 'deluge.[7][8]']"
      ]
     },
     "execution_count": 41,
     "metadata": {},
     "output_type": "execute_result"
    }
   ],
   "source": [
    "para.split()"
   ]
  },
  {
   "cell_type": "code",
   "execution_count": 42,
   "id": "df30e8e0-0908-43cc-a913-050ab4fbb496",
   "metadata": {},
   "outputs": [],
   "source": [
    "import string"
   ]
  },
  {
   "cell_type": "code",
   "execution_count": 43,
   "id": "9e2262ea-7bbd-431d-875f-ba38ab3e5ad7",
   "metadata": {},
   "outputs": [
    {
     "data": {
      "text/plain": [
       "'!\"#$%&\\'()*+,-./:;<=>?@[\\\\]^_`{|}~'"
      ]
     },
     "execution_count": 43,
     "metadata": {},
     "output_type": "execute_result"
    }
   ],
   "source": [
    "string.punctuation"
   ]
  },
  {
   "cell_type": "code",
   "execution_count": 44,
   "id": "16351f34-fc05-4e9c-839c-bcc6a522121f",
   "metadata": {},
   "outputs": [
    {
     "data": {
      "text/plain": [
       "'0123456789'"
      ]
     },
     "execution_count": 44,
     "metadata": {},
     "output_type": "execute_result"
    }
   ],
   "source": [
    "string.digits"
   ]
  },
  {
   "cell_type": "code",
   "execution_count": 48,
   "id": "dfe4264c-4769-4427-aeb8-87c3d8853c26",
   "metadata": {},
   "outputs": [
    {
     "name": "stdin",
     "output_type": "stream",
     "text": [
      "Who is PM of india: MODI\n",
      "Who is ICT ODI captain: sharma\n",
      "How many states are there in India: 29\n"
     ]
    }
   ],
   "source": [
    "# Q10) list_qns=['Who is PM of india','Who is ICT ODI captain',\n",
    "#               'How many states are there in India']\n",
    "#      list_ans= ['Modi','Rohit',29]\n",
    "\n",
    "list_qns=['Who is PM of india','Who is ICT ODI captain',\n",
    "            'How many states are there in India']\n",
    "\n",
    "list_ans= ['Modi','Rohit',29]\n",
    "for qn in list_qns:\n",
    "    ans=input(qn+':')\n",
    "    if list_ans[<qn index>]"
   ]
  },
  {
   "cell_type": "code",
   "execution_count": 52,
   "id": "d7ce98b9-cd8f-434e-b941-1429447439a9",
   "metadata": {},
   "outputs": [
    {
     "data": {
      "text/plain": [
       "'Modi'"
      ]
     },
     "execution_count": 52,
     "metadata": {},
     "output_type": "execute_result"
    }
   ],
   "source": [
    "list_qns=['Who is PM of india','Who is ICT ODI captain',\n",
    "            'How many states are there in India']\n",
    "list_ans[list_qns.index('Who is PM of india')]"
   ]
  },
  {
   "cell_type": "code",
   "execution_count": 53,
   "id": "ae60f376-ce92-4017-91c6-925574ef0035",
   "metadata": {},
   "outputs": [
    {
     "data": {
      "text/plain": [
       "'Rohit'"
      ]
     },
     "execution_count": 53,
     "metadata": {},
     "output_type": "execute_result"
    }
   ],
   "source": [
    "list_ans[list_qns.index('Who is ICT ODI captain')]"
   ]
  },
  {
   "cell_type": "code",
   "execution_count": 54,
   "id": "40868d79-e44c-4bad-9a1f-e55c98d8b1df",
   "metadata": {},
   "outputs": [
    {
     "data": {
      "text/plain": [
       "29"
      ]
     },
     "execution_count": 54,
     "metadata": {},
     "output_type": "execute_result"
    }
   ],
   "source": [
    "list_ans[list_qns.index('How many states are there in India')]"
   ]
  },
  {
   "cell_type": "code",
   "execution_count": null,
   "id": "0c2b3cdc-2bb4-4e1b-9d75-c7311aa2eed5",
   "metadata": {},
   "outputs": [],
   "source": [
    "# First get each qns\n",
    "# get the index of the each qns\n",
    "# pass that index to the list ans ==== > original answer\n",
    "# compare user answer with original answer"
   ]
  },
  {
   "cell_type": "code",
   "execution_count": 62,
   "id": "d061e550-5a1d-462c-b774-e90322de9a40",
   "metadata": {},
   "outputs": [
    {
     "name": "stdin",
     "output_type": "stream",
     "text": [
      "Who is PM of india: MODI\n"
     ]
    },
    {
     "name": "stdout",
     "output_type": "stream",
     "text": [
      "correct\n"
     ]
    },
    {
     "name": "stdin",
     "output_type": "stream",
     "text": [
      "Who is ICT ODI captain: roHIT\n"
     ]
    },
    {
     "name": "stdout",
     "output_type": "stream",
     "text": [
      "correct\n"
     ]
    },
    {
     "name": "stdin",
     "output_type": "stream",
     "text": [
      "How many states are there in India: 29\n"
     ]
    },
    {
     "ename": "AttributeError",
     "evalue": "'int' object has no attribute 'casefold'",
     "output_type": "error",
     "traceback": [
      "\u001b[1;31m---------------------------------------------------------------------------\u001b[0m",
      "\u001b[1;31mAttributeError\u001b[0m                            Traceback (most recent call last)",
      "Cell \u001b[1;32mIn[62], line 9\u001b[0m\n\u001b[0;32m      7\u001b[0m \u001b[38;5;28mid\u001b[39m\u001b[38;5;241m=\u001b[39mlist_qns\u001b[38;5;241m.\u001b[39mindex(qn)\n\u001b[0;32m      8\u001b[0m original_ans\u001b[38;5;241m=\u001b[39mlist_ans[\u001b[38;5;28mid\u001b[39m]\n\u001b[1;32m----> 9\u001b[0m \u001b[38;5;28;01mif\u001b[39;00m original_ans\u001b[38;5;241m.\u001b[39mcasefold()\u001b[38;5;241m==\u001b[39muser_ans\u001b[38;5;241m.\u001b[39mcasefold():\n\u001b[0;32m     10\u001b[0m     \u001b[38;5;28mprint\u001b[39m(\u001b[38;5;124m'\u001b[39m\u001b[38;5;124mcorrect\u001b[39m\u001b[38;5;124m'\u001b[39m)\n",
      "\u001b[1;31mAttributeError\u001b[0m: 'int' object has no attribute 'casefold'"
     ]
    }
   ],
   "source": [
    "list_qns=['Who is PM of india','Who is ICT ODI captain',\n",
    "            'How many states are there in India']\n",
    "\n",
    "list_ans= ['Modi','Rohit',29]\n",
    "for qn in list_qns:\n",
    "    user_ans=input(qn+':')\n",
    "    id=list_qns.index(qn)\n",
    "    original_ans=list_ans[id]\n",
    "    if original_ans.casefold()==user_ans.casefold():\n",
    "        print('correct')\n",
    "\n",
    "# Type check you finish"
   ]
  },
  {
   "cell_type": "code",
   "execution_count": null,
   "id": "35005f1d-47c7-4744-a503-be9bd1376c48",
   "metadata": {},
   "outputs": [],
   "source": [
    "saturday azure session 5.30pm\n",
    "sunday azure session 10am\n",
    "================================\n",
    "naresh it \n",
    "this Ds course =====\n",
    "\n",
    "Azure + Langchain RAG+ FastAPI \n",
    "placement\n",
    "FLASK model deployment ==== \n",
    "OOPS\n",
    "EDA 2\n",
    "Maths \n",
    "\n"
   ]
  },
  {
   "cell_type": "code",
   "execution_count": 1,
   "id": "d1a27cfc-2dd0-46d0-88bb-cf858eaaa0d9",
   "metadata": {},
   "outputs": [
    {
     "data": {
      "text/plain": [
       "['__add__',\n",
       " '__class__',\n",
       " '__class_getitem__',\n",
       " '__contains__',\n",
       " '__delattr__',\n",
       " '__delitem__',\n",
       " '__dir__',\n",
       " '__doc__',\n",
       " '__eq__',\n",
       " '__format__',\n",
       " '__ge__',\n",
       " '__getattribute__',\n",
       " '__getitem__',\n",
       " '__getstate__',\n",
       " '__gt__',\n",
       " '__hash__',\n",
       " '__iadd__',\n",
       " '__imul__',\n",
       " '__init__',\n",
       " '__init_subclass__',\n",
       " '__iter__',\n",
       " '__le__',\n",
       " '__len__',\n",
       " '__lt__',\n",
       " '__mul__',\n",
       " '__ne__',\n",
       " '__new__',\n",
       " '__reduce__',\n",
       " '__reduce_ex__',\n",
       " '__repr__',\n",
       " '__reversed__',\n",
       " '__rmul__',\n",
       " '__setattr__',\n",
       " '__setitem__',\n",
       " '__sizeof__',\n",
       " '__str__',\n",
       " '__subclasshook__',\n",
       " 'append',\n",
       " 'clear',\n",
       " 'copy',\n",
       " 'count',\n",
       " 'extend',\n",
       " 'index',\n",
       " 'insert',\n",
       " 'pop',\n",
       " 'remove',\n",
       " 'reverse',\n",
       " 'sort']"
      ]
     },
     "execution_count": 1,
     "metadata": {},
     "output_type": "execute_result"
    }
   ],
   "source": [
    "dir([])"
   ]
  },
  {
   "cell_type": "code",
   "execution_count": null,
   "id": "36530bed-48cc-4162-ac64-efa11ca85cd7",
   "metadata": {},
   "outputs": [],
   "source": [
    "'insert',\n",
    "'pop',\n",
    "'remove',\n",
    "\n"
   ]
  },
  {
   "cell_type": "code",
   "execution_count": 3,
   "id": "5a2a382e-873a-43d7-bc11-b98c846b5f09",
   "metadata": {},
   "outputs": [
    {
     "data": {
      "text/plain": [
       "['Apple', 'Ball', 'Cat', 'Dog']"
      ]
     },
     "execution_count": 3,
     "metadata": {},
     "output_type": "execute_result"
    }
   ],
   "source": [
    "l=['Apple','Ball','Cat']\n",
    "l.append('Dog')\n",
    "l"
   ]
  },
  {
   "cell_type": "code",
   "execution_count": 4,
   "id": "4534c708-73d8-4612-9bb6-9c1960b1552a",
   "metadata": {},
   "outputs": [
    {
     "data": {
      "text/plain": [
       "['Apple', 'Ball', 'Dog', 'Cat']"
      ]
     },
     "execution_count": 4,
     "metadata": {},
     "output_type": "execute_result"
    }
   ],
   "source": [
    "l=['Apple','Ball','Cat']\n",
    "#   0       1      2\n",
    "#   A      B       D     C\n",
    "#   0      1       2      3\n",
    "l.insert(2,'Dog')\n",
    "l"
   ]
  },
  {
   "cell_type": "code",
   "execution_count": null,
   "id": "e64cd56a-673a-46d7-b4e7-1d2bbdea4ea7",
   "metadata": {},
   "outputs": [],
   "source": [
    "# Remove\n",
    "# pop "
   ]
  },
  {
   "cell_type": "code",
   "execution_count": 6,
   "id": "5dacb550-f5e3-44ab-85a9-904ac46b1efa",
   "metadata": {},
   "outputs": [],
   "source": [
    "l=['Apple','Ball','Cat','Dog']\n",
    "l.remove('Cat')"
   ]
  },
  {
   "cell_type": "code",
   "execution_count": 7,
   "id": "f9c1face-c6c7-47ac-9841-0d21cd578ae1",
   "metadata": {},
   "outputs": [
    {
     "data": {
      "text/plain": [
       "['Apple', 'Ball', 'Dog']"
      ]
     },
     "execution_count": 7,
     "metadata": {},
     "output_type": "execute_result"
    }
   ],
   "source": [
    "l"
   ]
  },
  {
   "cell_type": "code",
   "execution_count": 8,
   "id": "97fc0bdf-3ca2-4f18-9745-02c316008f64",
   "metadata": {},
   "outputs": [
    {
     "data": {
      "text/plain": [
       "['Apple', 'Ball', 'Cat', 'Dog']"
      ]
     },
     "execution_count": 8,
     "metadata": {},
     "output_type": "execute_result"
    }
   ],
   "source": [
    "l=['Apple','Ball','Cat','Cat','Dog']\n",
    "l.remove('Cat')\n",
    "l"
   ]
  },
  {
   "cell_type": "code",
   "execution_count": 9,
   "id": "6a23fa28-d5f7-41d5-93af-9bc7fa405bcd",
   "metadata": {},
   "outputs": [
    {
     "ename": "ValueError",
     "evalue": "list.remove(x): x not in list",
     "output_type": "error",
     "traceback": [
      "\u001b[1;31m---------------------------------------------------------------------------\u001b[0m",
      "\u001b[1;31mValueError\u001b[0m                                Traceback (most recent call last)",
      "Cell \u001b[1;32mIn[9], line 1\u001b[0m\n\u001b[1;32m----> 1\u001b[0m l\u001b[38;5;241m.\u001b[39mremove(\u001b[38;5;124m'\u001b[39m\u001b[38;5;124mz\u001b[39m\u001b[38;5;124m'\u001b[39m)\n",
      "\u001b[1;31mValueError\u001b[0m: list.remove(x): x not in list"
     ]
    }
   ],
   "source": [
    "l.remove('z')"
   ]
  },
  {
   "cell_type": "code",
   "execution_count": 11,
   "id": "652cafe8-ed20-472a-993d-accb320a4f2c",
   "metadata": {},
   "outputs": [
    {
     "data": {
      "text/plain": [
       "'Cat'"
      ]
     },
     "execution_count": 11,
     "metadata": {},
     "output_type": "execute_result"
    }
   ],
   "source": [
    "l=['Apple','Ball','Cat','Dog','Cat']\n",
    "l.pop()"
   ]
  },
  {
   "cell_type": "code",
   "execution_count": 12,
   "id": "df9cf0ca-081f-491c-a90a-f776026885f2",
   "metadata": {},
   "outputs": [
    {
     "data": {
      "text/plain": [
       "['Apple', 'Ball', 'Cat', 'Dog']"
      ]
     },
     "execution_count": 12,
     "metadata": {},
     "output_type": "execute_result"
    }
   ],
   "source": [
    "l"
   ]
  },
  {
   "cell_type": "code",
   "execution_count": 13,
   "id": "da333b2c-33be-45c5-bb98-03af0dcbeec8",
   "metadata": {},
   "outputs": [],
   "source": [
    "l=['Apple','Ball','Cat','Dog','Cat']\n",
    "l.remove('Cat')\n",
    "# It will not return"
   ]
  },
  {
   "cell_type": "code",
   "execution_count": 14,
   "id": "9e35d55a-2b20-430e-9065-29f330d86c0c",
   "metadata": {},
   "outputs": [
    {
     "data": {
      "text/plain": [
       "'Cat'"
      ]
     },
     "execution_count": 14,
     "metadata": {},
     "output_type": "execute_result"
    }
   ],
   "source": [
    "l=['Apple','Ball','Cat','Dog','Cat']\n",
    "l.pop() # It will return"
   ]
  },
  {
   "cell_type": "code",
   "execution_count": 19,
   "id": "642d7b81-375d-4c7e-aefe-bea300e0c4b0",
   "metadata": {},
   "outputs": [
    {
     "data": {
      "text/plain": [
       "['Apple', 'Ball', 'Dog', 'Cat']"
      ]
     },
     "execution_count": 19,
     "metadata": {},
     "output_type": "execute_result"
    }
   ],
   "source": [
    "l=['Apple','Ball','Cat','Dog','Cat']\n",
    "cat_index=l.index('Cat')\n",
    "l.pop(cat_index)\n",
    "l"
   ]
  },
  {
   "cell_type": "code",
   "execution_count": 18,
   "id": "c740ef1c-692e-4104-8264-3cfd32756888",
   "metadata": {},
   "outputs": [
    {
     "data": {
      "text/plain": [
       "[1, 2, 3, 4, 5, 6, 7, 8, 9, 10, 11, 5, 7, 6, 2, 3]"
      ]
     },
     "execution_count": 18,
     "metadata": {},
     "output_type": "execute_result"
    }
   ],
   "source": [
    "l1=[1,2,3,4,5,6,7,8,9,10,11,2,5,7,6,2,3]\n",
    "i1=l1.index(2)\n",
    "i2=l1.index(2,1+i1)\n",
    "l1.pop(i2)\n",
    "l1"
   ]
  },
  {
   "cell_type": "code",
   "execution_count": 23,
   "id": "54403c0e-d744-41ac-b69d-8daf4c0d1f77",
   "metadata": {},
   "outputs": [
    {
     "data": {
      "text/plain": [
       "[1, 2, 3, 4, 5, 6, 7, 8, 9, 10, 11, 2, 5, 7, 6, 3]"
      ]
     },
     "execution_count": 23,
     "metadata": {},
     "output_type": "execute_result"
    }
   ],
   "source": [
    "l1=[1,2,3,4,5,6,7,8,9,10,11,2,5,7,6,2,3]\n",
    "i1=l1.index(2)\n",
    "i2=l1.index(2,1+i1)\n",
    "i3=l1.index(2,1+i2)\n",
    "l1.pop(i3)\n",
    "l1"
   ]
  },
  {
   "cell_type": "markdown",
   "id": "d773f3b5-1d0e-4219-9c4f-63ceafbfbbf1",
   "metadata": {},
   "source": [
    "- remove will expect a value (direct element)\n",
    "\n",
    "- pop will expect an index of the value\n",
    "\n",
    "- if duplicate values are there, then remove will delete the first value only\n",
    "\n",
    "- if no index given in pop , it will remove the last element by default\n",
    "\n",
    "- if no value present remove will give value error\n",
    "\n",
    "- if no valid index pop will give index error"
   ]
  },
  {
   "cell_type": "markdown",
   "id": "4c0c117b-849f-4f77-b2ed-102d4635f0a4",
   "metadata": {},
   "source": [
    "**del**"
   ]
  },
  {
   "cell_type": "code",
   "execution_count": 24,
   "id": "ebd1e5b4-e13e-4ef7-8b3d-6a42ddd301a2",
   "metadata": {},
   "outputs": [],
   "source": [
    "l=['Apple','Ball','Cat','Dog','Cat']\n",
    "del(l)"
   ]
  },
  {
   "cell_type": "code",
   "execution_count": 25,
   "id": "1972339f-3313-464f-93e4-cfa5820f5035",
   "metadata": {},
   "outputs": [
    {
     "ename": "NameError",
     "evalue": "name 'l' is not defined",
     "output_type": "error",
     "traceback": [
      "\u001b[1;31m---------------------------------------------------------------------------\u001b[0m",
      "\u001b[1;31mNameError\u001b[0m                                 Traceback (most recent call last)",
      "Cell \u001b[1;32mIn[25], line 1\u001b[0m\n\u001b[1;32m----> 1\u001b[0m l\n",
      "\u001b[1;31mNameError\u001b[0m: name 'l' is not defined"
     ]
    }
   ],
   "source": [
    "l"
   ]
  },
  {
   "cell_type": "code",
   "execution_count": 26,
   "id": "7bb810b1-7171-4dc2-9c26-e2f1ada11591",
   "metadata": {},
   "outputs": [
    {
     "data": {
      "text/plain": [
       "['Ball', 'Cat', 'Dog', 'Cat']"
      ]
     },
     "execution_count": 26,
     "metadata": {},
     "output_type": "execute_result"
    }
   ],
   "source": [
    "l=['Apple','Ball','Cat','Dog','Cat']\n",
    "del(l[0])\n",
    "l"
   ]
  },
  {
   "cell_type": "code",
   "execution_count": null,
   "id": "18a3d6f5-bdc9-4b32-b685-05a5abdcd69c",
   "metadata": {},
   "outputs": [],
   "source": [
    "- append / extend/ concat / insert\n",
    "\n",
    "- remove/pop/del\n",
    "\n",
    "- index\n",
    "\n",
    "- count\n",
    "\n",
    "- reverse\n",
    "\n",
    "- sorted\n",
    "\n",
    "- clear/copy\n",
    "\n"
   ]
  },
  {
   "cell_type": "code",
   "execution_count": null,
   "id": "4be360b1-a3a7-4a3c-847d-e271c5c07759",
   "metadata": {},
   "outputs": [],
   "source": [
    "- intialization\n",
    "\n",
    "- type\n",
    "\n",
    "- min\n",
    "\n",
    "- max\n",
    "\n",
    "- len\n",
    "\n",
    "- sorted\n",
    "\n",
    "- reveresd\n",
    "\n",
    "- in\n",
    "\n",
    "- in for loop\n",
    "\n",
    "- index\n",
    "\n",
    "- index for loop\n",
    "\n",
    "- mutable immutable\n",
    "\n",
    "- slice\n",
    "\n",
    "- concat\n",
    "\n",
    "- methods"
   ]
  },
  {
   "cell_type": "code",
   "execution_count": null,
   "id": "9f45e52b-dc48-434d-99ad-8745035eb7fd",
   "metadata": {},
   "outputs": [],
   "source": [
    "# Assignment on tuple and set\n",
    "# string : I explained\n",
    "# List : You(99%)+ Omkar sir(1%)\n",
    "# Tuple : you(100%)"
   ]
  },
  {
   "cell_type": "code",
   "execution_count": 27,
   "id": "48a0fd4f-7726-4878-b91a-c9bbc243f818",
   "metadata": {},
   "outputs": [
    {
     "data": {
      "text/plain": [
       "['__add__',\n",
       " '__class__',\n",
       " '__class_getitem__',\n",
       " '__contains__',\n",
       " '__delattr__',\n",
       " '__dir__',\n",
       " '__doc__',\n",
       " '__eq__',\n",
       " '__format__',\n",
       " '__ge__',\n",
       " '__getattribute__',\n",
       " '__getitem__',\n",
       " '__getnewargs__',\n",
       " '__getstate__',\n",
       " '__gt__',\n",
       " '__hash__',\n",
       " '__init__',\n",
       " '__init_subclass__',\n",
       " '__iter__',\n",
       " '__le__',\n",
       " '__len__',\n",
       " '__lt__',\n",
       " '__mul__',\n",
       " '__ne__',\n",
       " '__new__',\n",
       " '__reduce__',\n",
       " '__reduce_ex__',\n",
       " '__repr__',\n",
       " '__rmul__',\n",
       " '__setattr__',\n",
       " '__sizeof__',\n",
       " '__str__',\n",
       " '__subclasshook__',\n",
       " 'count',\n",
       " 'index']"
      ]
     },
     "execution_count": 27,
     "metadata": {},
     "output_type": "execute_result"
    }
   ],
   "source": [
    "#dir('')\n",
    "#dir([])\n",
    "dir(())"
   ]
  },
  {
   "cell_type": "code",
   "execution_count": null,
   "id": "3de0000a-d942-4126-b3d5-1fbe83f7feb5",
   "metadata": {},
   "outputs": [],
   "source": []
  }
 ],
 "metadata": {
  "kernelspec": {
   "display_name": "Python 3 (ipykernel)",
   "language": "python",
   "name": "python3"
  },
  "language_info": {
   "codemirror_mode": {
    "name": "ipython",
    "version": 3
   },
   "file_extension": ".py",
   "mimetype": "text/x-python",
   "name": "python",
   "nbconvert_exporter": "python",
   "pygments_lexer": "ipython3",
   "version": "3.11.7"
  }
 },
 "nbformat": 4,
 "nbformat_minor": 5
}
