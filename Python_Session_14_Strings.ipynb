{
 "cells": [
  {
   "cell_type": "code",
   "execution_count": null,
   "id": "e282170a-3410-4c4d-a574-657a78f81fed",
   "metadata": {},
   "outputs": [],
   "source": [
    "##################### part-1#########################\n",
    "- Dat types\n",
    "\n",
    "- type casting\n",
    "\n",
    "- Basic codes using eval and input\n",
    "\n",
    "- Conditional statements\n",
    "\n",
    "- Try-except\n",
    "\n",
    "- Functions\n",
    "\n",
    "- For and while\n",
    "###################### part-2###################\n",
    "\n",
    "- strings\n",
    "\n",
    "- list\n",
    "\n",
    "- dictionary\n",
    "\n",
    "- tuple and set \n",
    "\n",
    "- lambda functions\n",
    "\n",
    "- file handling \n",
    "\n",
    "############# Part-3 OOPS ####################"
   ]
  },
  {
   "cell_type": "markdown",
   "id": "5ebe13ac-934f-4573-9008-ebf9f70bce74",
   "metadata": {},
   "source": [
    "**strings**"
   ]
  },
  {
   "cell_type": "code",
   "execution_count": null,
   "id": "f16830ce-8412-4b14-a066-654be5a5ddec",
   "metadata": {},
   "outputs": [],
   "source": [
    "- int\n",
    "\n",
    "- float\n",
    "\n",
    "- str\n",
    "\n",
    "- boolean\n",
    "\n",
    "- complex\n",
    "\n",
    "- list\n",
    "\n",
    "- tuple\n",
    "\n",
    "- dic\n",
    "\n",
    "- set\n",
    "\n",
    "- frozen set\n",
    "\n",
    "- range\n",
    "\n",
    "- byte array"
   ]
  },
  {
   "cell_type": "markdown",
   "id": "01f5e71e-b3a5-43c6-8949-2e929087db45",
   "metadata": {},
   "source": [
    "- intilaiztion\n",
    "\n",
    "- type\n",
    "\n",
    "- len\n",
    "\n",
    "- min\n",
    "\n",
    "- max\n",
    "\n",
    "- sorted\n",
    "\n",
    "- reveresd\n",
    "\n",
    "- in \n",
    "\n",
    "- for loop with in\n",
    "\n",
    "- index\n",
    "\n",
    "- for loop with index\n",
    "\n",
    "- mutable immutable\n",
    "\n",
    "- concatenation\n",
    "\n",
    "- methods\n",
    "\n",
    "- conditions"
   ]
  },
  {
   "cell_type": "code",
   "execution_count": 1,
   "id": "4b12ed6e-8ac1-49a7-9abe-5d47542560a0",
   "metadata": {},
   "outputs": [
    {
     "data": {
      "text/plain": [
       "'python'"
      ]
     },
     "execution_count": 1,
     "metadata": {},
     "output_type": "execute_result"
    }
   ],
   "source": [
    "str1='python'\n",
    "str1"
   ]
  },
  {
   "cell_type": "code",
   "execution_count": 2,
   "id": "40d64765-1192-4e17-ad89-727f2da4dee3",
   "metadata": {},
   "outputs": [
    {
     "data": {
      "text/plain": [
       "'python'"
      ]
     },
     "execution_count": 2,
     "metadata": {},
     "output_type": "execute_result"
    }
   ],
   "source": [
    "str2=\"python\"\n",
    "str2"
   ]
  },
  {
   "cell_type": "code",
   "execution_count": 3,
   "id": "d33d7c44-4c1e-4e41-a846-b95420cfb5d6",
   "metadata": {},
   "outputs": [
    {
     "name": "stdout",
     "output_type": "stream",
     "text": [
      "python\n"
     ]
    }
   ],
   "source": [
    "print(str1)"
   ]
  },
  {
   "cell_type": "markdown",
   "id": "3bb408d3-d458-4e43-a057-bdb0162bd097",
   "metadata": {},
   "source": [
    "- strings defined by using single quotes or double quotes\n",
    "\n",
    "- but python by default will give as single quotes only\n",
    "\n",
    "- When you print the string, the answer will display without quotes"
   ]
  },
  {
   "cell_type": "markdown",
   "id": "20e26b63-15bc-473e-a172-c0151a1f1753",
   "metadata": {},
   "source": [
    "**doc string**\n",
    "\n",
    "- we can write the strings using triple quotes\n",
    "\n",
    "- This method called as doc string\n",
    "\n",
    "- It is the way of communicating information to the user\n",
    "\n",
    "- Do not apply triple quotes when you do the code"
   ]
  },
  {
   "cell_type": "code",
   "execution_count": 4,
   "id": "292c53cf-ad0c-4a9f-b0b8-1754664dd55d",
   "metadata": {},
   "outputs": [],
   "source": [
    "import random\n",
    "random.randint()"
   ]
  },
  {
   "cell_type": "markdown",
   "id": "0c103b3c-fb45-4e46-b912-f1392fda612f",
   "metadata": {},
   "source": [
    "**type**"
   ]
  },
  {
   "cell_type": "code",
   "execution_count": 5,
   "id": "f005b8db-1ece-484f-8aa0-fca0aec343d7",
   "metadata": {},
   "outputs": [
    {
     "data": {
      "text/plain": [
       "str"
      ]
     },
     "execution_count": 5,
     "metadata": {},
     "output_type": "execute_result"
    }
   ],
   "source": [
    "type(str1)"
   ]
  },
  {
   "cell_type": "code",
   "execution_count": 6,
   "id": "dce6d01f-2bbc-4f0b-990f-0171969a9b33",
   "metadata": {},
   "outputs": [
    {
     "data": {
      "text/plain": [
       "6"
      ]
     },
     "execution_count": 6,
     "metadata": {},
     "output_type": "execute_result"
    }
   ],
   "source": [
    "len(str1)"
   ]
  },
  {
   "cell_type": "code",
   "execution_count": null,
   "id": "880821c4-a771-4ffb-b8fe-3d3e325ca6c7",
   "metadata": {},
   "outputs": [],
   "source": [
    "'python'  has 6 charcters\n"
   ]
  },
  {
   "cell_type": "code",
   "execution_count": 7,
   "id": "e0999a5d-4d8a-477e-b8f9-b9c8886c1b9f",
   "metadata": {},
   "outputs": [
    {
     "data": {
      "text/plain": [
       "'y'"
      ]
     },
     "execution_count": 7,
     "metadata": {},
     "output_type": "execute_result"
    }
   ],
   "source": [
    "max(str1)"
   ]
  },
  {
   "cell_type": "markdown",
   "id": "35bece57-f55b-4837-9295-c41a94c23614",
   "metadata": {},
   "source": [
    "- ascii number of 'y' is greater than compare to others"
   ]
  },
  {
   "cell_type": "code",
   "execution_count": 8,
   "id": "c87c63dc-2362-4e7a-9ec5-3e5b9807392c",
   "metadata": {},
   "outputs": [
    {
     "data": {
      "text/plain": [
       "6"
      ]
     },
     "execution_count": 8,
     "metadata": {},
     "output_type": "execute_result"
    }
   ],
   "source": [
    "len('abc123')"
   ]
  },
  {
   "cell_type": "code",
   "execution_count": 9,
   "id": "22f7eae5-6966-4934-8667-272c4bc0f27b",
   "metadata": {},
   "outputs": [
    {
     "data": {
      "text/plain": [
       "'c'"
      ]
     },
     "execution_count": 9,
     "metadata": {},
     "output_type": "execute_result"
    }
   ],
   "source": [
    "max('abc123')"
   ]
  },
  {
   "cell_type": "code",
   "execution_count": 10,
   "id": "7b700353-b97b-46b5-972a-04830664a17a",
   "metadata": {},
   "outputs": [
    {
     "data": {
      "text/plain": [
       "'3'"
      ]
     },
     "execution_count": 10,
     "metadata": {},
     "output_type": "execute_result"
    }
   ],
   "source": [
    "max('321')"
   ]
  },
  {
   "cell_type": "code",
   "execution_count": 11,
   "id": "cf88cf65-7890-4652-a2e8-d8e48591fe6e",
   "metadata": {},
   "outputs": [
    {
     "data": {
      "text/plain": [
       "'1'"
      ]
     },
     "execution_count": 11,
     "metadata": {},
     "output_type": "execute_result"
    }
   ],
   "source": [
    "min('abc123')"
   ]
  },
  {
   "cell_type": "code",
   "execution_count": null,
   "id": "3962525d-f87f-444b-8c95-88bbafbb1536",
   "metadata": {},
   "outputs": [],
   "source": [
    "type(<>)\n",
    "print(<>)\n",
    "len(<>)\n",
    "max(<>)\n",
    "min(<>)"
   ]
  },
  {
   "cell_type": "markdown",
   "id": "c9e880f4-0dc5-4409-ad2e-ac32d895b77b",
   "metadata": {},
   "source": [
    "- if we observe the above pattern\n",
    "\n",
    "- its like keyword()\n",
    "\n",
    "- these all are inbuilt function\n",
    "\n",
    "- inbulit means these function can use any data type\n",
    "\n",
    "- means we can apply for strings,list,tuple,dictionay etc\n"
   ]
  },
  {
   "cell_type": "markdown",
   "id": "96781e10-dba3-4cb2-b177-134023f47c72",
   "metadata": {},
   "source": [
    "**difference between methods and inbuilt functions**\n",
    "\n",
    "- methods comes from packages\n",
    "\n",
    "- inorder to use any method we need import the package\n",
    "\n",
    "- for in-built functions no need of any packages\n",
    "\n",
    "- import random === random.randint\n",
    "\n",
    "- import math ==== math.sqrt\n",
    "\n",
    "- import time === time.sleep\n",
    "\n",
    "- type() print() min() max() len()\n"
   ]
  },
  {
   "cell_type": "markdown",
   "id": "3c2ee616-b445-424d-98f7-a69321b34c96",
   "metadata": {},
   "source": [
    "**reveresd**"
   ]
  },
  {
   "cell_type": "code",
   "execution_count": 12,
   "id": "a4a9c52e-fcca-4062-8411-6b31a819d3df",
   "metadata": {},
   "outputs": [
    {
     "data": {
      "text/plain": [
       "<reversed at 0x18829b734f0>"
      ]
     },
     "execution_count": 12,
     "metadata": {},
     "output_type": "execute_result"
    }
   ],
   "source": [
    "reversed('python')"
   ]
  },
  {
   "cell_type": "markdown",
   "id": "d4af9def-8971-4cd5-845d-192381512ee0",
   "metadata": {},
   "source": [
    "- when we apply reveresed in built function\n",
    "\n",
    "- the output will store at memory\n",
    "\n",
    "- we can see the output by iterate a loop\n",
    "\n",
    "- we can see the output by applying a list type cast"
   ]
  },
  {
   "cell_type": "code",
   "execution_count": 13,
   "id": "21bcc80e-0253-4fda-a8b7-b0158d2229c8",
   "metadata": {},
   "outputs": [
    {
     "name": "stdout",
     "output_type": "stream",
     "text": [
      "n\n",
      "o\n",
      "h\n",
      "t\n",
      "y\n",
      "p\n"
     ]
    }
   ],
   "source": [
    "out=reversed('python')\n",
    "for i in out:\n",
    "    print(i)"
   ]
  },
  {
   "cell_type": "code",
   "execution_count": 37,
   "id": "d5d9939c-3c7f-4b64-8eb7-50f4eb393d0f",
   "metadata": {},
   "outputs": [
    {
     "data": {
      "text/plain": [
       "10"
      ]
     },
     "execution_count": 37,
     "metadata": {},
     "output_type": "execute_result"
    }
   ],
   "source": [
    "int('10')"
   ]
  },
  {
   "cell_type": "code",
   "execution_count": 15,
   "id": "219abbb5-640b-47ec-b1b1-fa0290854494",
   "metadata": {},
   "outputs": [
    {
     "data": {
      "text/plain": [
       "['n', 'o', 'h', 't', 'y', 'p']"
      ]
     },
     "execution_count": 15,
     "metadata": {},
     "output_type": "execute_result"
    }
   ],
   "source": [
    "list(reversed('python'))\n",
    "\n",
    "# eval()\n",
    "# int()\n",
    "# float()"
   ]
  },
  {
   "cell_type": "code",
   "execution_count": 16,
   "id": "ce52170e-6b13-45dd-84a9-3e28b65aff81",
   "metadata": {},
   "outputs": [
    {
     "data": {
      "text/plain": [
       "('n', 'o', 'h', 't', 'y', 'p')"
      ]
     },
     "execution_count": 16,
     "metadata": {},
     "output_type": "execute_result"
    }
   ],
   "source": [
    "tuple(reversed('python'))"
   ]
  },
  {
   "cell_type": "code",
   "execution_count": 17,
   "id": "ed201f29-c899-4c75-952a-e54428513717",
   "metadata": {},
   "outputs": [
    {
     "ename": "TypeError",
     "evalue": "reversed() takes no keyword arguments",
     "output_type": "error",
     "traceback": [
      "\u001b[1;31m---------------------------------------------------------------------------\u001b[0m",
      "\u001b[1;31mTypeError\u001b[0m                                 Traceback (most recent call last)",
      "Cell \u001b[1;32mIn[17], line 1\u001b[0m\n\u001b[1;32m----> 1\u001b[0m \u001b[38;5;28mreversed\u001b[39m(sequence\u001b[38;5;241m=\u001b[39m\u001b[38;5;124m'\u001b[39m\u001b[38;5;124mpython\u001b[39m\u001b[38;5;124m'\u001b[39m)\n",
      "\u001b[1;31mTypeError\u001b[0m: reversed() takes no keyword arguments"
     ]
    }
   ],
   "source": [
    "reversed(sequence='python')"
   ]
  },
  {
   "cell_type": "code",
   "execution_count": null,
   "id": "68f224b1-3a5b-4022-8bec-703aa28b6ef2",
   "metadata": {},
   "outputs": [],
   "source": [
    "import random\n",
    "random.randint(a=10,b=20)"
   ]
  },
  {
   "cell_type": "code",
   "execution_count": null,
   "id": "030eaaa2-0276-4705-9312-ebd52b15ec70",
   "metadata": {},
   "outputs": [],
   "source": [
    "(a,/)\n",
    "a=10 ==== error\n",
    "10   ==== no error\n",
    "\n",
    "(a,/,b)\n",
    "a=10,b=20 error \n",
    "10,20 no error\n",
    "10,b=20 no error"
   ]
  },
  {
   "cell_type": "markdown",
   "id": "dbe9e068-6407-4962-80cc-694fe4f7eabd",
   "metadata": {},
   "source": [
    "- / means position only papatemers \n",
    "\n",
    "- before / dont give the variable name\n",
    "\n",
    "- after / give varibale name"
   ]
  },
  {
   "cell_type": "markdown",
   "id": "3a5e3b7e-8db2-4959-a620-c34d8da56694",
   "metadata": {},
   "source": [
    "**sorted**\n"
   ]
  },
  {
   "cell_type": "code",
   "execution_count": 18,
   "id": "f4e69446-f7ef-4e2b-8ba8-d06328129719",
   "metadata": {},
   "outputs": [
    {
     "data": {
      "text/plain": [
       "['h', 'n', 'o', 'p', 't', 'y']"
      ]
     },
     "execution_count": 18,
     "metadata": {},
     "output_type": "execute_result"
    }
   ],
   "source": [
    "sorted('python')"
   ]
  },
  {
   "cell_type": "code",
   "execution_count": null,
   "id": "8c797f5b-0761-49d7-b8b8-6df957c8cfaa",
   "metadata": {},
   "outputs": [],
   "source": [
    "sorted('python',True) # work error\n",
    "sorted(iterable='python',True) # error\n",
    "sorted(iterable='python',reverse=True) # error\n",
    "sorted('python',reverse=True) # works"
   ]
  },
  {
   "cell_type": "code",
   "execution_count": 19,
   "id": "0f691e22-5987-46c7-b74f-13c86fd2d880",
   "metadata": {},
   "outputs": [
    {
     "data": {
      "text/plain": [
       "['y', 't', 'p', 'o', 'n', 'h']"
      ]
     },
     "execution_count": 19,
     "metadata": {},
     "output_type": "execute_result"
    }
   ],
   "source": [
    "sorted('python',reverse=True)"
   ]
  },
  {
   "cell_type": "markdown",
   "id": "981b65e4-0923-430c-addd-ec6b628a1457",
   "metadata": {},
   "source": [
    "- type\n",
    "\n",
    "- len\n",
    "\n",
    "- max\n",
    "\n",
    "- min\n",
    "\n",
    "- reveresd\n",
    "\n",
    "- sorted"
   ]
  },
  {
   "cell_type": "code",
   "execution_count": null,
   "id": "c222ac72-6dae-44c3-9119-0c21892a527c",
   "metadata": {},
   "outputs": [],
   "source": [
    "What is the actual use of '/'?\n",
    "how can you wh\n",
    "# Default arguments\n",
    "\n",
    "def add(a,b,c=10)\n",
    "    add(a=10,b,c)"
   ]
  },
  {
   "cell_type": "markdown",
   "id": "1886a1fe-25b3-4ac0-bd60-dcc81f7609cb",
   "metadata": {},
   "source": [
    "**in**"
   ]
  },
  {
   "cell_type": "code",
   "execution_count": 45,
   "id": "bed938a7-72ca-4291-9386-c6149ee9c983",
   "metadata": {},
   "outputs": [
    {
     "data": {
      "text/plain": [
       "['n', 'o', 'h', 't', 'y', 'p']"
      ]
     },
     "execution_count": 45,
     "metadata": {},
     "output_type": "execute_result"
    }
   ],
   "source": [
    "'p' in str1\n"
   ]
  },
  {
   "cell_type": "code",
   "execution_count": 21,
   "id": "4bfd7b79-58a8-445f-9512-97c7ddecdf5f",
   "metadata": {},
   "outputs": [
    {
     "name": "stdout",
     "output_type": "stream",
     "text": [
      "p y t h o n "
     ]
    }
   ],
   "source": [
    "for i in str1:\n",
    "    print(i,end=' ')"
   ]
  },
  {
   "cell_type": "code",
   "execution_count": 24,
   "id": "97417546-47aa-4829-ae4d-345cc0583b72",
   "metadata": {},
   "outputs": [
    {
     "name": "stdout",
     "output_type": "stream",
     "text": [
      "the number of a's are: 3\n"
     ]
    }
   ],
   "source": [
    "#Q1wap ask the user how many times 'a' repaeted in a given strin\n",
    "# string='hai hai hai'\n",
    "\n",
    "# idea\n",
    "# iterate each letter using in\n",
    "# apply the conditon if that letter equal to 'a'\n",
    "# then count it\n",
    "count=0\n",
    "string='hai hai hai'\n",
    "for i in string:\n",
    "    if i=='a':\n",
    "        count=count+1\n",
    "\n",
    "print(\"the number of a's are:\",count)"
   ]
  },
  {
   "cell_type": "code",
   "execution_count": null,
   "id": "6d04e82c-a682-4ba1-af32-a2cc6f73cc92",
   "metadata": {},
   "outputs": [],
   "source": [
    "# WAP to count the number of vowels in a given string\n",
    "# string= 'hai how are'\n",
    "# Vowels= a,i,o,a,e: 5\n",
    "\n",
    "# non repetaed Vowels= a,i,o,e: 4"
   ]
  },
  {
   "cell_type": "code",
   "execution_count": null,
   "id": "8e3db53f-7990-4edc-91d6-59739a603ae5",
   "metadata": {},
   "outputs": [],
   "source": [
    "# Wap Q2) \n",
    "# WAP to count the number of vowels in a given string\n",
    "# string= 'hai how are'\n",
    "# Vowels= a,i,o,a,e: 5"
   ]
  },
  {
   "cell_type": "code",
   "execution_count": 2,
   "id": "fa48c992-d4a1-42fa-867f-35179cb86bff",
   "metadata": {},
   "outputs": [
    {
     "name": "stdout",
     "output_type": "stream",
     "text": [
      "a\n",
      "i\n",
      "e\n",
      "o\n",
      "o\n"
     ]
    }
   ],
   "source": [
    "string1='hai hello how'\n",
    "for i in string1:\n",
    "    if i=='a' or i=='e' or i=='i' or i=='o' or i=='u':\n",
    "        print(i)"
   ]
  },
  {
   "cell_type": "code",
   "execution_count": 3,
   "id": "f0673852-75b6-4814-bdd1-a2a8e20230d6",
   "metadata": {},
   "outputs": [
    {
     "name": "stdout",
     "output_type": "stream",
     "text": [
      "a\n",
      "i\n",
      "e\n",
      "o\n",
      "o\n"
     ]
    }
   ],
   "source": [
    "string1='hai hello how'\n",
    "vowels='aeiou'\n",
    "for i in string1:\n",
    "    if i in vowels:\n",
    "        print(i)\n",
    "# step-1:  i='h'  === > 'h' in 'aeiou' F\n",
    "# step-2:  i='a'  === > 'a' in 'aeiou' T\n",
    "# step-3:  i='i'  ==== > 'i' in 'aeiou' T"
   ]
  },
  {
   "cell_type": "code",
   "execution_count": 8,
   "id": "97bff27e-acde-4149-9e36-3097d03ad4d1",
   "metadata": {},
   "outputs": [
    {
     "name": "stdout",
     "output_type": "stream",
     "text": [
      "a\n",
      "i\n",
      "o\n",
      "e\n"
     ]
    },
    {
     "data": {
      "text/plain": [
       "4"
      ]
     },
     "execution_count": 8,
     "metadata": {},
     "output_type": "execute_result"
    }
   ],
   "source": [
    "# we are creating a empty room\n",
    "# we are calling each person\n",
    "# we are checking that person is available in the room or not\n",
    "# if he is not avilable \n",
    "#       #we are checking the age\n",
    "#            he is our person\n",
    "s1='hai how are'\n",
    "s2='aeiou'\n",
    "s3=''\n",
    "for i in s1:\n",
    "    if i not in s3 and i in s2:\n",
    "        print(i)\n",
    "        s3=s3+i\n",
    "len(s3)\n",
    "\n",
    "# step-1: i='h' == > 'h' not in '' and 'h' in 'aeiou' : Not \n",
    "# step-2: i='a' === > 'a' not in '' and 'a' in 'aeiou': C\n",
    "#              ''+'a'='a'   s3='a'"
   ]
  },
  {
   "cell_type": "markdown",
   "id": "cebca97b-822a-4011-8759-5530e48b4a1c",
   "metadata": {},
   "source": [
    "**index**"
   ]
  },
  {
   "cell_type": "code",
   "execution_count": null,
   "id": "4fcfa97b-29ec-4773-bd3f-0f6748f81bd9",
   "metadata": {},
   "outputs": [],
   "source": [
    "-6   -5   -4    -3   -2   -1 # Negative index\n",
    "p    y     t     h    o    n\n",
    "0    1     2    3    4     5  # Postive index"
   ]
  },
  {
   "cell_type": "code",
   "execution_count": 14,
   "id": "9490da39-9190-4c8f-ad2e-a86926a74c47",
   "metadata": {},
   "outputs": [
    {
     "data": {
      "text/plain": [
       "'n'"
      ]
     },
     "execution_count": 14,
     "metadata": {},
     "output_type": "execute_result"
    }
   ],
   "source": [
    "str1='python'\n",
    "str1[0]   # Access\n",
    "str1[1]\n",
    "str1[2]\n",
    "str1[3]\n",
    "str1[4]\n",
    "str1[5]\n",
    "\n",
    "str1[i]"
   ]
  },
  {
   "cell_type": "code",
   "execution_count": null,
   "id": "098b858c-5aef-420c-8f66-d59644e686e4",
   "metadata": {},
   "outputs": [],
   "source": [
    "len()\n",
    "type()\n",
    "eval()\n",
    "input()\n",
    "int()\n",
    "float()\n",
    "sorted()\n",
    "reversed()"
   ]
  },
  {
   "cell_type": "code",
   "execution_count": 51,
   "id": "26c618a2-c8c7-4a9e-a606-b532783dc2dc",
   "metadata": {},
   "outputs": [
    {
     "name": "stdout",
     "output_type": "stream",
     "text": [
      "0 p\n",
      "1 y\n",
      "2 t\n",
      "3 h\n",
      "4 o\n",
      "5 n\n",
      "6  \n",
      "7 p\n",
      "8 y\n",
      "9 t\n",
      "10 h\n",
      "11 o\n",
      "12 n\n"
     ]
    }
   ],
   "source": [
    "str1='python python'\n",
    "n=len(str1)\n",
    "for i in range(n):\n",
    "    print(i,str1[i])"
   ]
  },
  {
   "cell_type": "code",
   "execution_count": 18,
   "id": "fa271794-6657-44f8-b638-94b0e1f3d2c7",
   "metadata": {},
   "outputs": [
    {
     "name": "stdout",
     "output_type": "stream",
     "text": [
      "the positive index of p is 0\n",
      "the positive index of y is 1\n",
      "the positive index of t is 2\n",
      "the positive index of h is 3\n",
      "the positive index of o is 4\n",
      "the positive index of n is 5\n"
     ]
    }
   ],
   "source": [
    "str1='python'\n",
    "n=len(str1)\n",
    "for i in range(n):\n",
    "    print(f\"the positive index of {str1[i]} is {i}\")"
   ]
  },
  {
   "cell_type": "code",
   "execution_count": null,
   "id": "ce66c053-304c-42fe-927e-1a6ba0704756",
   "metadata": {},
   "outputs": [],
   "source": [
    "str1='python'\n",
    "str1[0]   # p\n",
    "str1[1]   # y\n",
    "str1[2]   # t\n",
    "str1[3]   # h\n",
    "str1[4]   # o \n",
    "str1[5]   # n\n",
    "\n",
    "str1='python'\n",
    "n=len(str1)\n",
    "for i in range(n):\n",
    "    print(f\"the positive index of {str1[i]} is {i}\")"
   ]
  },
  {
   "cell_type": "code",
   "execution_count": 24,
   "id": "a2f0e882-a6d5-4dd4-81cd-56d1130c598e",
   "metadata": {},
   "outputs": [
    {
     "name": "stdout",
     "output_type": "stream",
     "text": [
      "the negative index of p is -6\n",
      "the negative index of y is -5\n",
      "the negative index of t is -4\n",
      "the negative index of h is -3\n",
      "the negative index of o is -2\n",
      "the negative index of n is -1\n"
     ]
    }
   ],
   "source": [
    "# Negative index means negative numbers\n",
    "# -6   -5   -4   -3   -2   -1  \n",
    "#  p    y   t    h    o    n\n",
    "#  0    1   2    3    4    5\n",
    "str1='python'\n",
    "n=len(str1)  \n",
    "for i in range(-n,0):\n",
    "    print(f\"the negative index of {str1[i]} is {i}\")"
   ]
  },
  {
   "cell_type": "code",
   "execution_count": null,
   "id": "0f125b4d-2b26-463c-a8d9-b7df1b7679ba",
   "metadata": {},
   "outputs": [],
   "source": [
    "# Negative index means negative numbers\n",
    "# -6   -5   -4   -3   -2   -1  \n",
    "#  p    y   t    h    o    n\n",
    "#  0    1   2    3    4    5\n",
    "# the postive index of p is 0 and negative index is -6\n",
    "# the postive index of y is 1 and negative index is -5\n",
    "\n",
    "# Get the above answer using single for loop only"
   ]
  },
  {
   "cell_type": "code",
   "execution_count": 28,
   "id": "20b6552d-b68b-4fdd-a71a-85e32f2ca450",
   "metadata": {},
   "outputs": [
    {
     "name": "stdout",
     "output_type": "stream",
     "text": [
      "the postive index of p is 0 and negative index is -6\n",
      "the postive index of y is 1 and negative index is -5\n",
      "the postive index of t is 2 and negative index is -4\n",
      "the postive index of h is 3 and negative index is -3\n",
      "the postive index of o is 4 and negative index is -2\n",
      "the postive index of n is 5 and negative index is -1\n"
     ]
    }
   ],
   "source": [
    "str1='python'\n",
    "n=len(str1)\n",
    "for i in range(n):\n",
    "    print(f\"the postive index of {str1[i]} is {i} and negative index is {i-n}\")"
   ]
  },
  {
   "cell_type": "markdown",
   "id": "0fdca06e-384c-4110-baf4-2835033dce8e",
   "metadata": {},
   "source": [
    "**Mutable-immutable**\n",
    "\n",
    "- Mutable means change\n",
    "\n",
    "- Immutable means not able to change\n",
    "\n",
    "- Example:  'welcome'\n",
    "\n",
    "- Output :  'weLcome'\n",
    "\n",
    "- is this possible using **index opeartions**? NO\n",
    "\n",
    "- Strings are **immutable**\n",
    "\n",
    "- We can not change the letters using index"
   ]
  },
  {
   "cell_type": "code",
   "execution_count": 30,
   "id": "c574cb55-e3dd-4fc4-b545-11067330bcd0",
   "metadata": {},
   "outputs": [
    {
     "ename": "TypeError",
     "evalue": "'str' object does not support item assignment",
     "output_type": "error",
     "traceback": [
      "\u001b[1;31m---------------------------------------------------------------------------\u001b[0m",
      "\u001b[1;31mTypeError\u001b[0m                                 Traceback (most recent call last)",
      "Cell \u001b[1;32mIn[30], line 2\u001b[0m\n\u001b[0;32m      1\u001b[0m str1\u001b[38;5;241m=\u001b[39m\u001b[38;5;124m'\u001b[39m\u001b[38;5;124mwelcome\u001b[39m\u001b[38;5;124m'\u001b[39m\n\u001b[1;32m----> 2\u001b[0m str1[\u001b[38;5;241m2\u001b[39m]\u001b[38;5;241m=\u001b[39m\u001b[38;5;124m'\u001b[39m\u001b[38;5;124mL\u001b[39m\u001b[38;5;124m'\u001b[39m\n",
      "\u001b[1;31mTypeError\u001b[0m: 'str' object does not support item assignment"
     ]
    }
   ],
   "source": [
    "str1='welcome'\n",
    "str1[2]='L'"
   ]
  },
  {
   "cell_type": "code",
   "execution_count": 32,
   "id": "d73ec176-996e-4e6b-9cf9-66fe6a741453",
   "metadata": {},
   "outputs": [
    {
     "data": {
      "text/plain": [
       "['w', 'e', 'L', 'c', 'o', 'm', 'e']"
      ]
     },
     "execution_count": 32,
     "metadata": {},
     "output_type": "execute_result"
    }
   ],
   "source": [
    "l=['w','e','l','c','o','m','e']\n",
    "l[2]='L'\n",
    "l"
   ]
  },
  {
   "cell_type": "markdown",
   "id": "cfd56bcf-d841-4ad7-a45f-4551549ee4fa",
   "metadata": {},
   "source": [
    "**when to use range and when to use in**\n",
    "\n",
    "- in operators access the elements directly\n",
    "\n",
    "- range operator access the elements by using index\n",
    "\n",
    "- For example : str='welcome'\n",
    "\n",
    "- If you want to access each letter from str\n",
    "\n",
    "- we can use in and range\n",
    "\n",
    "- in: for i in str: i becomes w,e,l,c,o,m,e\n",
    "\n",
    "- range: for i in range(len(str)): i becomes 0,1,2,3,4,5\n",
    "\n",
    "    - str[i]"
   ]
  },
  {
   "cell_type": "markdown",
   "id": "c4552d30-de11-4986-9f5c-b411370d56ea",
   "metadata": {},
   "source": [
    "**Use the range operator when we you required a index use**"
   ]
  },
  {
   "cell_type": "code",
   "execution_count": 35,
   "id": "b71df8de-74a2-494f-8e4c-b83c5d9dc94d",
   "metadata": {},
   "outputs": [
    {
     "name": "stdout",
     "output_type": "stream",
     "text": [
      "w\n",
      "e\n",
      "l\n",
      "c\n",
      "o\n",
      "m\n",
      "e\n",
      "w\n",
      "e\n",
      "l\n",
      "c\n",
      "o\n",
      "m\n",
      "e\n"
     ]
    }
   ],
   "source": [
    "str1='welcome'\n",
    "for i in str1:\n",
    "    print(i)\n",
    "\n",
    "for i in range(len(str1)):\n",
    "    print(str1[i])"
   ]
  },
  {
   "cell_type": "code",
   "execution_count": null,
   "id": "33460fb4-6f7a-4133-aaa6-86b6bb085be3",
   "metadata": {},
   "outputs": [],
   "source": [
    "sir while index v shud represent as len(str)\n",
    "\n",
    "index==== number\n",
    "in or range === range\n",
    "how to provid the number in range using == len(str)"
   ]
  },
  {
   "cell_type": "code",
   "execution_count": null,
   "id": "6b910f54-6f38-43a2-b460-b2374c9b31a5",
   "metadata": {},
   "outputs": [],
   "source": [
    "# Q1) count the number of 'a' in a given string: in\n",
    "# Q2) count the number of 'a' in a given string: range\n",
    "# Q3) print the indexed of 'a' in a given string\n",
    "# Q4) sum the indexed of 'a' in a given string\n",
    "# string: 'hello how are you'\n",
    "# Q5) count the all the vowels in a given string: in \n",
    "# Q6) count the all the vowels in a given string: range\n",
    "# Q7) count the non repated vowels in a given string: in\n",
    "# Q8) count the all the vowels in a given string: range\n",
    "# Q9) Postive index negative index using for loop\n",
    "# Q10) Postive index negative index using While loop\n"
   ]
  },
  {
   "cell_type": "markdown",
   "id": "ed571a00-9069-4834-8d89-7d046bff8e47",
   "metadata": {},
   "source": [
    "**Slice**\n",
    "\n",
    "- Slice means part of string\n",
    "\n",
    "- It is exatcly same like range operation start,stop,step\n",
    "\n",
    "- str[start:stop:step]"
   ]
  },
  {
   "cell_type": "code",
   "execution_count": null,
   "id": "fa279d0a-44f7-4996-a1b6-a595fdc6e067",
   "metadata": {},
   "outputs": [],
   "source": [
    "s='hai how are you'\n",
    "#-15  -14  -13  -12  -11  -10  -9  -8  -7  -6  -5  -4  -3  -2  -1\n",
    "#h     a    i         h    o    w       a   r   e       y  o   u\n",
    "#0     1    2   3     4    5    6  7    8   9   10  11  12 13  14"
   ]
  },
  {
   "cell_type": "markdown",
   "id": "199695e4-013c-49ce-be24-9460ae24194b",
   "metadata": {},
   "source": [
    "$pattern-1$\n",
    "\n",
    "**string[start:]**\n",
    "\n",
    "- start means start value only\n",
    "\n",
    "- Increment by one only\n",
    "\n",
    "- Nothing mentioned at the stop position means till last"
   ]
  },
  {
   "cell_type": "code",
   "execution_count": 2,
   "id": "56150c3e-387c-4201-917c-2fb7117562ea",
   "metadata": {},
   "outputs": [
    {
     "data": {
      "text/plain": [
       "'i how are you'"
      ]
     },
     "execution_count": 2,
     "metadata": {},
     "output_type": "execute_result"
    }
   ],
   "source": [
    "#-15  -14  -13  -12  -11  -10  -9  -8  -7  -6  -5  -4  -3  -2  -1\n",
    "#h     a    i         h    o    w       a   r   e       y  o   u\n",
    "#0     1    2   3     4    5    6  7    8   9   10  11  12 13  14\n",
    "s='hai how are you'\n",
    "s[2:]"
   ]
  },
  {
   "cell_type": "markdown",
   "id": "1e330baf-428c-4e24-a782-a6d63839801e",
   "metadata": {},
   "source": [
    "$pattern-2$\n",
    "\n",
    "**string[start:stop]**\n",
    "\n",
    "- start means start value only\n",
    "\n",
    "- Increment by one only\n",
    "\n",
    "- last= stop-1\n",
    "\n",
    "- string[2:10]\n",
    "\n",
    "    - start =2 \n",
    "\n",
    "    - last=10-1=9"
   ]
  },
  {
   "cell_type": "code",
   "execution_count": 3,
   "id": "58fc5318-7dae-4ce5-8d7a-3cccc6744636",
   "metadata": {},
   "outputs": [
    {
     "data": {
      "text/plain": [
       "'i how ar'"
      ]
     },
     "execution_count": 3,
     "metadata": {},
     "output_type": "execute_result"
    }
   ],
   "source": [
    "#-15  -14  -13  -12  -11  -10  -9  -8  -7  -6  -5  -4  -3  -2  -1\n",
    "#h     a    i         h    o    w       a   r   e       y  o   u\n",
    "#0     1    2   3     4    5    6  7    8   9   10  11  12 13  14\n",
    "s='hai how are you'\n",
    "s[2:10]"
   ]
  },
  {
   "cell_type": "code",
   "execution_count": 4,
   "id": "61b415c6-ff34-4c51-8c8d-62cca86506d0",
   "metadata": {},
   "outputs": [
    {
     "data": {
      "text/plain": [
       "'ai how are'"
      ]
     },
     "execution_count": 4,
     "metadata": {},
     "output_type": "execute_result"
    }
   ],
   "source": [
    "s[-14:-4]\n",
    "# start=-14\n",
    "# last = -4-1=-5"
   ]
  },
  {
   "cell_type": "code",
   "execution_count": 5,
   "id": "573883b0-9457-4bc4-9e18-30c481e75922",
   "metadata": {},
   "outputs": [
    {
     "data": {
      "text/plain": [
       "'i how are y'"
      ]
     },
     "execution_count": 5,
     "metadata": {},
     "output_type": "execute_result"
    }
   ],
   "source": [
    "s[2:-2]\n",
    "# start=2\n",
    "# stop=-2-1=-3"
   ]
  },
  {
   "cell_type": "code",
   "execution_count": 6,
   "id": "7b6a057c-d990-413d-9911-ca7e3fa1c38c",
   "metadata": {},
   "outputs": [
    {
     "data": {
      "text/plain": [
       "''"
      ]
     },
     "execution_count": 6,
     "metadata": {},
     "output_type": "execute_result"
    }
   ],
   "source": [
    "s[10:2]"
   ]
  },
  {
   "cell_type": "code",
   "execution_count": 7,
   "id": "cddb138a-a910-4dd0-90f9-2a756137c280",
   "metadata": {},
   "outputs": [],
   "source": [
    "for i in range(10,2):\n",
    "    print(i)"
   ]
  },
  {
   "cell_type": "code",
   "execution_count": 8,
   "id": "a9c1aaac-1fac-4221-b6cf-2b22d6d75132",
   "metadata": {},
   "outputs": [
    {
     "data": {
      "text/plain": [
       "''"
      ]
     },
     "execution_count": 8,
     "metadata": {},
     "output_type": "execute_result"
    }
   ],
   "source": [
    "s[-4:-14]"
   ]
  },
  {
   "cell_type": "code",
   "execution_count": null,
   "id": "503f9b82-4424-467d-b9a0-bb3b7447082e",
   "metadata": {},
   "outputs": [],
   "source": [
    "s[2:-2] # ans\n",
    "\n",
    "for i in range(2,-2): # No ans\n",
    "    print(i)"
   ]
  },
  {
   "cell_type": "markdown",
   "id": "ebd4d8ee-c512-459f-ab90-f84dfc9ba05b",
   "metadata": {},
   "source": [
    "$pattern-3$\n",
    "\n",
    "**string[start:stop:step]**\n",
    "\n",
    "- start means start value only\n",
    "\n",
    "- step means how much gap\n",
    "\n",
    "    - positive value indicates positive direction\n",
    "\n",
    "        - last=stop-1\n",
    "\n",
    "    - negative value indicates negative direction\n",
    "\n",
    "        - last= stop+1\n",
    "\n",
    "\n",
    "\n"
   ]
  },
  {
   "cell_type": "code",
   "execution_count": 9,
   "id": "db694f1f-acc0-43e2-87ab-01757d687797",
   "metadata": {},
   "outputs": [
    {
     "data": {
      "text/plain": [
       "'ihwae'"
      ]
     },
     "execution_count": 9,
     "metadata": {},
     "output_type": "execute_result"
    }
   ],
   "source": [
    "#-15  -14  -13  -12  -11  -10  -9  -8  -7  -6  -5  -4  -3  -2  -1\n",
    "#h     a    i         h    o    w       a   r   e       y  o   u\n",
    "#0     1    2   3     4    5    6  7    8   9   10  11  12 13  14\n",
    "s='hai how are you'\n",
    "s[2:12:2]\n",
    "# start=2  step=2 postive  last=12-1=11"
   ]
  },
  {
   "cell_type": "code",
   "execution_count": 10,
   "id": "ce7b3fc8-627c-4936-9f31-241a669ceb0a",
   "metadata": {},
   "outputs": [
    {
     "data": {
      "text/plain": [
       "'ihwaey'"
      ]
     },
     "execution_count": 10,
     "metadata": {},
     "output_type": "execute_result"
    }
   ],
   "source": [
    "s[2:-2:2]\n",
    "# start=2  step=2 postive  last =-2-1=-3"
   ]
  },
  {
   "cell_type": "code",
   "execution_count": 11,
   "id": "af790ff7-3441-44c8-b4e6-bde6d547aad2",
   "metadata": {},
   "outputs": [
    {
     "data": {
      "text/plain": [
       "''"
      ]
     },
     "execution_count": 11,
     "metadata": {},
     "output_type": "execute_result"
    }
   ],
   "source": [
    "s[2:-2:-2]"
   ]
  },
  {
   "cell_type": "code",
   "execution_count": 15,
   "id": "9d89a43d-5cce-4685-892e-0301f9010c69",
   "metadata": {},
   "outputs": [
    {
     "name": "stdout",
     "output_type": "stream",
     "text": [
      "1:  wry\n",
      "2: \n",
      "3: \n",
      "4: h\n",
      "5: y\n",
      "6: \n",
      "7: yrw \n",
      "8: \n",
      "9: oe h\n",
      "10: \n",
      "11: o\n",
      "12: i\n",
      "13: \n",
      "14: ioa \n",
      "15: \n"
     ]
    }
   ],
   "source": [
    "#-15  -14  -13  -12  -11  -10  -9  -8  -7  -6  -5  -4  -3  -2  -1\n",
    "#h     a    i         h    o    w       a   r   e       y  o   u\n",
    "#0     1    2   3     4    5    6  7    8   9   10  11  12 13  14\n",
    "s='hai how are you'\n",
    "\n",
    "print('1:',s[3:13:3])  # w\n",
    "print('2:',s[3:13:-3]) # F \n",
    "print('3:',s[4:-13:3]) # ===== F\n",
    "print('4:',s[4:-13:-3]) #  === h\n",
    "print('5:',s[-3:13:3])  # w\n",
    "print('6:',s[-3:13:-3]) # f\n",
    "print('7:',s[-3:-13:-3]) #  w\n",
    "print('8:',s[13:3:3]) #  F \n",
    "print('9:',s[13:3:-3]) # W\n",
    "print('10:',s[13:-3:3]) #  F\n",
    "print('11:',s[13:-3:-3]) # W\n",
    "print('12:',s[-13:3:3]) #  w\n",
    "print('13:',s[-13:3:-3]) # f\n",
    "print('14:',s[-13:-3:3]) # w\n",
    "print('15:',s[-13:-3:-3]) # f"
   ]
  },
  {
   "cell_type": "code",
   "execution_count": null,
   "id": "d7b21c02-6e9a-4e1d-8e64-72724436730b",
   "metadata": {},
   "outputs": [],
   "source": [
    "string[start:stop:step]\n",
    "step ==== how much gap\n",
    "\n",
    "1  2   3  4  5\n",
    "step=3\n",
    "1  4"
   ]
  },
  {
   "cell_type": "markdown",
   "id": "7f989a00-af9b-4692-a340-dee15282fb12",
   "metadata": {},
   "source": [
    "**Concatenation**\n",
    "\n",
    "- Take two strings\n",
    "\n",
    "- Apply + - / *\n",
    "\n",
    "- Tell me which works and which not works"
   ]
  },
  {
   "cell_type": "code",
   "execution_count": 16,
   "id": "6cf9d2e3-88a0-45ee-953e-8b0787dcb497",
   "metadata": {},
   "outputs": [
    {
     "data": {
      "text/plain": [
       "'hellohai'"
      ]
     },
     "execution_count": 16,
     "metadata": {},
     "output_type": "execute_result"
    }
   ],
   "source": [
    "str1='hello'\n",
    "str2='hai'\n",
    "str1+str2"
   ]
  },
  {
   "cell_type": "code",
   "execution_count": 17,
   "id": "8cc565a5-c915-4456-9ef0-bed6830ed55e",
   "metadata": {},
   "outputs": [
    {
     "ename": "TypeError",
     "evalue": "can't multiply sequence by non-int of type 'str'",
     "output_type": "error",
     "traceback": [
      "\u001b[1;31m---------------------------------------------------------------------------\u001b[0m",
      "\u001b[1;31mTypeError\u001b[0m                                 Traceback (most recent call last)",
      "Cell \u001b[1;32mIn[17], line 1\u001b[0m\n\u001b[1;32m----> 1\u001b[0m str1\u001b[38;5;241m*\u001b[39mstr2\n",
      "\u001b[1;31mTypeError\u001b[0m: can't multiply sequence by non-int of type 'str'"
     ]
    }
   ],
   "source": [
    "str1*str2"
   ]
  },
  {
   "cell_type": "code",
   "execution_count": 18,
   "id": "0635305b-aa7a-4ab1-9f79-2503128b6b3a",
   "metadata": {},
   "outputs": [
    {
     "ename": "TypeError",
     "evalue": "unsupported operand type(s) for -: 'str' and 'str'",
     "output_type": "error",
     "traceback": [
      "\u001b[1;31m---------------------------------------------------------------------------\u001b[0m",
      "\u001b[1;31mTypeError\u001b[0m                                 Traceback (most recent call last)",
      "Cell \u001b[1;32mIn[18], line 1\u001b[0m\n\u001b[1;32m----> 1\u001b[0m str1\u001b[38;5;241m-\u001b[39mstr2\n",
      "\u001b[1;31mTypeError\u001b[0m: unsupported operand type(s) for -: 'str' and 'str'"
     ]
    }
   ],
   "source": [
    "str1-str2"
   ]
  },
  {
   "cell_type": "code",
   "execution_count": 19,
   "id": "954b9290-030f-4e9a-ba71-97fc058daa34",
   "metadata": {},
   "outputs": [
    {
     "ename": "TypeError",
     "evalue": "unsupported operand type(s) for /: 'str' and 'str'",
     "output_type": "error",
     "traceback": [
      "\u001b[1;31m---------------------------------------------------------------------------\u001b[0m",
      "\u001b[1;31mTypeError\u001b[0m                                 Traceback (most recent call last)",
      "Cell \u001b[1;32mIn[19], line 1\u001b[0m\n\u001b[1;32m----> 1\u001b[0m str1\u001b[38;5;241m/\u001b[39mstr2\n",
      "\u001b[1;31mTypeError\u001b[0m: unsupported operand type(s) for /: 'str' and 'str'"
     ]
    }
   ],
   "source": [
    "str1/str2"
   ]
  },
  {
   "cell_type": "code",
   "execution_count": null,
   "id": "47d8475d-c310-43c6-9431-bd870b957453",
   "metadata": {},
   "outputs": [],
   "source": [
    "* :TypeError: can't multiply sequence by non-int of type 'str'\n",
    "- :TypeError: unsupported operand type(s) for -: 'str' and 'str'\n",
    "/ :TypeError: unsupported operand type(s) for /: 'str' and 'str'"
   ]
  },
  {
   "cell_type": "markdown",
   "id": "277bb851-2279-4037-b44d-553434269278",
   "metadata": {},
   "source": [
    "- subtraction and division operands never use\n",
    "\n",
    "- but we can use multiplication by using a str with any integer"
   ]
  },
  {
   "cell_type": "code",
   "execution_count": 20,
   "id": "2a911e83-afda-451d-bb27-439a18381378",
   "metadata": {},
   "outputs": [
    {
     "data": {
      "text/plain": [
       "'haihaihai'"
      ]
     },
     "execution_count": 20,
     "metadata": {},
     "output_type": "execute_result"
    }
   ],
   "source": [
    "str1='hai'\n",
    "str1*3"
   ]
  },
  {
   "cell_type": "code",
   "execution_count": null,
   "id": "09ccfc8b-59a6-4d86-bbd7-0d98262fd8c2",
   "metadata": {},
   "outputs": [],
   "source": [
    "#str1+str1+str1 ==== str1*3"
   ]
  },
  {
   "cell_type": "code",
   "execution_count": null,
   "id": "606dd434-72df-4dcf-84ee-0f0d0515bf6e",
   "metadata": {},
   "outputs": [],
   "source": [
    "- intialiization\n",
    "\n",
    "- len\n",
    "\n",
    "- type\n",
    "\n",
    "- max\n",
    "\n",
    "- min\n",
    "\n",
    "- reversed\n",
    "\n",
    "- sorted\n",
    "\n",
    "- in\n",
    "\n",
    "- index\n",
    "\n",
    "- mutable immutable\n",
    "\n",
    "- slice\n",
    "\n",
    "- concatenation"
   ]
  },
  {
   "cell_type": "markdown",
   "id": "0e382c46-f4be-4d90-b5bf-779ed1fb201d",
   "metadata": {},
   "source": [
    "**string methods**"
   ]
  },
  {
   "cell_type": "code",
   "execution_count": 21,
   "id": "a83c3e80-184d-4733-b09b-bc1e5886ce98",
   "metadata": {},
   "outputs": [
    {
     "data": {
      "text/plain": [
       "['__add__',\n",
       " '__class__',\n",
       " '__contains__',\n",
       " '__delattr__',\n",
       " '__dir__',\n",
       " '__doc__',\n",
       " '__eq__',\n",
       " '__format__',\n",
       " '__ge__',\n",
       " '__getattribute__',\n",
       " '__getitem__',\n",
       " '__getnewargs__',\n",
       " '__getstate__',\n",
       " '__gt__',\n",
       " '__hash__',\n",
       " '__init__',\n",
       " '__init_subclass__',\n",
       " '__iter__',\n",
       " '__le__',\n",
       " '__len__',\n",
       " '__lt__',\n",
       " '__mod__',\n",
       " '__mul__',\n",
       " '__ne__',\n",
       " '__new__',\n",
       " '__reduce__',\n",
       " '__reduce_ex__',\n",
       " '__repr__',\n",
       " '__rmod__',\n",
       " '__rmul__',\n",
       " '__setattr__',\n",
       " '__sizeof__',\n",
       " '__str__',\n",
       " '__subclasshook__',\n",
       " 'capitalize',\n",
       " 'casefold',\n",
       " 'center',\n",
       " 'count',\n",
       " 'encode',\n",
       " 'endswith',\n",
       " 'expandtabs',\n",
       " 'find',\n",
       " 'format',\n",
       " 'format_map',\n",
       " 'index',\n",
       " 'isalnum',\n",
       " 'isalpha',\n",
       " 'isascii',\n",
       " 'isdecimal',\n",
       " 'isdigit',\n",
       " 'isidentifier',\n",
       " 'islower',\n",
       " 'isnumeric',\n",
       " 'isprintable',\n",
       " 'isspace',\n",
       " 'istitle',\n",
       " 'isupper',\n",
       " 'join',\n",
       " 'ljust',\n",
       " 'lower',\n",
       " 'lstrip',\n",
       " 'maketrans',\n",
       " 'partition',\n",
       " 'removeprefix',\n",
       " 'removesuffix',\n",
       " 'replace',\n",
       " 'rfind',\n",
       " 'rindex',\n",
       " 'rjust',\n",
       " 'rpartition',\n",
       " 'rsplit',\n",
       " 'rstrip',\n",
       " 'split',\n",
       " 'splitlines',\n",
       " 'startswith',\n",
       " 'strip',\n",
       " 'swapcase',\n",
       " 'title',\n",
       " 'translate',\n",
       " 'upper',\n",
       " 'zfill']"
      ]
     },
     "execution_count": 21,
     "metadata": {},
     "output_type": "execute_result"
    }
   ],
   "source": [
    "# Import the pcakge\n",
    "# dir(package)\n",
    "str1='abc'\n",
    "dir('')  # dir(str1)"
   ]
  },
  {
   "cell_type": "code",
   "execution_count": null,
   "id": "26522efc-c97d-4991-9c6b-6cdaf32d380d",
   "metadata": {},
   "outputs": [],
   "source": [
    "# import package\n",
    "# pcakge_name.method_name()\n",
    "\n",
    "# len()\n",
    "# type()"
   ]
  },
  {
   "cell_type": "markdown",
   "id": "3ccb6d41-a188-42e4-98f2-bf7145067a12",
   "metadata": {},
   "source": [
    "**upper**"
   ]
  },
  {
   "cell_type": "markdown",
   "id": "b77842df-9280-4228-a931-96de322abb8a",
   "metadata": {},
   "source": [
    "- upper is a string method\n",
    "\n",
    "- will convert string into upper case"
   ]
  },
  {
   "cell_type": "code",
   "execution_count": 22,
   "id": "7f85f4f9-d035-4e92-b2fe-a31f11384add",
   "metadata": {},
   "outputs": [
    {
     "data": {
      "text/plain": [
       "'HELLO'"
      ]
     },
     "execution_count": 22,
     "metadata": {},
     "output_type": "execute_result"
    }
   ],
   "source": [
    "str1='hello'\n",
    "str1.upper()\n",
    "#upper(str1) # It is not a inbuilt"
   ]
  },
  {
   "cell_type": "code",
   "execution_count": 24,
   "id": "d26c840e-86f0-4b46-996c-98818fdf2647",
   "metadata": {},
   "outputs": [
    {
     "data": {
      "text/plain": [
       "'WELCOME'"
      ]
     },
     "execution_count": 24,
     "metadata": {},
     "output_type": "execute_result"
    }
   ],
   "source": [
    "str1='welcome'\n",
    "str1.upper()"
   ]
  },
  {
   "cell_type": "markdown",
   "id": "bfeb79ef-4e56-4838-aeb9-524302b41cc1",
   "metadata": {},
   "source": [
    "- lower\n",
    "\n",
    "- casefold\n",
    "\n",
    "- capitalize\n",
    "\n",
    "- center"
   ]
  },
  {
   "cell_type": "code",
   "execution_count": 26,
   "id": "ef503379-4f81-45ec-a331-6958669c0bc9",
   "metadata": {},
   "outputs": [
    {
     "data": {
      "text/plain": [
       "'Hello'"
      ]
     },
     "execution_count": 26,
     "metadata": {},
     "output_type": "execute_result"
    }
   ],
   "source": [
    "s1='hello'\n",
    "s1.capitalize()"
   ]
  },
  {
   "cell_type": "code",
   "execution_count": 28,
   "id": "e4c1f493-e723-468a-9153-760b37846eed",
   "metadata": {},
   "outputs": [
    {
     "data": {
      "text/plain": [
       "'hello'"
      ]
     },
     "execution_count": 28,
     "metadata": {},
     "output_type": "execute_result"
    }
   ],
   "source": [
    "s1='HELLO'\n",
    "s1.lower()"
   ]
  },
  {
   "cell_type": "code",
   "execution_count": 29,
   "id": "9b9edcf1-6f03-4bb4-8605-337cd6c9ba02",
   "metadata": {},
   "outputs": [
    {
     "data": {
      "text/plain": [
       "'hello'"
      ]
     },
     "execution_count": 29,
     "metadata": {},
     "output_type": "execute_result"
    }
   ],
   "source": [
    "s1='HELLO'\n",
    "s1.casefold()"
   ]
  },
  {
   "cell_type": "markdown",
   "id": "bdf08946-251d-4d97-930d-8dc5159b8b52",
   "metadata": {},
   "source": [
    "- lower and casefold will give caseless means lower case"
   ]
  },
  {
   "cell_type": "code",
   "execution_count": 37,
   "id": "c08a8836-dcd8-4fdf-9da7-b53bcffd7731",
   "metadata": {},
   "outputs": [
    {
     "data": {
      "text/plain": [
       "10"
      ]
     },
     "execution_count": 37,
     "metadata": {},
     "output_type": "execute_result"
    }
   ],
   "source": [
    "s1='hello'  # 5\n",
    "s2=s1.center(10,'-') # 10\n",
    "len(s2)"
   ]
  },
  {
   "cell_type": "code",
   "execution_count": 38,
   "id": "2b37a96d-ea2b-4d4b-b07a-3dfcbbedc3e1",
   "metadata": {},
   "outputs": [
    {
     "data": {
      "text/plain": [
       "'--hello---'"
      ]
     },
     "execution_count": 38,
     "metadata": {},
     "output_type": "execute_result"
    }
   ],
   "source": [
    "s2"
   ]
  },
  {
   "cell_type": "code",
   "execution_count": null,
   "id": "1960f5f2-37dc-45ee-97ca-db9fe4d0ed05",
   "metadata": {},
   "outputs": [],
   "source": [
    "'hello' ===== '   hello  '"
   ]
  },
  {
   "cell_type": "code",
   "execution_count": 39,
   "id": "481704af-519b-451c-9e1f-5c4c8a7f11f6",
   "metadata": {},
   "outputs": [
    {
     "data": {
      "text/plain": [
       "'**gmail***'"
      ]
     },
     "execution_count": 39,
     "metadata": {},
     "output_type": "execute_result"
    }
   ],
   "source": [
    "s1='gmail'\n",
    "s1.center(10,'*')"
   ]
  },
  {
   "cell_type": "markdown",
   "id": "504b8ecd-3ce0-4d21-9337-8f1a9a0a121e",
   "metadata": {},
   "source": [
    "**Title**"
   ]
  },
  {
   "cell_type": "code",
   "execution_count": 40,
   "id": "0c970a84-c0e9-4ed8-9d78-ececd41dfed6",
   "metadata": {},
   "outputs": [
    {
     "data": {
      "text/plain": [
       "'Hello How Are You'"
      ]
     },
     "execution_count": 40,
     "metadata": {},
     "output_type": "execute_result"
    }
   ],
   "source": [
    "s='hello how are you'\n",
    "s.title()\n",
    "# Understand the difference with\n",
    "# Capitalize and Upper "
   ]
  },
  {
   "cell_type": "markdown",
   "id": "65960558-4833-4fae-af71-1508c1ac4f73",
   "metadata": {},
   "source": [
    "**Count**"
   ]
  },
  {
   "cell_type": "code",
   "execution_count": 41,
   "id": "21468079-7703-4366-967e-5e92b2262a91",
   "metadata": {},
   "outputs": [
    {
     "name": "stdout",
     "output_type": "stream",
     "text": [
      "2\n"
     ]
    }
   ],
   "source": [
    "str1='hello hai how are you'\n",
    "# I want to know how many 'a' are avialable\n",
    "count=0\n",
    "for i in str1:\n",
    "    if i=='a':\n",
    "        count=count+1\n",
    "\n",
    "print(count)"
   ]
  },
  {
   "cell_type": "code",
   "execution_count": 42,
   "id": "def28f9e-9512-403e-a5a4-c50ac5354e37",
   "metadata": {},
   "outputs": [
    {
     "data": {
      "text/plain": [
       "2"
      ]
     },
     "execution_count": 42,
     "metadata": {},
     "output_type": "execute_result"
    }
   ],
   "source": [
    "str1='hello hai how are you'\n",
    "str1.count('a')\n",
    "# with out using any method "
   ]
  },
  {
   "cell_type": "code",
   "execution_count": null,
   "id": "954cc886-bcc8-4a51-8be0-4af24497432d",
   "metadata": {},
   "outputs": [],
   "source": [
    "# Q1) str='hello hai how are you'\n",
    "#     str='Hello Hai How Aare You'  with out using method\n",
    "\n"
   ]
  },
  {
   "cell_type": "code",
   "execution_count": 49,
   "id": "cdada1aa-fa32-4c01-9774-299c510b4019",
   "metadata": {},
   "outputs": [
    {
     "data": {
      "text/plain": [
       "1"
      ]
     },
     "execution_count": 49,
     "metadata": {},
     "output_type": "execute_result"
    }
   ],
   "source": [
    "str1='ola ola ola'\n",
    "str1.count('ola ola ola')\n",
    "str1.count(str1)"
   ]
  },
  {
   "cell_type": "code",
   "execution_count": 50,
   "id": "3da657a9-e5d5-46c4-af08-d70a4d195088",
   "metadata": {},
   "outputs": [
    {
     "data": {
      "text/plain": [
       "0"
      ]
     },
     "execution_count": 50,
     "metadata": {},
     "output_type": "execute_result"
    }
   ],
   "source": [
    "str1.count('uber')"
   ]
  },
  {
   "cell_type": "code",
   "execution_count": null,
   "id": "d449189b-e6ee-49fc-bb2b-2f150bc21dc8",
   "metadata": {},
   "outputs": [],
   "source": [
    "# Q1) str='hello hai how are you'\n",
    "#     str='Hello Hai How Aare You'  with out using method\n",
    "\n",
    "# Q2) str='ola ola ola'\n",
    "#     count=3   with out using method"
   ]
  },
  {
   "cell_type": "code",
   "execution_count": null,
   "id": "19374fad-03a8-423a-8d88-e329615670e9",
   "metadata": {},
   "outputs": [],
   "source": [
    "# Idea is you need to divide the sentence into words\n",
    "# you need to iterate each word and apply .title\n",
    "# again you need to concatenate with all the words"
   ]
  },
  {
   "cell_type": "code",
   "execution_count": 6,
   "id": "cf6b12cf-2ee0-43cd-b8e7-66984c602133",
   "metadata": {},
   "outputs": [
    {
     "data": {
      "text/plain": [
       "1"
      ]
     },
     "execution_count": 6,
     "metadata": {},
     "output_type": "execute_result"
    }
   ],
   "source": [
    "str1='ola ola ola'\n",
    "str1.count('o',8) # we are searching the number of 'o' from 8th index"
   ]
  },
  {
   "cell_type": "code",
   "execution_count": 8,
   "id": "1aa68294-3f45-494f-b584-126422505ed9",
   "metadata": {},
   "outputs": [
    {
     "data": {
      "text/plain": [
       "0"
      ]
     },
     "execution_count": 8,
     "metadata": {},
     "output_type": "execute_result"
    }
   ],
   "source": [
    "str1='ola ola ola'\n",
    "str1.count('o',2,4) # we are searching the 'o' from 2 to 3"
   ]
  },
  {
   "cell_type": "code",
   "execution_count": 10,
   "id": "2bf8c021-9156-4632-9396-cf084cafade2",
   "metadata": {},
   "outputs": [
    {
     "data": {
      "text/plain": [
       "'a '"
      ]
     },
     "execution_count": 10,
     "metadata": {},
     "output_type": "execute_result"
    }
   ],
   "source": [
    "# o l a    o l a   o l  a\n",
    "# 0 1 2 3  4 5 6 7 8 9 10\n",
    "str1[2:4]  # what you are seeing output"
   ]
  },
  {
   "cell_type": "markdown",
   "id": "4e7a00af-b68f-427f-b7c5-f81307676f98",
   "metadata": {},
   "source": [
    "**replace**"
   ]
  },
  {
   "cell_type": "code",
   "execution_count": 11,
   "id": "7e42eab9-6d42-4f57-baa4-9a17798458df",
   "metadata": {},
   "outputs": [],
   "source": [
    "str1='welcome'\n",
    "# o/p: 'weLcome'\n"
   ]
  },
  {
   "cell_type": "code",
   "execution_count": 13,
   "id": "01fb02ff-8e0a-41a8-a1c8-0cb2797dde46",
   "metadata": {},
   "outputs": [
    {
     "ename": "TypeError",
     "evalue": "'str' object does not support item assignment",
     "output_type": "error",
     "traceback": [
      "\u001b[1;31m---------------------------------------------------------------------------\u001b[0m",
      "\u001b[1;31mTypeError\u001b[0m                                 Traceback (most recent call last)",
      "Cell \u001b[1;32mIn[13], line 1\u001b[0m\n\u001b[1;32m----> 1\u001b[0m str1[\u001b[38;5;241m2\u001b[39m]\u001b[38;5;241m=\u001b[39m\u001b[38;5;124m'\u001b[39m\u001b[38;5;124mL\u001b[39m\u001b[38;5;124m'\u001b[39m\n",
      "\u001b[1;31mTypeError\u001b[0m: 'str' object does not support item assignment"
     ]
    }
   ],
   "source": [
    "str1[2]='L'"
   ]
  },
  {
   "cell_type": "code",
   "execution_count": 14,
   "id": "db8561a6-993e-4ccb-89a3-adb8798bf212",
   "metadata": {},
   "outputs": [
    {
     "data": {
      "text/plain": [
       "'weLcome'"
      ]
     },
     "execution_count": 14,
     "metadata": {},
     "output_type": "execute_result"
    }
   ],
   "source": [
    "str1.replace('l','L')"
   ]
  },
  {
   "cell_type": "code",
   "execution_count": 15,
   "id": "7d32673b-13db-4882-9b26-952b2f9fa303",
   "metadata": {},
   "outputs": [
    {
     "data": {
      "text/plain": [
       "'wLLLcome'"
      ]
     },
     "execution_count": 15,
     "metadata": {},
     "output_type": "execute_result"
    }
   ],
   "source": [
    "str1='wlllcome'\n",
    "str1.replace('l','L') # old='l'  new='L'\n",
    "# by default it will replace all occurences"
   ]
  },
  {
   "cell_type": "code",
   "execution_count": 16,
   "id": "c28e95a6-3095-4ad6-b8c9-d46b2cd1055f",
   "metadata": {},
   "outputs": [
    {
     "data": {
      "text/plain": [
       "'wLllcome'"
      ]
     },
     "execution_count": 16,
     "metadata": {},
     "output_type": "execute_result"
    }
   ],
   "source": [
    "str1='wlllcome'\n",
    "str1.replace('l','L',1)\n",
    "# old='l'  new='L'\n",
    "# count=1\n",
    "# replace first occurence"
   ]
  },
  {
   "cell_type": "code",
   "execution_count": 17,
   "id": "fe3bf3e7-0f91-4443-a23f-5c3b7a031808",
   "metadata": {},
   "outputs": [
    {
     "data": {
      "text/plain": [
       "'wLLlcome'"
      ]
     },
     "execution_count": 17,
     "metadata": {},
     "output_type": "execute_result"
    }
   ],
   "source": [
    "str1='wlllcome'\n",
    "str1.replace('l','L',2)\n",
    "# old='l'  new='L'\n",
    "# count=2\n",
    "# replace two occurence"
   ]
  },
  {
   "cell_type": "code",
   "execution_count": 18,
   "id": "21c3d182-b5ad-4540-ace7-42259919c8b7",
   "metadata": {},
   "outputs": [
    {
     "data": {
      "text/plain": [
       "'wLLLcome'"
      ]
     },
     "execution_count": 18,
     "metadata": {},
     "output_type": "execute_result"
    }
   ],
   "source": [
    "str1='wlllcome'\n",
    "str1.replace('l','L',3)"
   ]
  },
  {
   "cell_type": "code",
   "execution_count": 22,
   "id": "252b214f-3fea-420c-8871-3f12abe951b9",
   "metadata": {},
   "outputs": [
    {
     "data": {
      "text/plain": [
       "'wLLlcome'"
      ]
     },
     "execution_count": 22,
     "metadata": {},
     "output_type": "execute_result"
    }
   ],
   "source": [
    "str1='wlllcome'\n",
    "str1.replace('l','L',2)"
   ]
  },
  {
   "cell_type": "code",
   "execution_count": 23,
   "id": "9cd58db1-58f7-40e1-b727-9d72e0aa1ca2",
   "metadata": {},
   "outputs": [
    {
     "data": {
      "text/plain": [
       "'resta$t'"
      ]
     },
     "execution_count": 23,
     "metadata": {},
     "output_type": "execute_result"
    }
   ],
   "source": [
    "# str='restart'\n",
    "# op='resta$t'\n",
    "str1='restart'\n",
    "str1.replace('ar','a$')"
   ]
  },
  {
   "cell_type": "code",
   "execution_count": 29,
   "id": "2f7f4796-76c9-4ce5-9072-abdf6074d223",
   "metadata": {},
   "outputs": [
    {
     "data": {
      "text/plain": [
       "'resta$t'"
      ]
     },
     "execution_count": 29,
     "metadata": {},
     "output_type": "execute_result"
    }
   ],
   "source": [
    "str1='restart'\n",
    "s1=str1[:1]\n",
    "s1 # 'r'\n",
    "s2=str1[1:]\n",
    "s2 # 'estart'\n",
    "s3=s2.replace('r','$') # 'esta$t'\n",
    "s3\n",
    "s4=s1+s3\n",
    "s4\n",
    "# slice \n",
    "# replace\n",
    "# concate"
   ]
  },
  {
   "cell_type": "code",
   "execution_count": 30,
   "id": "de2465cc-2934-45d7-a1f2-4f87c3e1e98c",
   "metadata": {},
   "outputs": [
    {
     "data": {
      "text/plain": [
       "('restart', 'r', 'estart', 'esta$t', 'resta$t')"
      ]
     },
     "execution_count": 30,
     "metadata": {},
     "output_type": "execute_result"
    }
   ],
   "source": [
    "str1,s1,s2,s3,s4"
   ]
  },
  {
   "cell_type": "code",
   "execution_count": 35,
   "id": "ba1cae20-1158-4107-9f4d-27967c867d5b",
   "metadata": {},
   "outputs": [
    {
     "data": {
      "text/plain": [
       "'resta$t'"
      ]
     },
     "execution_count": 35,
     "metadata": {},
     "output_type": "execute_result"
    }
   ],
   "source": [
    "str1[::-1].replace('r','$',1)[::-1]"
   ]
  },
  {
   "cell_type": "code",
   "execution_count": 43,
   "id": "133e5038-b655-42ed-8a20-7a45abc57c23",
   "metadata": {},
   "outputs": [
    {
     "data": {
      "text/plain": [
       "('tratser', 't$atser', 'resta$t')"
      ]
     },
     "execution_count": 43,
     "metadata": {},
     "output_type": "execute_result"
    }
   ],
   "source": [
    "s1=str1[::-1]\n",
    "s2=s1.replace('r','$',1)\n",
    "s3=s2[::-1]\n",
    "s1,s2,s3\n",
    "\n",
    "str1[::-1].replace('r','$',1)\n",
    "str1[::-1].replace('r','$',1)[::-1]"
   ]
  },
  {
   "cell_type": "code",
   "execution_count": 38,
   "id": "d1fe3911-a773-4bf2-996c-9bc3b9254d93",
   "metadata": {},
   "outputs": [
    {
     "data": {
      "text/plain": [
       "'hello '"
      ]
     },
     "execution_count": 38,
     "metadata": {},
     "output_type": "execute_result"
    }
   ],
   "source": [
    "s1='hello python hello restart'\n",
    "s1[:6]"
   ]
  },
  {
   "cell_type": "markdown",
   "id": "3cb6ed64-58e0-4c9e-bcd6-b7d26d501a18",
   "metadata": {},
   "source": [
    "**Index-find**\n",
    "\n",
    "- Index\n",
    "\n",
    "    - in above example we are counting the 'r' by own\n",
    "\n",
    "    - here 'r' is first letter then we are able to do\n",
    "\n",
    "    - imagine that 'r' is after 100 charcters , we are not able to do\n",
    "\n",
    "    - the index of the 'r' should come automatically"
   ]
  },
  {
   "cell_type": "code",
   "execution_count": 39,
   "id": "3c5d4617-8aac-42be-bed2-cd54f0eaacd8",
   "metadata": {},
   "outputs": [
    {
     "data": {
      "text/plain": [
       "'llo hai how are you'"
      ]
     },
     "execution_count": 39,
     "metadata": {},
     "output_type": "execute_result"
    }
   ],
   "source": [
    "s='hello hai how are you'\n",
    "#s[start:stop:step]\n",
    "#s[start:stop]\n",
    "s[2:]  # start=2  stop= "
   ]
  },
  {
   "cell_type": "code",
   "execution_count": 40,
   "id": "1c59860d-c000-4ca5-8e69-dd5111c68b89",
   "metadata": {},
   "outputs": [
    {
     "data": {
      "text/plain": [
       "'hello hai '"
      ]
     },
     "execution_count": 40,
     "metadata": {},
     "output_type": "execute_result"
    }
   ],
   "source": [
    "s[:10] # start=0 stop=10-1=9"
   ]
  },
  {
   "cell_type": "code",
   "execution_count": 41,
   "id": "ff94359d-8175-48cf-b3e5-d4130181af2b",
   "metadata": {},
   "outputs": [
    {
     "data": {
      "text/plain": [
       "'hello hai how are you'"
      ]
     },
     "execution_count": 41,
     "metadata": {},
     "output_type": "execute_result"
    }
   ],
   "source": [
    "s[::]# start=0 stop=till last"
   ]
  },
  {
   "cell_type": "code",
   "execution_count": 42,
   "id": "c7a568b1-401a-41f3-9d39-b42c85c76e6e",
   "metadata": {},
   "outputs": [
    {
     "data": {
      "text/plain": [
       "'uoy era woh iah olleh'"
      ]
     },
     "execution_count": 42,
     "metadata": {},
     "output_type": "execute_result"
    }
   ],
   "source": [
    "s[::-1]"
   ]
  },
  {
   "cell_type": "code",
   "execution_count": 48,
   "id": "bbe6fa1e-bf44-4469-9fbf-1000da992a0f",
   "metadata": {},
   "outputs": [
    {
     "data": {
      "text/plain": [
       "9"
      ]
     },
     "execution_count": 48,
     "metadata": {},
     "output_type": "execute_result"
    }
   ],
   "source": [
    "str1='ola ola ola'\n",
    "#str1.count()\n",
    "#str1.replace()\n",
    "str1.index('l')\n",
    "str1.index('l',6) # we are searching the 'l' index from 5th"
   ]
  },
  {
   "cell_type": "code",
   "execution_count": 49,
   "id": "8994a0d9-bbd7-45be-9309-c6cab6924106",
   "metadata": {},
   "outputs": [
    {
     "ename": "ValueError",
     "evalue": "substring not found",
     "output_type": "error",
     "traceback": [
      "\u001b[1;31m---------------------------------------------------------------------------\u001b[0m",
      "\u001b[1;31mValueError\u001b[0m                                Traceback (most recent call last)",
      "Cell \u001b[1;32mIn[49], line 1\u001b[0m\n\u001b[1;32m----> 1\u001b[0m str1\u001b[38;5;241m.\u001b[39mindex(\u001b[38;5;124m'\u001b[39m\u001b[38;5;124ml\u001b[39m\u001b[38;5;124m'\u001b[39m,\u001b[38;5;241m2\u001b[39m,\u001b[38;5;241m4\u001b[39m)\n",
      "\u001b[1;31mValueError\u001b[0m: substring not found"
     ]
    }
   ],
   "source": [
    "str1.index('l',2,4)\n",
    "# If substring not found it will raise value error"
   ]
  },
  {
   "cell_type": "code",
   "execution_count": 50,
   "id": "be499828-ac6e-4b0c-82eb-4d04e55f34d7",
   "metadata": {},
   "outputs": [
    {
     "data": {
      "text/plain": [
       "'ola ola ola'"
      ]
     },
     "execution_count": 50,
     "metadata": {},
     "output_type": "execute_result"
    }
   ],
   "source": [
    "str1='ola ola ola'\n",
    "str1.replace('z','l')"
   ]
  },
  {
   "cell_type": "code",
   "execution_count": 51,
   "id": "908518a8-53aa-4669-83ad-36a3994c0a55",
   "metadata": {},
   "outputs": [
    {
     "data": {
      "text/plain": [
       "0"
      ]
     },
     "execution_count": 51,
     "metadata": {},
     "output_type": "execute_result"
    }
   ],
   "source": [
    "str1.count('z')"
   ]
  },
  {
   "cell_type": "code",
   "execution_count": 54,
   "id": "a22212db-642b-47b3-96cf-2f01d54f1eea",
   "metadata": {},
   "outputs": [
    {
     "data": {
      "text/plain": [
       "9"
      ]
     },
     "execution_count": 54,
     "metadata": {},
     "output_type": "execute_result"
    }
   ],
   "source": [
    "str1='ola ola ola'\n",
    "# I want all 'l' indexes\n",
    "str1.index('l')\n",
    "# If i want to get 2nd index our eyes start look from where\n",
    "# after first l\n",
    "# after 1 ==== 2\n",
    "str1.index('l',2)\n",
    "str1.index('l',6)"
   ]
  },
  {
   "cell_type": "code",
   "execution_count": 60,
   "id": "2284a722-f103-4b3e-b176-96c563d13c5a",
   "metadata": {},
   "outputs": [
    {
     "data": {
      "text/plain": [
       "17"
      ]
     },
     "execution_count": 60,
     "metadata": {},
     "output_type": "execute_result"
    }
   ],
   "source": [
    "str1='ola ola ola ola ola'\n",
    "str1.index('l',1+0)\n",
    "str1.index('l',1+1)\n",
    "str1.index('l',1+5)\n",
    "str1.index('l',1+9)\n",
    "str1.index('l',1+13)"
   ]
  },
  {
   "cell_type": "code",
   "execution_count": 62,
   "id": "9fdedd6f-99b3-4c8d-b047-9ceced0c122b",
   "metadata": {},
   "outputs": [
    {
     "data": {
      "text/plain": [
       "(2, 6, 10, 14, 18)"
      ]
     },
     "execution_count": 62,
     "metadata": {},
     "output_type": "execute_result"
    }
   ],
   "source": [
    "str1='ola ola ola ola ola'\n",
    "i1=str1.index('a',1+0)\n",
    "i2=str1.index('a',1+i1)\n",
    "i3=str1.index('a',1+i2)\n",
    "i4=str1.index('a',1+i3)\n",
    "i5=str1.index('a',1+i4)\n",
    "i1,i2,i3,i4,i5"
   ]
  },
  {
   "cell_type": "code",
   "execution_count": 68,
   "id": "e688436d-60f3-4abe-870e-7cafda3d2ac4",
   "metadata": {},
   "outputs": [],
   "source": [
    "str1='ola ola ola ola ola'\n",
    "i1=str1.index('l')\n",
    "i2=str1.index('l',1+i1)\n",
    "i3=str1.index('l',1+i2)\n",
    "i4=str1.index('l',1+i3)\n",
    "i5=str1.index('l',1+i4)"
   ]
  },
  {
   "cell_type": "code",
   "execution_count": 72,
   "id": "74d3872c-039c-40e5-803f-689350c5a844",
   "metadata": {},
   "outputs": [
    {
     "data": {
      "text/plain": [
       "5"
      ]
     },
     "execution_count": 72,
     "metadata": {},
     "output_type": "execute_result"
    }
   ],
   "source": [
    "#how do we come up with numbers of 5,9 and 13?\n",
    "str1='ola ola ola ola ola'\n",
    "# 2nd index of 'l'\n",
    "str1.index('l',2)"
   ]
  },
  {
   "cell_type": "markdown",
   "id": "f08fbca8-2a67-4e5c-9ba4-a83cb78c418a",
   "metadata": {},
   "source": [
    "**Find**\n",
    "\n",
    "- Tell me the difference between index and find"
   ]
  },
  {
   "cell_type": "code",
   "execution_count": 73,
   "id": "621a46da-6d47-4cd7-97bc-525c8658366d",
   "metadata": {},
   "outputs": [
    {
     "data": {
      "text/plain": [
       "(1, 5, 9, 13, 17, -1)"
      ]
     },
     "execution_count": 73,
     "metadata": {},
     "output_type": "execute_result"
    }
   ],
   "source": [
    "str1='ola ola ola ola ola'\n",
    "i1=str1.find('l')\n",
    "i2=str1.find('l',1+i1)\n",
    "i3=str1.find('l',1+i2)\n",
    "i4=str1.find('l',1+i3)\n",
    "i5=str1.find('l',1+i4)\n",
    "i6=str1.find('l',1+i5)\n",
    "i1,i2,i3,i4,i5,i6"
   ]
  },
  {
   "cell_type": "markdown",
   "id": "7e7ee03c-b9d4-47cb-8c52-ec21a28114d4",
   "metadata": {},
   "source": [
    "- upper/lower/capitalize/casefold/title\n",
    "\n",
    "- count\n",
    "\n",
    "- replace\n",
    "\n",
    "- index/find"
   ]
  },
  {
   "cell_type": "code",
   "execution_count": 74,
   "id": "c37c8513-53c1-42c6-959a-39c4dc25f30b",
   "metadata": {},
   "outputs": [
    {
     "data": {
      "text/plain": [
       "['__add__',\n",
       " '__class__',\n",
       " '__contains__',\n",
       " '__delattr__',\n",
       " '__dir__',\n",
       " '__doc__',\n",
       " '__eq__',\n",
       " '__format__',\n",
       " '__ge__',\n",
       " '__getattribute__',\n",
       " '__getitem__',\n",
       " '__getnewargs__',\n",
       " '__getstate__',\n",
       " '__gt__',\n",
       " '__hash__',\n",
       " '__init__',\n",
       " '__init_subclass__',\n",
       " '__iter__',\n",
       " '__le__',\n",
       " '__len__',\n",
       " '__lt__',\n",
       " '__mod__',\n",
       " '__mul__',\n",
       " '__ne__',\n",
       " '__new__',\n",
       " '__reduce__',\n",
       " '__reduce_ex__',\n",
       " '__repr__',\n",
       " '__rmod__',\n",
       " '__rmul__',\n",
       " '__setattr__',\n",
       " '__sizeof__',\n",
       " '__str__',\n",
       " '__subclasshook__',\n",
       " 'capitalize',\n",
       " 'casefold',\n",
       " 'center',\n",
       " 'count',\n",
       " 'encode',\n",
       " 'endswith',\n",
       " 'expandtabs',\n",
       " 'find',\n",
       " 'format',\n",
       " 'format_map',\n",
       " 'index',\n",
       " 'isalnum',\n",
       " 'isalpha',\n",
       " 'isascii',\n",
       " 'isdecimal',\n",
       " 'isdigit',\n",
       " 'isidentifier',\n",
       " 'islower',\n",
       " 'isnumeric',\n",
       " 'isprintable',\n",
       " 'isspace',\n",
       " 'istitle',\n",
       " 'isupper',\n",
       " 'join',\n",
       " 'ljust',\n",
       " 'lower',\n",
       " 'lstrip',\n",
       " 'maketrans',\n",
       " 'partition',\n",
       " 'removeprefix',\n",
       " 'removesuffix',\n",
       " 'replace',\n",
       " 'rfind',\n",
       " 'rindex',\n",
       " 'rjust',\n",
       " 'rpartition',\n",
       " 'rsplit',\n",
       " 'rstrip',\n",
       " 'split',\n",
       " 'splitlines',\n",
       " 'startswith',\n",
       " 'strip',\n",
       " 'swapcase',\n",
       " 'title',\n",
       " 'translate',\n",
       " 'upper',\n",
       " 'zfill']"
      ]
     },
     "execution_count": 74,
     "metadata": {},
     "output_type": "execute_result"
    }
   ],
   "source": [
    "dir('')"
   ]
  },
  {
   "cell_type": "code",
   "execution_count": null,
   "id": "f7d68f82-d9d1-4238-a39f-89d2da28d2e1",
   "metadata": {},
   "outputs": [],
   "source": [
    "'isalnum',\n",
    "'isalpha',\n",
    "'isascii',\n",
    "'isdecimal',\n",
    "'isdigit',\n",
    "'isidentifier',\n",
    "'islower',\n",
    "'isnumeric',\n",
    "'isprintable',\n",
    "'isspace',\n",
    "'istitle',\n",
    "'isupper',"
   ]
  },
  {
   "cell_type": "code",
   "execution_count": 75,
   "id": "b88264db-e1ca-42ef-85dc-724591851224",
   "metadata": {},
   "outputs": [
    {
     "data": {
      "text/plain": [
       "False"
      ]
     },
     "execution_count": 75,
     "metadata": {},
     "output_type": "execute_result"
    }
   ],
   "source": [
    "'hello'.isupper()"
   ]
  },
  {
   "cell_type": "code",
   "execution_count": 76,
   "id": "891b8120-f7a8-4c01-a936-dd70ad8e7c77",
   "metadata": {},
   "outputs": [
    {
     "data": {
      "text/plain": [
       "True"
      ]
     },
     "execution_count": 76,
     "metadata": {},
     "output_type": "execute_result"
    }
   ],
   "source": [
    "'HELLO'.isupper()"
   ]
  },
  {
   "cell_type": "code",
   "execution_count": null,
   "id": "b1017103-1c44-4a60-863c-844e054806be",
   "metadata": {},
   "outputs": [],
   "source": [
    "str1='ola ola ola'\n",
    "str1.count('z')  # 0\n",
    "str1.replace('z','a') # same string\n",
    "str1.index('z') # Value error \n",
    "str1.find('z')  # -1"
   ]
  },
  {
   "cell_type": "markdown",
   "id": "599b25bb-310c-4ea7-89e5-52cd37862e1e",
   "metadata": {},
   "source": [
    "**lstrip-rstrip-strip**"
   ]
  },
  {
   "cell_type": "code",
   "execution_count": 1,
   "id": "7640d6b3-c38f-4e50-a8c5-32f160f30006",
   "metadata": {},
   "outputs": [],
   "source": [
    "str1=' hai how are you ' # strip\n",
    "str2='hai how are you '  # right side rstrip\n",
    "str3=' hai how are you'  # left side means left strip"
   ]
  },
  {
   "cell_type": "code",
   "execution_count": 5,
   "id": "07529225-f8c8-4ced-95c3-847af68d1ea5",
   "metadata": {},
   "outputs": [
    {
     "data": {
      "text/plain": [
       "('hai how are you', ' hai how are you', 'hai how are you ')"
      ]
     },
     "execution_count": 5,
     "metadata": {},
     "output_type": "execute_result"
    }
   ],
   "source": [
    "str1.strip(),str1.rstrip(),str1.lstrip()"
   ]
  },
  {
   "cell_type": "code",
   "execution_count": 6,
   "id": "c93af961-f641-499d-97b2-8b8af49494f6",
   "metadata": {},
   "outputs": [
    {
     "data": {
      "text/plain": [
       "('hai how are you', 'hai how are you', 'hai how are you ')"
      ]
     },
     "execution_count": 6,
     "metadata": {},
     "output_type": "execute_result"
    }
   ],
   "source": [
    "str2.strip(),str2.rstrip(),str2.lstrip()"
   ]
  },
  {
   "cell_type": "code",
   "execution_count": null,
   "id": "bd3012d1-2d44-46e0-9c45-c0ebd507a60d",
   "metadata": {},
   "outputs": [],
   "source": [
    "str2.ltrip(),str2.lstrip(),str2.lstrip()"
   ]
  },
  {
   "cell_type": "markdown",
   "id": "ccbe3787-13a4-4a7d-a47d-b2e22a3a317d",
   "metadata": {},
   "source": [
    "**startswith-endswith**"
   ]
  },
  {
   "cell_type": "code",
   "execution_count": 9,
   "id": "668377fe-0c15-4153-8cb2-13eaed739299",
   "metadata": {},
   "outputs": [
    {
     "data": {
      "text/plain": [
       "True"
      ]
     },
     "execution_count": 9,
     "metadata": {},
     "output_type": "execute_result"
    }
   ],
   "source": [
    "str1='hello hai how are you'\n",
    "str1.startswith('hello')"
   ]
  },
  {
   "cell_type": "code",
   "execution_count": 13,
   "id": "32055746-b336-4a3b-aa2d-386c4329fb3d",
   "metadata": {},
   "outputs": [
    {
     "data": {
      "text/plain": [
       "True"
      ]
     },
     "execution_count": 13,
     "metadata": {},
     "output_type": "execute_result"
    }
   ],
   "source": [
    "str1='hello hai how are you'\n",
    "str1.endswith('you')"
   ]
  },
  {
   "cell_type": "code",
   "execution_count": 14,
   "id": "be3cf243-448d-4343-bc55-4fe95640e94f",
   "metadata": {},
   "outputs": [
    {
     "data": {
      "text/plain": [
       "True"
      ]
     },
     "execution_count": 14,
     "metadata": {},
     "output_type": "execute_result"
    }
   ],
   "source": [
    "str1.startswith(str1)\n",
    "str1.endswith(str1)"
   ]
  },
  {
   "cell_type": "code",
   "execution_count": null,
   "id": "5fee204c-ea6c-45ca-953b-41b3f9e92a92",
   "metadata": {},
   "outputs": [],
   "source": [
    "'omkar.nallagoni@cognizant.com'\n",
    "'virat.kohli@rcb.com'\n",
    "'rohit.sharma@mi.com'\n",
    "'a.b@c.com'\n",
    "\n",
    "# 3 indexes\n",
    "# first dot index\n",
    "# @ index\n",
    "# second dot index\n",
    "# apply the slice"
   ]
  },
  {
   "cell_type": "code",
   "execution_count": 17,
   "id": "2f6779f9-3427-42b0-a98c-224e5f972de9",
   "metadata": {},
   "outputs": [],
   "source": [
    "str1='omkar.nallagoni@cognizant.com'\n",
    "i1_dot=str1.index('.')\n",
    "i2_dot=str1.index('.',1+i1_dot)\n",
    "i3=str1.index('@')"
   ]
  },
  {
   "cell_type": "code",
   "execution_count": 20,
   "id": "f6f2e180-43c9-4ccb-aad0-dfb4dbf7fe1c",
   "metadata": {},
   "outputs": [
    {
     "data": {
      "text/plain": [
       "'cognizant'"
      ]
     },
     "execution_count": 20,
     "metadata": {},
     "output_type": "execute_result"
    }
   ],
   "source": [
    "# First name between start and first dot\n",
    "fname=str1[:i1_dot]\n",
    "# second name between first dot and @\n",
    "sname=str1[i1_dot+1:i3]\n",
    "# Cname between @ to second dot\n",
    "cname=str1[i3+1:i2_dot]\n",
    "cname"
   ]
  },
  {
   "cell_type": "code",
   "execution_count": 23,
   "id": "1aef71fb-af65-460e-9544-138e11d0e1c9",
   "metadata": {},
   "outputs": [
    {
     "name": "stdout",
     "output_type": "stream",
     "text": [
      "rohith kohli india\n"
     ]
    }
   ],
   "source": [
    "str1='rohith.kohli@india.com'\n",
    "i1_dot=str1.index('.')\n",
    "i2_dot=str1.index('.',1+i1_dot)\n",
    "i3=str1.index('@')\n",
    "fname=str1[:i1_dot]\n",
    "sname=str1[i1_dot+1:i3]\n",
    "cname=str1[i3+1:i2_dot]\n",
    "print(fname,sname,cname)"
   ]
  },
  {
   "cell_type": "markdown",
   "id": "ff4b6478-abe4-4c88-98f7-1c74b4299cd5",
   "metadata": {},
   "source": [
    "**split**"
   ]
  },
  {
   "cell_type": "code",
   "execution_count": 24,
   "id": "c6eb2498-a083-4129-a2ef-b3c02ebb1765",
   "metadata": {},
   "outputs": [
    {
     "data": {
      "text/plain": [
       "['hello', 'hai', 'how', 'are', 'you']"
      ]
     },
     "execution_count": 24,
     "metadata": {},
     "output_type": "execute_result"
    }
   ],
   "source": [
    "str1='hello hai how are you'\n",
    "str1.split()"
   ]
  },
  {
   "cell_type": "code",
   "execution_count": 25,
   "id": "fe070b5a-59e2-4487-bb07-c8a7da8d5929",
   "metadata": {},
   "outputs": [
    {
     "data": {
      "text/plain": [
       "['hello hai', ' how are you']"
      ]
     },
     "execution_count": 25,
     "metadata": {},
     "output_type": "execute_result"
    }
   ],
   "source": [
    "str1='hello hai, how are you'\n",
    "str1.split(',')"
   ]
  },
  {
   "cell_type": "code",
   "execution_count": 26,
   "id": "f8f74b75-3ce2-44aa-8c47-0a47d59c2a51",
   "metadata": {},
   "outputs": [
    {
     "data": {
      "text/plain": [
       "['', 'ello ', 'ai, ', 'ow are you']"
      ]
     },
     "execution_count": 26,
     "metadata": {},
     "output_type": "execute_result"
    }
   ],
   "source": [
    "str1='hello hai, how are you'\n",
    "str1.split('h')\n",
    "# \n",
    "# ello \n",
    "# ai, \n",
    "# ow are you"
   ]
  },
  {
   "cell_type": "markdown",
   "id": "57d9a1e1-73c0-44d1-bdc3-05ea9a183092",
   "metadata": {},
   "source": [
    "- upper/lower/casefold\n",
    "\n",
    "- capitalize/title\n",
    "\n",
    "- center\n",
    "\n",
    "- count\n",
    "\n",
    "- replace\n",
    "\n",
    "- index/find\n",
    "\n",
    "- startwith/endswith\n",
    "\n",
    "- lstrip/rstrip/strip\n",
    "\n",
    "- split\n",
    "\n",
    "- is_"
   ]
  },
  {
   "cell_type": "code",
   "execution_count": 27,
   "id": "b6afca0f-acc9-402a-a972-858a546450c5",
   "metadata": {},
   "outputs": [
    {
     "data": {
      "text/plain": [
       "['__add__',\n",
       " '__class__',\n",
       " '__contains__',\n",
       " '__delattr__',\n",
       " '__dir__',\n",
       " '__doc__',\n",
       " '__eq__',\n",
       " '__format__',\n",
       " '__ge__',\n",
       " '__getattribute__',\n",
       " '__getitem__',\n",
       " '__getnewargs__',\n",
       " '__getstate__',\n",
       " '__gt__',\n",
       " '__hash__',\n",
       " '__init__',\n",
       " '__init_subclass__',\n",
       " '__iter__',\n",
       " '__le__',\n",
       " '__len__',\n",
       " '__lt__',\n",
       " '__mod__',\n",
       " '__mul__',\n",
       " '__ne__',\n",
       " '__new__',\n",
       " '__reduce__',\n",
       " '__reduce_ex__',\n",
       " '__repr__',\n",
       " '__rmod__',\n",
       " '__rmul__',\n",
       " '__setattr__',\n",
       " '__sizeof__',\n",
       " '__str__',\n",
       " '__subclasshook__',\n",
       " 'capitalize',\n",
       " 'casefold',\n",
       " 'center',\n",
       " 'count',\n",
       " 'encode',\n",
       " 'endswith',\n",
       " 'expandtabs',\n",
       " 'find',\n",
       " 'format',\n",
       " 'format_map',\n",
       " 'index',\n",
       " 'isalnum',\n",
       " 'isalpha',\n",
       " 'isascii',\n",
       " 'isdecimal',\n",
       " 'isdigit',\n",
       " 'isidentifier',\n",
       " 'islower',\n",
       " 'isnumeric',\n",
       " 'isprintable',\n",
       " 'isspace',\n",
       " 'istitle',\n",
       " 'isupper',\n",
       " 'join',\n",
       " 'ljust',\n",
       " 'lower',\n",
       " 'lstrip',\n",
       " 'maketrans',\n",
       " 'partition',\n",
       " 'removeprefix',\n",
       " 'removesuffix',\n",
       " 'replace',\n",
       " 'rfind',\n",
       " 'rindex',\n",
       " 'rjust',\n",
       " 'rpartition',\n",
       " 'rsplit',\n",
       " 'rstrip',\n",
       " 'split',\n",
       " 'splitlines',\n",
       " 'startswith',\n",
       " 'strip',\n",
       " 'swapcase',\n",
       " 'title',\n",
       " 'translate',\n",
       " 'upper',\n",
       " 'zfill']"
      ]
     },
     "execution_count": 27,
     "metadata": {},
     "output_type": "execute_result"
    }
   ],
   "source": [
    "dir('')"
   ]
  },
  {
   "cell_type": "code",
   "execution_count": null,
   "id": "397137a9-ea6b-4e47-869c-2b9eba62ea14",
   "metadata": {},
   "outputs": [],
   "source": []
  }
 ],
 "metadata": {
  "kernelspec": {
   "display_name": "Python 3 (ipykernel)",
   "language": "python",
   "name": "python3"
  },
  "language_info": {
   "codemirror_mode": {
    "name": "ipython",
    "version": 3
   },
   "file_extension": ".py",
   "mimetype": "text/x-python",
   "name": "python",
   "nbconvert_exporter": "python",
   "pygments_lexer": "ipython3",
   "version": "3.12.4"
  }
 },
 "nbformat": 4,
 "nbformat_minor": 5
}
