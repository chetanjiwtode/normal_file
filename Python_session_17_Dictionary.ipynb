{
 "cells": [
  {
   "cell_type": "code",
   "execution_count": null,
   "id": "242f4d24-ffdc-432e-93f3-dc34205ee9fa",
   "metadata": {},
   "outputs": [],
   "source": [
    "strings='Rashidh'\n",
    "list=['Rashidh']\n",
    "tuple= ('Rashidh')\n",
    "set= {'Rashidh'}"
   ]
  },
  {
   "cell_type": "code",
   "execution_count": 2,
   "id": "066564d6-e7b6-4473-97c0-f1d2bad760c4",
   "metadata": {},
   "outputs": [
    {
     "data": {
      "text/plain": [
       "[100, 2, 3]"
      ]
     },
     "execution_count": 2,
     "metadata": {},
     "output_type": "execute_result"
    }
   ],
   "source": [
    "l=[1,2,3]\n",
    "l[0]=100\n",
    "l"
   ]
  },
  {
   "cell_type": "code",
   "execution_count": 4,
   "id": "1cc7b9f9-d608-4923-a5c7-3145659ed835",
   "metadata": {},
   "outputs": [
    {
     "ename": "TypeError",
     "evalue": "'tuple' object does not support item assignment",
     "output_type": "error",
     "traceback": [
      "\u001b[1;31m---------------------------------------------------------------------------\u001b[0m",
      "\u001b[1;31mTypeError\u001b[0m                                 Traceback (most recent call last)",
      "Cell \u001b[1;32mIn[4], line 2\u001b[0m\n\u001b[0;32m      1\u001b[0m t\u001b[38;5;241m=\u001b[39m(\u001b[38;5;241m1\u001b[39m,\u001b[38;5;241m2\u001b[39m,\u001b[38;5;241m3\u001b[39m)\n\u001b[1;32m----> 2\u001b[0m t[\u001b[38;5;241m0\u001b[39m]\u001b[38;5;241m=\u001b[39m\u001b[38;5;241m100\u001b[39m\n",
      "\u001b[1;31mTypeError\u001b[0m: 'tuple' object does not support item assignment"
     ]
    }
   ],
   "source": [
    "t=(1,2,3)\n",
    "t[0]=100"
   ]
  },
  {
   "cell_type": "code",
   "execution_count": 6,
   "id": "218a910c-b696-4d16-8f0c-48e28b878a91",
   "metadata": {},
   "outputs": [
    {
     "name": "stdout",
     "output_type": "stream",
     "text": [
      "Ramesh has age 21\n",
      "Suresh has age 22\n",
      "Mahesh has age 23\n"
     ]
    }
   ],
   "source": [
    "Names= ['Ramesh','Suresh','Mahesh']\n",
    "Age=[21,22,23]\n",
    "# Ramesh age is 21\n",
    "# Suresh age is 22\n",
    "for i in range(len(Names)):\n",
    "    print(f\"{Names[i]} has age {Age[i]}\")"
   ]
  },
  {
   "cell_type": "markdown",
   "id": "ae12d7e8-e695-484e-951b-aab12a468117",
   "metadata": {},
   "source": [
    "**zip**"
   ]
  },
  {
   "cell_type": "code",
   "execution_count": 7,
   "id": "21fd0419-fd3c-49a6-879b-5a12e882af4b",
   "metadata": {},
   "outputs": [
    {
     "data": {
      "text/plain": [
       "<zip at 0x2970a8d5780>"
      ]
     },
     "execution_count": 7,
     "metadata": {},
     "output_type": "execute_result"
    }
   ],
   "source": [
    "zip(Names,Age)"
   ]
  },
  {
   "cell_type": "code",
   "execution_count": 8,
   "id": "156dd56d-6930-4da1-ac1d-723b380acea3",
   "metadata": {},
   "outputs": [
    {
     "data": {
      "text/plain": [
       "[('Ramesh', 21), ('Suresh', 22), ('Mahesh', 23)]"
      ]
     },
     "execution_count": 8,
     "metadata": {},
     "output_type": "execute_result"
    }
   ],
   "source": [
    "list(zip(Names,Age))"
   ]
  },
  {
   "cell_type": "code",
   "execution_count": 9,
   "id": "e0f946f6-c596-417b-8289-dc798a2f5f43",
   "metadata": {},
   "outputs": [
    {
     "name": "stdout",
     "output_type": "stream",
     "text": [
      "('Ramesh', 21)\n",
      "('Suresh', 22)\n",
      "('Mahesh', 23)\n"
     ]
    }
   ],
   "source": [
    "for i in zip(Names,Age):\n",
    "    print(i)"
   ]
  },
  {
   "cell_type": "code",
   "execution_count": 10,
   "id": "04ad9f30-657d-44da-917d-3ac4445be779",
   "metadata": {},
   "outputs": [
    {
     "data": {
      "text/plain": [
       "(10, 20)"
      ]
     },
     "execution_count": 10,
     "metadata": {},
     "output_type": "execute_result"
    }
   ],
   "source": [
    "a=10,20\n",
    "a"
   ]
  },
  {
   "cell_type": "code",
   "execution_count": null,
   "id": "557c7f15-ec29-4939-b6bc-d06f8833ca97",
   "metadata": {},
   "outputs": [],
   "source": [
    "a,b=10,20\n"
   ]
  },
  {
   "cell_type": "code",
   "execution_count": 11,
   "id": "78c038c3-675a-489a-b43c-64d091961315",
   "metadata": {},
   "outputs": [
    {
     "name": "stdout",
     "output_type": "stream",
     "text": [
      "the Ramesh age is 21\n",
      "the Suresh age is 22\n",
      "the Mahesh age is 23\n"
     ]
    }
   ],
   "source": [
    "for i,j in zip(Names,Age):\n",
    "    print(f\"the {i} age is {j}\")"
   ]
  },
  {
   "cell_type": "code",
   "execution_count": null,
   "id": "4aa69cf8-5bbe-4b86-8c9a-4de9d00508cf",
   "metadata": {},
   "outputs": [],
   "source": [
    "# Ramesh ==== 21\n",
    "# Suresh === 22\n",
    "# Mahesh === 23\n"
   ]
  },
  {
   "cell_type": "markdown",
   "id": "28048ab9-ec33-4953-a94d-a7a177d8755f",
   "metadata": {},
   "source": [
    "**Dictionary**\n",
    "\n",
    "- Dictionary represnts with curly braces\n",
    "\n",
    "- Dictionay has key: value pair\n",
    "\n",
    "- {key:value}"
   ]
  },
  {
   "cell_type": "code",
   "execution_count": 12,
   "id": "4b1df8e9-1f96-4644-8193-7a6f7c5032f4",
   "metadata": {},
   "outputs": [
    {
     "data": {
      "text/plain": [
       "{'Ramesh': 21, 'Suresh': 22, 'Mahesh': 23}"
      ]
     },
     "execution_count": 12,
     "metadata": {},
     "output_type": "execute_result"
    }
   ],
   "source": [
    "d1={'Ramesh':21,'Suresh':22,'Mahesh':23}\n",
    "d1"
   ]
  },
  {
   "cell_type": "code",
   "execution_count": 13,
   "id": "1d49ed98-51bf-466a-bd3f-299936172774",
   "metadata": {},
   "outputs": [
    {
     "data": {
      "text/plain": [
       "dict"
      ]
     },
     "execution_count": 13,
     "metadata": {},
     "output_type": "execute_result"
    }
   ],
   "source": [
    "type(d1)"
   ]
  },
  {
   "cell_type": "code",
   "execution_count": 14,
   "id": "d8ba3661-4379-4866-9f32-0093560c58e4",
   "metadata": {},
   "outputs": [
    {
     "data": {
      "text/plain": [
       "{'Ramesh': '21', 'Suresh': '22', 'Mahesh': '23'}"
      ]
     },
     "execution_count": 14,
     "metadata": {},
     "output_type": "execute_result"
    }
   ],
   "source": [
    "d2={'Ramesh':'21','Suresh':'22','Mahesh':'23'}\n",
    "d2"
   ]
  },
  {
   "cell_type": "code",
   "execution_count": 15,
   "id": "c1dc0643-cdab-4499-908f-2aad26384674",
   "metadata": {},
   "outputs": [
    {
     "data": {
      "text/plain": [
       "{21: 'Ramesh'}"
      ]
     },
     "execution_count": 15,
     "metadata": {},
     "output_type": "execute_result"
    }
   ],
   "source": [
    "d3={21:'Ramesh'}\n",
    "d3"
   ]
  },
  {
   "cell_type": "code",
   "execution_count": 16,
   "id": "07661da1-1aa5-44fd-b5c6-874de626beb7",
   "metadata": {},
   "outputs": [
    {
     "data": {
      "text/plain": [
       "{'Ramesh': 25}"
      ]
     },
     "execution_count": 16,
     "metadata": {},
     "output_type": "execute_result"
    }
   ],
   "source": [
    "d4={'Ramesh':21,'Ramesh':25}\n",
    "d4 # latest value"
   ]
  },
  {
   "cell_type": "code",
   "execution_count": 17,
   "id": "93fdb8a6-45fb-4d35-bc66-bab20f2a2842",
   "metadata": {},
   "outputs": [
    {
     "data": {
      "text/plain": [
       "{'Ramesh': 21, 'Suresh': 21}"
      ]
     },
     "execution_count": 17,
     "metadata": {},
     "output_type": "execute_result"
    }
   ],
   "source": [
    "d5={'Ramesh':21,'Suresh':21}\n",
    "d5 # value can be duplicate\n",
    "# keys can not be duplicate\n",
    "# keys are important"
   ]
  },
  {
   "cell_type": "code",
   "execution_count": 18,
   "id": "0530fda9-7463-4f66-93a9-546d5043335b",
   "metadata": {},
   "outputs": [
    {
     "data": {
      "text/plain": [
       "{21: 'Suresh'}"
      ]
     },
     "execution_count": 18,
     "metadata": {},
     "output_type": "execute_result"
    }
   ],
   "source": [
    "d6={21:'Ramesh',21:'Suresh'}\n",
    "d6\n",
    "# keys are impoartnt\n",
    "# duplicate keys are not allowed"
   ]
  },
  {
   "cell_type": "code",
   "execution_count": 19,
   "id": "74d36598-5c3e-4808-949e-cd7f0c6d3591",
   "metadata": {},
   "outputs": [
    {
     "data": {
      "text/plain": [
       "{'int': 10, 'float': 10.5, 'str': 'str', 'boolea': True}"
      ]
     },
     "execution_count": 19,
     "metadata": {},
     "output_type": "execute_result"
    }
   ],
   "source": [
    "d7={'int':10,'float':10.5,'str':'str','boolea':True}\n",
    "d7"
   ]
  },
  {
   "cell_type": "code",
   "execution_count": 20,
   "id": "54f3c2ca-e91d-403c-bfdb-b12eee71d5de",
   "metadata": {},
   "outputs": [
    {
     "data": {
      "text/plain": [
       "{'list': [1, 2, 3]}"
      ]
     },
     "execution_count": 20,
     "metadata": {},
     "output_type": "execute_result"
    }
   ],
   "source": [
    "d8={'list':[1,2,3]}\n",
    "d8"
   ]
  },
  {
   "cell_type": "code",
   "execution_count": 21,
   "id": "e9b4c7f7-6000-4712-bbbb-64bf2eafd999",
   "metadata": {},
   "outputs": [
    {
     "ename": "TypeError",
     "evalue": "unhashable type: 'list'",
     "output_type": "error",
     "traceback": [
      "\u001b[1;31m---------------------------------------------------------------------------\u001b[0m",
      "\u001b[1;31mTypeError\u001b[0m                                 Traceback (most recent call last)",
      "Cell \u001b[1;32mIn[21], line 1\u001b[0m\n\u001b[1;32m----> 1\u001b[0m d9\u001b[38;5;241m=\u001b[39m{[\u001b[38;5;241m1\u001b[39m,\u001b[38;5;241m2\u001b[39m,\u001b[38;5;241m3\u001b[39m]:\u001b[38;5;124m'\u001b[39m\u001b[38;5;124mlist\u001b[39m\u001b[38;5;124m'\u001b[39m}\n\u001b[0;32m      2\u001b[0m d9\n",
      "\u001b[1;31mTypeError\u001b[0m: unhashable type: 'list'"
     ]
    }
   ],
   "source": [
    "d9={[1,2,3]:'list'}\n",
    "d9"
   ]
  },
  {
   "cell_type": "code",
   "execution_count": 22,
   "id": "2da9e062-ed1e-4b31-94fc-ac427b3f9344",
   "metadata": {},
   "outputs": [
    {
     "data": {
      "text/plain": [
       "{'tuple': (1, 2, 3)}"
      ]
     },
     "execution_count": 22,
     "metadata": {},
     "output_type": "execute_result"
    }
   ],
   "source": [
    "d10={'tuple':(1,2,3)}\n",
    "d10"
   ]
  },
  {
   "cell_type": "code",
   "execution_count": 23,
   "id": "018f2117-5801-429a-a65d-4fed6b426ea4",
   "metadata": {},
   "outputs": [
    {
     "data": {
      "text/plain": [
       "{(1, 2, 3): 'tuple'}"
      ]
     },
     "execution_count": 23,
     "metadata": {},
     "output_type": "execute_result"
    }
   ],
   "source": [
    "d11={(1,2,3):'tuple'}\n",
    "d11"
   ]
  },
  {
   "cell_type": "code",
   "execution_count": null,
   "id": "fcf2afd3-68f3-4c68-90d6-b1f4ae6e1dcb",
   "metadata": {},
   "outputs": [],
   "source": [
    "# keys are impoartnt\n",
    "list mutable\n",
    "tuple immutable\n",
    "Ramesh ==== "
   ]
  },
  {
   "cell_type": "code",
   "execution_count": null,
   "id": "5236f77d-6c54-4701-aa68-2fc9007b085e",
   "metadata": {},
   "outputs": [],
   "source": [
    "d1={'Ramesh':21,'Suresh':22,'Mahesh':23} # w\n",
    "d2={'Ramesh':'21','Suresh':'22','Mahesh':'23'} # w\n",
    "d3={21:'Ramesh'} # w\n",
    "d4={'Ramesh':21,'Ramesh':25} # w  keys\n",
    "d5={'Ramesh':21,'Suresh':21} # w\n",
    "d6={21:'Ramesh',21:'Suresh'} # w\n",
    "d7={'int':10,'float':10.5,'str':'str','boolea':True} # w\n",
    "d8={'list':[1,2,3]} # w\n",
    "d9={[1,2,3]:'list'} # f\n",
    "d10={'tuple':(1,2,3)} # w\n",
    "d11={(1,2,3):'tuple'} # w\n",
    "d12={[1,2,3]:[1,2,3]}\n",
    "d13={(1,2,3):(1,2,3)}\n",
    "d14={'Name':{'Ramesh':25}}\n",
    "d15={{'Ramesh':25}:'Name'} # w"
   ]
  },
  {
   "cell_type": "code",
   "execution_count": null,
   "id": "d247231c-dbe6-4854-892c-120855c2590c",
   "metadata": {},
   "outputs": [],
   "source": [
    "len\n",
    "min\n",
    "max\n",
    "sorted\n",
    "reversed\n"
   ]
  }
 ],
 "metadata": {
  "kernelspec": {
   "display_name": "Python 3 (ipykernel)",
   "language": "python",
   "name": "python3"
  },
  "language_info": {
   "codemirror_mode": {
    "name": "ipython",
    "version": 3
   },
   "file_extension": ".py",
   "mimetype": "text/x-python",
   "name": "python",
   "nbconvert_exporter": "python",
   "pygments_lexer": "ipython3",
   "version": "3.11.7"
  }
 },
 "nbformat": 4,
 "nbformat_minor": 5
}
