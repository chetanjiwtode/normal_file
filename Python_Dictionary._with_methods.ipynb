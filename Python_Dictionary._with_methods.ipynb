{
 "cells": [
  {
   "cell_type": "code",
   "execution_count": null,
   "id": "a2f83334",
   "metadata": {},
   "outputs": [],
   "source": [
    "List\n",
    "tuple\n",
    "string\n",
    "Dictionary"
   ]
  },
  {
   "cell_type": "code",
   "execution_count": 6,
   "id": "0dec2267",
   "metadata": {},
   "outputs": [
    {
     "data": {
      "text/plain": [
       "['hai', 'how', 'are', 'you']"
      ]
     },
     "execution_count": 6,
     "metadata": {},
     "output_type": "execute_result"
    }
   ],
   "source": [
    "# we are splitting\n",
    "# the output inthe form list\n",
    "str1='hai how are you'\n",
    "l1=str1.split()\n",
    "l1"
   ]
  },
  {
   "cell_type": "code",
   "execution_count": 7,
   "id": "8d5513f8",
   "metadata": {},
   "outputs": [
    {
     "data": {
      "text/plain": [
       "['hai', 'how', 'are', 'you']"
      ]
     },
     "execution_count": 7,
     "metadata": {},
     "output_type": "execute_result"
    }
   ],
   "source": [
    "# Now we have list of elements are there\n",
    "# we want to join\n",
    "l1"
   ]
  },
  {
   "cell_type": "code",
   "execution_count": 12,
   "id": "58efc95f",
   "metadata": {},
   "outputs": [
    {
     "data": {
      "text/plain": [
       "'hai how are you'"
      ]
     },
     "execution_count": 12,
     "metadata": {},
     "output_type": "execute_result"
    }
   ],
   "source": [
    "' '.join(l1)"
   ]
  },
  {
   "cell_type": "code",
   "execution_count": 14,
   "id": "98444056",
   "metadata": {},
   "outputs": [
    {
     "data": {
      "text/plain": [
       "'haihowareyou'"
      ]
     },
     "execution_count": 14,
     "metadata": {},
     "output_type": "execute_result"
    }
   ],
   "source": [
    "s=''\n",
    "for i in l1:\n",
    "    s=s+i\n",
    "s"
   ]
  },
  {
   "cell_type": "code",
   "execution_count": 15,
   "id": "31538030",
   "metadata": {},
   "outputs": [
    {
     "name": "stdout",
     "output_type": "stream",
     "text": [
      "Ramesh 20\n",
      "Suresh 25\n",
      "Sathish 30\n"
     ]
    }
   ],
   "source": [
    "names=['Ramesh','Suresh','Sathish']\n",
    "age=[20,25,30]\n",
    "\n",
    "# Ramesh age is 20\n",
    "# Suresh age is 25\n",
    "# Sathish age is 30\n",
    "for i in range(len(names)):\n",
    "    print(names[i],age[i])"
   ]
  },
  {
   "cell_type": "markdown",
   "id": "2eeeae02",
   "metadata": {},
   "source": [
    "$zip$"
   ]
  },
  {
   "cell_type": "code",
   "execution_count": 21,
   "id": "d079bf19",
   "metadata": {},
   "outputs": [
    {
     "name": "stdout",
     "output_type": "stream",
     "text": [
      "Ramesh age is 20\n",
      "Suresh age is 25\n",
      "Sathish age is 30\n"
     ]
    }
   ],
   "source": [
    "#for i in names :  i = Rames  i=sure  i= sath\n",
    "#for i in age   :  i   25       30\n",
    "for i,j in zip(names,age):\n",
    "    print(f\"{i} age is {j}\")   \n",
    "    "
   ]
  },
  {
   "cell_type": "code",
   "execution_count": 23,
   "id": "3c5c499a",
   "metadata": {},
   "outputs": [
    {
     "name": "stdout",
     "output_type": "stream",
     "text": [
      "10\n",
      "20\n"
     ]
    }
   ],
   "source": [
    "num1,num2=10,20\n",
    "print(num1)\n",
    "print(num2)"
   ]
  },
  {
   "cell_type": "code",
   "execution_count": 19,
   "id": "f766bf60",
   "metadata": {},
   "outputs": [
    {
     "name": "stdout",
     "output_type": "stream",
     "text": [
      "60\n",
      "20.0\n"
     ]
    }
   ],
   "source": [
    "def avg(n1,n2,n3):\n",
    "    return(n1+n2+n3, (n1+n2+n3)/3)\n",
    "\n",
    "o1,o2=avg(10,20,30)\n",
    "o1\n",
    "o2"
   ]
  },
  {
   "cell_type": "code",
   "execution_count": null,
   "id": "05ad01a2",
   "metadata": {},
   "outputs": [],
   "source": [
    "num1,num2=10,20\n",
    "o1,o2=avg(10,20,30)\n",
    "i,j in zip(names,age)"
   ]
  },
  {
   "cell_type": "code",
   "execution_count": null,
   "id": "b0569977",
   "metadata": {},
   "outputs": [],
   "source": [
    "names=['Ramesh','Suresh','Sathish']\n",
    "age=[20,25,30]\n",
    "\n",
    "If both are together  why two lists ===== Dictionary"
   ]
  },
  {
   "cell_type": "code",
   "execution_count": null,
   "id": "97572340",
   "metadata": {},
   "outputs": [],
   "source": [
    "{<key>:<value>}"
   ]
  },
  {
   "cell_type": "code",
   "execution_count": 24,
   "id": "86c07340",
   "metadata": {},
   "outputs": [
    {
     "data": {
      "text/plain": [
       "{'Ramesh': 20, 'Suresh': 25, 'Sathish': 30}"
      ]
     },
     "execution_count": 24,
     "metadata": {},
     "output_type": "execute_result"
    }
   ],
   "source": [
    "d1={\"Ramesh\":20,\"Suresh\":25,\"Sathish\":30}\n",
    "d1\n",
    "\n",
    "# Ramesh\n",
    "# Suresh\n",
    "# Sathish are keys\n",
    "\n",
    "# 20  25   30 are values\n",
    "\n",
    "# key:value pair together"
   ]
  },
  {
   "cell_type": "code",
   "execution_count": 25,
   "id": "de9d7c9b",
   "metadata": {},
   "outputs": [
    {
     "data": {
      "text/plain": [
       "dict"
      ]
     },
     "execution_count": 25,
     "metadata": {},
     "output_type": "execute_result"
    }
   ],
   "source": [
    "type(d1)"
   ]
  },
  {
   "cell_type": "code",
   "execution_count": null,
   "id": "00a0d4ac",
   "metadata": {},
   "outputs": [],
   "source": [
    "how can we distinguish between \n",
    "lists, \n",
    "tuple, \n",
    "set, and \n",
    "dictionary?"
   ]
  },
  {
   "cell_type": "code",
   "execution_count": 26,
   "id": "e259b191",
   "metadata": {},
   "outputs": [
    {
     "data": {
      "text/plain": [
       "{20: 'Ramesh', 25: 'Suresh', 30: 'Sathish'}"
      ]
     },
     "execution_count": 26,
     "metadata": {},
     "output_type": "execute_result"
    }
   ],
   "source": [
    "d2={20:\"Ramesh\",25:\"Suresh\",30:\"Sathish\"}\n",
    "d2"
   ]
  },
  {
   "cell_type": "code",
   "execution_count": 27,
   "id": "6c64a8dd",
   "metadata": {},
   "outputs": [
    {
     "data": {
      "text/plain": [
       "{20: 20}"
      ]
     },
     "execution_count": 27,
     "metadata": {},
     "output_type": "execute_result"
    }
   ],
   "source": [
    "d3={20:20}\n",
    "d3"
   ]
  },
  {
   "cell_type": "code",
   "execution_count": 34,
   "id": "b5ec5f1b",
   "metadata": {},
   "outputs": [
    {
     "data": {
      "text/plain": [
       "{'$': '30'}"
      ]
     },
     "execution_count": 34,
     "metadata": {},
     "output_type": "execute_result"
    }
   ],
   "source": [
    "d4={'$':'30'}\n",
    "d4"
   ]
  },
  {
   "cell_type": "code",
   "execution_count": null,
   "id": "c3554a1d",
   "metadata": {},
   "outputs": [],
   "source": [
    "d1={\"Ramesh\":20,\"Suresh\":25,\"Sathish\":30}\n",
    "d2={20:\"Ramesh\",25:\"Suresh\",30:\"Sathish\"}\n",
    "d3={20:20}\n",
    "d4={'$':'30'}"
   ]
  },
  {
   "cell_type": "code",
   "execution_count": null,
   "id": "a17e0414",
   "metadata": {},
   "outputs": [],
   "source": [
    "d5={$:'30'}   # Fail\n",
    "\n",
    "# spl cahracters should not be a key"
   ]
  },
  {
   "cell_type": "code",
   "execution_count": 37,
   "id": "fcf357c8",
   "metadata": {},
   "outputs": [
    {
     "ename": "SyntaxError",
     "evalue": "invalid syntax (3816049834.py, line 1)",
     "output_type": "error",
     "traceback": [
      "\u001b[1;36m  Cell \u001b[1;32mIn[37], line 1\u001b[1;36m\u001b[0m\n\u001b[1;33m    d6={'30':$}\u001b[0m\n\u001b[1;37m             ^\u001b[0m\n\u001b[1;31mSyntaxError\u001b[0m\u001b[1;31m:\u001b[0m invalid syntax\n"
     ]
    }
   ],
   "source": [
    "d6={'30':$} \n",
    "d6"
   ]
  },
  {
   "cell_type": "code",
   "execution_count": 35,
   "id": "bb29079e",
   "metadata": {},
   "outputs": [
    {
     "data": {
      "text/plain": [
       "{'names': ['R', 'S', 'A']}"
      ]
     },
     "execution_count": 35,
     "metadata": {},
     "output_type": "execute_result"
    }
   ],
   "source": [
    "d7={'names':['R','S','A']}\n",
    "d7\n",
    "# List can be value"
   ]
  },
  {
   "cell_type": "code",
   "execution_count": 36,
   "id": "3825bf6b",
   "metadata": {},
   "outputs": [
    {
     "ename": "TypeError",
     "evalue": "unhashable type: 'list'",
     "output_type": "error",
     "traceback": [
      "\u001b[1;31m---------------------------------------------------------------------------\u001b[0m",
      "\u001b[1;31mTypeError\u001b[0m                                 Traceback (most recent call last)",
      "Cell \u001b[1;32mIn[36], line 1\u001b[0m\n\u001b[1;32m----> 1\u001b[0m d7\u001b[38;5;241m=\u001b[39m{[\u001b[38;5;124m'\u001b[39m\u001b[38;5;124mR\u001b[39m\u001b[38;5;124m'\u001b[39m,\u001b[38;5;124m'\u001b[39m\u001b[38;5;124mS\u001b[39m\u001b[38;5;124m'\u001b[39m,\u001b[38;5;124m'\u001b[39m\u001b[38;5;124mA\u001b[39m\u001b[38;5;124m'\u001b[39m]:\u001b[38;5;124m'\u001b[39m\u001b[38;5;124mnames\u001b[39m\u001b[38;5;124m'\u001b[39m}\n\u001b[0;32m      2\u001b[0m d7\n",
      "\u001b[1;31mTypeError\u001b[0m: unhashable type: 'list'"
     ]
    }
   ],
   "source": [
    "d8={['R','S','A']:'names'}\n",
    "d8\n",
    "\n",
    "# List can not be a key"
   ]
  },
  {
   "cell_type": "code",
   "execution_count": 38,
   "id": "cc88ab7a",
   "metadata": {},
   "outputs": [
    {
     "data": {
      "text/plain": [
       "{('R', 'S', 'A'): 'names'}"
      ]
     },
     "execution_count": 38,
     "metadata": {},
     "output_type": "execute_result"
    }
   ],
   "source": [
    "d9={('R','S','A'):'names'}\n",
    "d9"
   ]
  },
  {
   "cell_type": "code",
   "execution_count": 39,
   "id": "e6627d1b",
   "metadata": {},
   "outputs": [
    {
     "data": {
      "text/plain": [
       "{'names': ('R', 'S', 'A')}"
      ]
     },
     "execution_count": 39,
     "metadata": {},
     "output_type": "execute_result"
    }
   ],
   "source": [
    "d10={'names':('R','S','A')}\n",
    "d10"
   ]
  },
  {
   "cell_type": "code",
   "execution_count": 40,
   "id": "d9f54802",
   "metadata": {},
   "outputs": [
    {
     "data": {
      "text/plain": [
       "{('I', 'N', 'D'): ('R', 'S', 'A')}"
      ]
     },
     "execution_count": 40,
     "metadata": {},
     "output_type": "execute_result"
    }
   ],
   "source": [
    "d11={('I','N','D'):('R','S','A')}\n",
    "d11"
   ]
  },
  {
   "cell_type": "code",
   "execution_count": 41,
   "id": "2830f9ba",
   "metadata": {},
   "outputs": [
    {
     "data": {
      "text/plain": [
       "{'Names': {'Fruites': 'Apple'}}"
      ]
     },
     "execution_count": 41,
     "metadata": {},
     "output_type": "execute_result"
    }
   ],
   "source": [
    "d={'Fruites':'Apple'}\n",
    "d12={\"Names\":d}\n",
    "d12"
   ]
  },
  {
   "cell_type": "code",
   "execution_count": 42,
   "id": "4eb9c826",
   "metadata": {},
   "outputs": [
    {
     "ename": "TypeError",
     "evalue": "unhashable type: 'dict'",
     "output_type": "error",
     "traceback": [
      "\u001b[1;31m---------------------------------------------------------------------------\u001b[0m",
      "\u001b[1;31mTypeError\u001b[0m                                 Traceback (most recent call last)",
      "Cell \u001b[1;32mIn[42], line 2\u001b[0m\n\u001b[0;32m      1\u001b[0m d\u001b[38;5;241m=\u001b[39m{\u001b[38;5;124m'\u001b[39m\u001b[38;5;124mFruites\u001b[39m\u001b[38;5;124m'\u001b[39m:\u001b[38;5;124m'\u001b[39m\u001b[38;5;124mApple\u001b[39m\u001b[38;5;124m'\u001b[39m}\n\u001b[1;32m----> 2\u001b[0m d13\u001b[38;5;241m=\u001b[39m{d:\u001b[38;5;124m'\u001b[39m\u001b[38;5;124mnames\u001b[39m\u001b[38;5;124m'\u001b[39m}\n\u001b[0;32m      3\u001b[0m d13\n",
      "\u001b[1;31mTypeError\u001b[0m: unhashable type: 'dict'"
     ]
    }
   ],
   "source": [
    "d={'Fruites':'Apple'}\n",
    "d13={d:'names'}\n",
    "d13"
   ]
  },
  {
   "cell_type": "code",
   "execution_count": null,
   "id": "0e689166",
   "metadata": {},
   "outputs": [],
   "source": [
    "# dictionary and list can not be represent as keys"
   ]
  },
  {
   "cell_type": "code",
   "execution_count": null,
   "id": "b7ffd964",
   "metadata": {},
   "outputs": [],
   "source": [
    "################## Pass ##################\n",
    "d1={\"Ramesh\":20,\"Suresh\":25,\"Sathish\":30}\n",
    "d2={20:\"Ramesh\",25:\"Suresh\",30:\"Sathish\"}\n",
    "d3={20:20}\n",
    "d4={'$':'30'}\n",
    "d5={'names':['I','N','D']}\n",
    "d6={'names':('I','N','D')}\n",
    "d7={('I','N','D'):'names'}\n",
    "d8={\"Names\":{'Fruites':'Apple'}}\n"
   ]
  },
  {
   "cell_type": "code",
   "execution_count": null,
   "id": "bb9fd3aa",
   "metadata": {},
   "outputs": [],
   "source": [
    "############### Fail ###################\n",
    "d9={$:'30'}\n",
    "d10={['I','N','D']:'names'}\n",
    "d11={{'Fruites':'Apple'}:\"Names\"}\n"
   ]
  },
  {
   "cell_type": "code",
   "execution_count": 45,
   "id": "79a90a9f",
   "metadata": {},
   "outputs": [
    {
     "data": {
      "text/plain": [
       "{True: True}"
      ]
     },
     "execution_count": 45,
     "metadata": {},
     "output_type": "execute_result"
    }
   ],
   "source": [
    "d3={True:True}\n",
    "d3\n"
   ]
  },
  {
   "cell_type": "code",
   "execution_count": 46,
   "id": "da6e59bd",
   "metadata": {},
   "outputs": [
    {
     "data": {
      "text/plain": [
       "{'Ramesh': 25}"
      ]
     },
     "execution_count": 46,
     "metadata": {},
     "output_type": "execute_result"
    }
   ],
   "source": [
    "d1={\"Ramesh\":20,\"Ramesh\":25}\n",
    "d1\n",
    "\n",
    "# Duplicate keys are not allowed"
   ]
  },
  {
   "cell_type": "code",
   "execution_count": 47,
   "id": "5806219c",
   "metadata": {},
   "outputs": [
    {
     "data": {
      "text/plain": [
       "{'Ramesh': 20, 'Suresh': 20}"
      ]
     },
     "execution_count": 47,
     "metadata": {},
     "output_type": "execute_result"
    }
   ],
   "source": [
    "d2={\"Ramesh\":20,\"Suresh\":20}\n",
    "d2\n",
    "# Duplicate values are allowed"
   ]
  },
  {
   "cell_type": "markdown",
   "id": "157726f2",
   "metadata": {},
   "source": [
    "- max\n",
    "\n",
    "- min\n",
    "\n",
    "- len\n",
    "\n",
    "- sum"
   ]
  },
  {
   "cell_type": "markdown",
   "id": "ebaa53e2",
   "metadata": {},
   "source": [
    "**Watch only keys**"
   ]
  },
  {
   "cell_type": "code",
   "execution_count": 48,
   "id": "4799b64d",
   "metadata": {},
   "outputs": [
    {
     "data": {
      "text/plain": [
       "'Suresh'"
      ]
     },
     "execution_count": 48,
     "metadata": {},
     "output_type": "execute_result"
    }
   ],
   "source": [
    "d1={\"Ramesh\":20,\"Suresh\":25,\"Sathish\":30}\n",
    "max(d1)\n",
    "\n",
    "# Are you seeing keys\n",
    "# Are you seeing values"
   ]
  },
  {
   "cell_type": "code",
   "execution_count": 50,
   "id": "e8383ecc",
   "metadata": {},
   "outputs": [
    {
     "data": {
      "text/plain": [
       "30"
      ]
     },
     "execution_count": 50,
     "metadata": {},
     "output_type": "execute_result"
    }
   ],
   "source": [
    "d2={20:\"Ramesh\",25:\"Suresh\",30:\"Sathish\"}\n",
    "max(d2)"
   ]
  },
  {
   "cell_type": "code",
   "execution_count": null,
   "id": "34bc1050",
   "metadata": {},
   "outputs": [],
   "source": [
    "d2={20:\"Ramesh\",'Suresh':30} # Fail"
   ]
  },
  {
   "cell_type": "code",
   "execution_count": null,
   "id": "06bf5efb",
   "metadata": {},
   "outputs": [],
   "source": [
    "max([25,30,35])  # 35\n",
    "max(['A','B','C']) # 'c'\n",
    "max([25,'A'])  # error"
   ]
  },
  {
   "cell_type": "code",
   "execution_count": 51,
   "id": "fd7c285e",
   "metadata": {},
   "outputs": [
    {
     "ename": "TypeError",
     "evalue": "'>' not supported between instances of 'str' and 'int'",
     "output_type": "error",
     "traceback": [
      "\u001b[1;31m---------------------------------------------------------------------------\u001b[0m",
      "\u001b[1;31mTypeError\u001b[0m                                 Traceback (most recent call last)",
      "Cell \u001b[1;32mIn[51], line 2\u001b[0m\n\u001b[0;32m      1\u001b[0m d2\u001b[38;5;241m=\u001b[39m{\u001b[38;5;241m20\u001b[39m:\u001b[38;5;124m\"\u001b[39m\u001b[38;5;124mRamesh\u001b[39m\u001b[38;5;124m\"\u001b[39m,\u001b[38;5;124m'\u001b[39m\u001b[38;5;124mSuresh\u001b[39m\u001b[38;5;124m'\u001b[39m:\u001b[38;5;241m30\u001b[39m}\n\u001b[1;32m----> 2\u001b[0m \u001b[38;5;28mmax\u001b[39m(d2)\n",
      "\u001b[1;31mTypeError\u001b[0m: '>' not supported between instances of 'str' and 'int'"
     ]
    }
   ],
   "source": [
    "d2={20:\"Ramesh\",'Suresh':30}\n",
    "max(d2)"
   ]
  },
  {
   "cell_type": "code",
   "execution_count": 52,
   "id": "b7147d2d",
   "metadata": {},
   "outputs": [
    {
     "data": {
      "text/plain": [
       "'Ramesh'"
      ]
     },
     "execution_count": 52,
     "metadata": {},
     "output_type": "execute_result"
    }
   ],
   "source": [
    "d1={\"Ramesh\":20,\"Suresh\":25,\"Sathish\":30}\n",
    "min(d1)\n"
   ]
  },
  {
   "cell_type": "code",
   "execution_count": 53,
   "id": "53e3b493",
   "metadata": {},
   "outputs": [
    {
     "data": {
      "text/plain": [
       "20"
      ]
     },
     "execution_count": 53,
     "metadata": {},
     "output_type": "execute_result"
    }
   ],
   "source": [
    "d2={20:\"Ramesh\",25:\"Suresh\",30:\"Sathish\"}\n",
    "min(d2)"
   ]
  },
  {
   "cell_type": "code",
   "execution_count": 54,
   "id": "0f05dac0",
   "metadata": {},
   "outputs": [
    {
     "data": {
      "text/plain": [
       "3"
      ]
     },
     "execution_count": 54,
     "metadata": {},
     "output_type": "execute_result"
    }
   ],
   "source": [
    "d1={\"Ramesh\":20,\"Suresh\":25,\"Sathish\":30}\n",
    "len(d1)\n"
   ]
  },
  {
   "cell_type": "code",
   "execution_count": 55,
   "id": "46ae2284",
   "metadata": {},
   "outputs": [
    {
     "data": {
      "text/plain": [
       "['Ramesh', 'Sathish', 'Suresh']"
      ]
     },
     "execution_count": 55,
     "metadata": {},
     "output_type": "execute_result"
    }
   ],
   "source": [
    "sorted(d1)\n",
    "# "
   ]
  },
  {
   "cell_type": "code",
   "execution_count": 57,
   "id": "8e8a8271",
   "metadata": {},
   "outputs": [
    {
     "name": "stdout",
     "output_type": "stream",
     "text": [
      "Sathish\n",
      "Suresh\n",
      "Ramesh\n"
     ]
    }
   ],
   "source": [
    "d1={\"Ramesh\":20,\"Suresh\":25,\"Sathish\":30}\n",
    "for i in reversed(d1):\n",
    "    print(i)"
   ]
  },
  {
   "cell_type": "code",
   "execution_count": 58,
   "id": "8d67b2c9",
   "metadata": {},
   "outputs": [
    {
     "ename": "TypeError",
     "evalue": "unsupported operand type(s) for +: 'int' and 'str'",
     "output_type": "error",
     "traceback": [
      "\u001b[1;31m---------------------------------------------------------------------------\u001b[0m",
      "\u001b[1;31mTypeError\u001b[0m                                 Traceback (most recent call last)",
      "Cell \u001b[1;32mIn[58], line 2\u001b[0m\n\u001b[0;32m      1\u001b[0m d1\u001b[38;5;241m=\u001b[39m{\u001b[38;5;124m\"\u001b[39m\u001b[38;5;124mRamesh\u001b[39m\u001b[38;5;124m\"\u001b[39m:\u001b[38;5;241m20\u001b[39m,\u001b[38;5;124m\"\u001b[39m\u001b[38;5;124mSuresh\u001b[39m\u001b[38;5;124m\"\u001b[39m:\u001b[38;5;241m25\u001b[39m,\u001b[38;5;124m\"\u001b[39m\u001b[38;5;124mSathish\u001b[39m\u001b[38;5;124m\"\u001b[39m:\u001b[38;5;241m30\u001b[39m}\n\u001b[1;32m----> 2\u001b[0m \u001b[38;5;28msum\u001b[39m(d1)\n",
      "\u001b[1;31mTypeError\u001b[0m: unsupported operand type(s) for +: 'int' and 'str'"
     ]
    }
   ],
   "source": [
    "d1={\"Ramesh\":20,\"Suresh\":25,\"Sathish\":30}\n",
    "sum(d1)"
   ]
  },
  {
   "cell_type": "code",
   "execution_count": 59,
   "id": "69023b5b",
   "metadata": {},
   "outputs": [
    {
     "data": {
      "text/plain": [
       "75"
      ]
     },
     "execution_count": 59,
     "metadata": {},
     "output_type": "execute_result"
    }
   ],
   "source": [
    "d2={20:\"Ramesh\",25:\"Suresh\",30:\"Sathish\"}\n",
    "sum(d2)"
   ]
  },
  {
   "cell_type": "code",
   "execution_count": 61,
   "id": "10833813",
   "metadata": {},
   "outputs": [],
   "source": [
    "l1=['Ramesh','Suresh','Sathish']\n",
    "l2=[20,25,30]"
   ]
  },
  {
   "cell_type": "code",
   "execution_count": 62,
   "id": "ab15b76b",
   "metadata": {},
   "outputs": [
    {
     "data": {
      "text/plain": [
       "75"
      ]
     },
     "execution_count": 62,
     "metadata": {},
     "output_type": "execute_result"
    }
   ],
   "source": [
    "sum(l2)\n",
    "sum(l1)  # fail"
   ]
  },
  {
   "cell_type": "code",
   "execution_count": null,
   "id": "185557f3",
   "metadata": {},
   "outputs": [],
   "source": [
    "d1={\"Ramesh\":20,\"Suresh\":25,\"Sathish\":30}\n",
    "sum(d1)  # Error\n",
    "max(d1)  # Sure\n",
    "min(d1)  # Rame\n",
    "len(d1)  # 3"
   ]
  },
  {
   "cell_type": "code",
   "execution_count": null,
   "id": "bb13400b",
   "metadata": {},
   "outputs": [],
   "source": [
    "d2={20:\"Ramesh\",25:\"Suresh\",30:\"Sathish\"}\n",
    "sum(d2) # 75\n",
    "max(d1) # 30\n",
    "min(d1) # 20\n",
    "len(d1) # 3"
   ]
  },
  {
   "cell_type": "code",
   "execution_count": null,
   "id": "bb248a58",
   "metadata": {},
   "outputs": [],
   "source": [
    "d2={20:\"Ramesh\",'Suresh':30}\n",
    "max(d2) # E\n",
    "min(d2) # E\n",
    "sum(d2) # E\n",
    "len(d2) # 2"
   ]
  },
  {
   "cell_type": "code",
   "execution_count": null,
   "id": "13f60b8d",
   "metadata": {},
   "outputs": [],
   "source": [
    "- how to read\n",
    "\n",
    "- different ways to read\n",
    "\n",
    "- type / min/ max/ len/sum/sorted/reversed"
   ]
  },
  {
   "cell_type": "markdown",
   "id": "60a9a0ca",
   "metadata": {},
   "source": [
    "$conactenation$"
   ]
  },
  {
   "cell_type": "code",
   "execution_count": 1,
   "id": "27254447",
   "metadata": {},
   "outputs": [
    {
     "ename": "TypeError",
     "evalue": "unsupported operand type(s) for +: 'dict' and 'dict'",
     "output_type": "error",
     "traceback": [
      "\u001b[1;31m---------------------------------------------------------------------------\u001b[0m",
      "\u001b[1;31mTypeError\u001b[0m                                 Traceback (most recent call last)",
      "Cell \u001b[1;32mIn[1], line 3\u001b[0m\n\u001b[0;32m      1\u001b[0m d1\u001b[38;5;241m=\u001b[39m{\u001b[38;5;124m\"\u001b[39m\u001b[38;5;124mRamesh\u001b[39m\u001b[38;5;124m\"\u001b[39m:\u001b[38;5;241m20\u001b[39m}\n\u001b[0;32m      2\u001b[0m d2\u001b[38;5;241m=\u001b[39m{\u001b[38;5;124m'\u001b[39m\u001b[38;5;124mSuresh\u001b[39m\u001b[38;5;124m'\u001b[39m:\u001b[38;5;241m30\u001b[39m}\n\u001b[1;32m----> 3\u001b[0m d1\u001b[38;5;241m+\u001b[39md2\n",
      "\u001b[1;31mTypeError\u001b[0m: unsupported operand type(s) for +: 'dict' and 'dict'"
     ]
    }
   ],
   "source": [
    "d1={\"Ramesh\":20}\n",
    "d2={'Suresh':30}\n",
    "d1+d2"
   ]
  },
  {
   "cell_type": "code",
   "execution_count": 2,
   "id": "34344e11",
   "metadata": {},
   "outputs": [
    {
     "ename": "TypeError",
     "evalue": "unsupported operand type(s) for *: 'dict' and 'int'",
     "output_type": "error",
     "traceback": [
      "\u001b[1;31m---------------------------------------------------------------------------\u001b[0m",
      "\u001b[1;31mTypeError\u001b[0m                                 Traceback (most recent call last)",
      "Cell \u001b[1;32mIn[2], line 1\u001b[0m\n\u001b[1;32m----> 1\u001b[0m d1\u001b[38;5;241m*\u001b[39m\u001b[38;5;241m2\u001b[39m\n",
      "\u001b[1;31mTypeError\u001b[0m: unsupported operand type(s) for *: 'dict' and 'int'"
     ]
    }
   ],
   "source": [
    "d1*2 # d1+d1"
   ]
  },
  {
   "cell_type": "markdown",
   "id": "40b48f34",
   "metadata": {},
   "source": [
    "$in$"
   ]
  },
  {
   "cell_type": "code",
   "execution_count": 8,
   "id": "b18ef0d5",
   "metadata": {},
   "outputs": [
    {
     "data": {
      "text/plain": [
       "False"
      ]
     },
     "execution_count": 8,
     "metadata": {},
     "output_type": "execute_result"
    }
   ],
   "source": [
    "# Keys are important\n",
    "d1={\"Ramesh\":20,\"Suresh\":25,\"Sathish\":30}\n",
    "# Keys are important\n",
    "'Ramesh' in d1     # True\n",
    "20 in d1           # False"
   ]
  },
  {
   "cell_type": "code",
   "execution_count": 5,
   "id": "90d0919c",
   "metadata": {},
   "outputs": [
    {
     "name": "stdout",
     "output_type": "stream",
     "text": [
      "Ramesh\n",
      "Suresh\n",
      "Sathish\n"
     ]
    }
   ],
   "source": [
    "for i in d1:\n",
    "    print(i)"
   ]
  },
  {
   "cell_type": "markdown",
   "id": "35e2af87",
   "metadata": {},
   "source": [
    "$index$"
   ]
  },
  {
   "cell_type": "code",
   "execution_count": 16,
   "id": "a8985e9d",
   "metadata": {},
   "outputs": [
    {
     "name": "stdout",
     "output_type": "stream",
     "text": [
      "Ramesh 20\n",
      "Suresh 25\n",
      "Sathish 30\n"
     ]
    }
   ],
   "source": [
    "d1={\"Ramesh\":20,\"Suresh\":25,\"Sathish\":30}\n",
    "# Normal index will not work for dictionary\n",
    "#d1[0]  # Error\n",
    "\n",
    "# If you want retrive the value, by using key we can get\n",
    "d1['Ramesh']\n",
    "d1['Suresh']\n",
    "d1['Sathish'] \n",
    "\n",
    "d1[i]\n",
    "\n",
    "for i in d1:\n",
    "    print(i,d1[i])"
   ]
  },
  {
   "cell_type": "code",
   "execution_count": 17,
   "id": "25617325",
   "metadata": {},
   "outputs": [
    {
     "name": "stdout",
     "output_type": "stream",
     "text": [
      "Ramesh age is 20\n",
      "Suresh age is 25\n",
      "Sathish age is 30\n"
     ]
    }
   ],
   "source": [
    "names=['Ramesh','Suresh','Sathish']\n",
    "age=[20,25,30]\n",
    "for i,j in zip(names,age):\n",
    "    print(f\"{i} age is {j}\")"
   ]
  },
  {
   "cell_type": "code",
   "execution_count": 19,
   "id": "95a3e02d",
   "metadata": {},
   "outputs": [
    {
     "name": "stdout",
     "output_type": "stream",
     "text": [
      "Ramesh age is 20\n",
      "Suresh age is 25\n",
      "Sathish age is 30\n"
     ]
    }
   ],
   "source": [
    "d1={\"Ramesh\":20,\"Suresh\":25,\"Sathish\":30}\n",
    "for i in d1:\n",
    "    print(f\"{i} age is {d1[i]}\")"
   ]
  },
  {
   "cell_type": "code",
   "execution_count": null,
   "id": "50500a7f",
   "metadata": {},
   "outputs": [],
   "source": [
    "d1={\"Ramesh\":20,\"Suresh\":25,\"Sathish\":30}\n",
    "\n",
    "for i in d1:\n",
    "    print(i)   # Only keys\n",
    "    \n",
    "    \n",
    "for i in d1:\n",
    "    print(i,d1[i])   # keys and values\n",
    "    "
   ]
  },
  {
   "cell_type": "code",
   "execution_count": 25,
   "id": "9a86fbb9",
   "metadata": {},
   "outputs": [
    {
     "data": {
      "text/plain": [
       "'abc'"
      ]
     },
     "execution_count": 25,
     "metadata": {},
     "output_type": "execute_result"
    }
   ],
   "source": [
    "d1,l1,s1={},[],''\n",
    "s1=s1+'a'  # ''+'a'\n",
    "s1=s1+'b'\n",
    "s1=s1+'c'\n",
    "s1"
   ]
  },
  {
   "cell_type": "code",
   "execution_count": 28,
   "id": "670dd64f",
   "metadata": {},
   "outputs": [
    {
     "data": {
      "text/plain": [
       "[10, 20]"
      ]
     },
     "execution_count": 28,
     "metadata": {},
     "output_type": "execute_result"
    }
   ],
   "source": [
    "l1=[]\n",
    "l1.append(10)\n",
    "l1.append(20)\n",
    "l1"
   ]
  },
  {
   "cell_type": "code",
   "execution_count": 32,
   "id": "1544614d",
   "metadata": {},
   "outputs": [
    {
     "data": {
      "text/plain": [
       "{'even': [20, 30, 40], 'odd': [31, 33]}"
      ]
     },
     "execution_count": 32,
     "metadata": {},
     "output_type": "execute_result"
    }
   ],
   "source": [
    "d1={}\n",
    "d1['even']=[20,30,40]\n",
    "d1['odd']=[31,33]\n",
    "d1"
   ]
  },
  {
   "cell_type": "code",
   "execution_count": 31,
   "id": "62aa7d5d",
   "metadata": {},
   "outputs": [
    {
     "name": "stdout",
     "output_type": "stream",
     "text": [
      "enter the name:python\n",
      "enter the cityHyderabad\n",
      "enter the age10\n"
     ]
    },
    {
     "data": {
      "text/plain": [
       "{'NAME': 'python', 'CITY': 'Hyderabad', 'AGE': 10}"
      ]
     },
     "execution_count": 31,
     "metadata": {},
     "output_type": "execute_result"
    }
   ],
   "source": [
    "d1={}\n",
    "name=input(\"enter the name:\")\n",
    "city=input(\"enter the city\")\n",
    "age=eval(input(\"enter the age\"))\n",
    "d1['NAME']=name\n",
    "d1['CITY']=city\n",
    "d1['AGE']=age\n",
    "d1"
   ]
  },
  {
   "cell_type": "code",
   "execution_count": null,
   "id": "a705fbd4",
   "metadata": {},
   "outputs": [],
   "source": [
    "# WAP ask the user generate 10 random numbers\n",
    "# Find the even number and odd number\n",
    "# output:\n",
    "#{'Even':[20,30,40],'Odd':[35,45]}\n",
    "# step-1: import random\n",
    "# step-2: even_list,odd_list=[],[]\n",
    "# step-3: for loop 10 times\n",
    "# step-4:    num=generate random number 10,100\n",
    "# step-5:    if <condition>:\n",
    "# step-6:        append the values in eve\n",
    "# step-7:   else:\n",
    "# step-8:        append the values in odd list\n",
    "# step-9: create the dictionary"
   ]
  },
  {
   "cell_type": "code",
   "execution_count": 33,
   "id": "6667f144",
   "metadata": {},
   "outputs": [
    {
     "data": {
      "text/plain": [
       "{'Even': [38, 52], 'Odd': [81, 95, 31, 23, 27, 57, 43, 33]}"
      ]
     },
     "execution_count": 33,
     "metadata": {},
     "output_type": "execute_result"
    }
   ],
   "source": [
    "import random\n",
    "even_list,odd_list,d1=[],[],{}\n",
    "\n",
    "for i in range(10):\n",
    "    num=random.randint(10,100)\n",
    "    if num%2==0:\n",
    "        even_list.append(num)\n",
    "    else:\n",
    "        odd_list.append(num)\n",
    "        \n",
    "d1['Even']=even_list\n",
    "d1['Odd']=odd_list\n",
    "d1\n",
    "        "
   ]
  },
  {
   "cell_type": "code",
   "execution_count": 43,
   "id": "98f3cbf8",
   "metadata": {},
   "outputs": [
    {
     "data": {
      "text/plain": [
       "{'hello': 3,\n",
       " 'how': 4,\n",
       " 'are': 2,\n",
       " 'you,': 1,\n",
       " 'im': 1,\n",
       " 'good,': 1,\n",
       " 'what': 1,\n",
       " 'you': 1,\n",
       " 'doing': 1}"
      ]
     },
     "execution_count": 43,
     "metadata": {},
     "output_type": "execute_result"
    }
   ],
   "source": [
    "# word frequency\n",
    "s1='hello how how are you, hello how im good, hello how what are you doing'\n",
    "# {'hello':3,'how':4,......}\n",
    "# split the data\n",
    "l1=s1.split()  # list of words\n",
    "l2=[]\n",
    "d1={}\n",
    "for i in l1:  # iterator through list\n",
    "    if i not in l2:\n",
    "        d1[i]=l1.count(i)  # key=i   value= l1.count(i)\n",
    "        l2.append(i)\n",
    "        \n",
    "d1"
   ]
  },
  {
   "cell_type": "code",
   "execution_count": 42,
   "id": "a2b66dff",
   "metadata": {},
   "outputs": [
    {
     "data": {
      "text/plain": [
       "{'hello': 3}"
      ]
     },
     "execution_count": 42,
     "metadata": {},
     "output_type": "execute_result"
    }
   ],
   "source": [
    "d1={}\n",
    "d1['hello']=3\n",
    "d1[i]=l1.count(i)  "
   ]
  },
  {
   "cell_type": "code",
   "execution_count": 46,
   "id": "ff4225bc",
   "metadata": {},
   "outputs": [
    {
     "data": {
      "text/plain": [
       "('Apple', 'Banana')"
      ]
     },
     "execution_count": 46,
     "metadata": {},
     "output_type": "execute_result"
    }
   ],
   "source": [
    "d1={'Fruites':['Apple','Banana']}\n",
    "# Retrive Banana\n",
    "d1['Fruites'][0],d1['Fruites'][1]"
   ]
  },
  {
   "cell_type": "code",
   "execution_count": 115,
   "id": "3ba4a3e2",
   "metadata": {},
   "outputs": [
    {
     "data": {
      "text/plain": [
       "20"
      ]
     },
     "execution_count": 115,
     "metadata": {},
     "output_type": "execute_result"
    }
   ],
   "source": [
    "d1={'Fruites':[{'Apple':50},{'Banana':20}]}\n",
    "len(d1)\n",
    "d1['Fruites']  # List\n",
    "d1['Fruites'][1] # dict\n",
    "d1['Fruites'][1]['Banana']"
   ]
  },
  {
   "cell_type": "code",
   "execution_count": 58,
   "id": "c7654723",
   "metadata": {},
   "outputs": [
    {
     "data": {
      "text/plain": [
       "300"
      ]
     },
     "execution_count": 58,
     "metadata": {},
     "output_type": "execute_result"
    }
   ],
   "source": [
    "d1={'Fruites':[{'Apple':[50,150,300]},{'Banana':20}]}\n",
    "d1['Fruites'][0]['Apple'][2]"
   ]
  },
  {
   "cell_type": "code",
   "execution_count": 67,
   "id": "6facbead",
   "metadata": {},
   "outputs": [
    {
     "data": {
      "text/plain": [
       "'Average'"
      ]
     },
     "execution_count": 67,
     "metadata": {},
     "output_type": "execute_result"
    }
   ],
   "source": [
    "d1={'Fruites':\n",
    "    [{'Apple':[{50:'Normal',\n",
    "                150:'Average',\n",
    "                300:'Good'}]},\n",
    "     {'Banana':20}]}\n",
    "d1['Fruites'][0]['Apple'][0][150]"
   ]
  },
  {
   "cell_type": "code",
   "execution_count": 86,
   "id": "c653b7e8",
   "metadata": {},
   "outputs": [
    {
     "data": {
      "text/plain": [
       "400"
      ]
     },
     "execution_count": 86,
     "metadata": {},
     "output_type": "execute_result"
    }
   ],
   "source": [
    "d1={'Fruites':\n",
    "    [{'Apple':[{50:\n",
    "                [\n",
    "                    {'Normal':[100,300,400]\n",
    "                    }\n",
    "                ]\n",
    "               }\n",
    "              ]\n",
    "     }\n",
    "    ]\n",
    "   }\n",
    "len(d1['Fruites'])\n",
    "len(d1['Fruites'][0])\n",
    "len(d1['Fruites'][0]['Apple'])\n",
    "len(d1['Fruites'][0]['Apple'][0])\n",
    "d1['Fruites'][0]['Apple'][0][50][0]['Normal'][2]"
   ]
  },
  {
   "cell_type": "code",
   "execution_count": 87,
   "id": "628baa4b",
   "metadata": {},
   "outputs": [
    {
     "data": {
      "text/plain": [
       "1"
      ]
     },
     "execution_count": 87,
     "metadata": {},
     "output_type": "execute_result"
    }
   ],
   "source": [
    "len(d1)"
   ]
  },
  {
   "cell_type": "code",
   "execution_count": 94,
   "id": "ca18bd28",
   "metadata": {},
   "outputs": [
    {
     "data": {
      "text/plain": [
       "[{50: [{'Normal': [100, 300, 400]}]}]"
      ]
     },
     "execution_count": 94,
     "metadata": {},
     "output_type": "execute_result"
    }
   ],
   "source": [
    "len(d1['Fruites'])  # 1 ele in list  index=0\n",
    "len(d1['Fruites'][0])\n",
    "d1['Fruites'][0]['Apple']"
   ]
  },
  {
   "cell_type": "markdown",
   "id": "e1c95033",
   "metadata": {},
   "source": [
    "$Methods$"
   ]
  },
  {
   "cell_type": "code",
   "execution_count": 95,
   "id": "cf49ee01",
   "metadata": {},
   "outputs": [
    {
     "data": {
      "text/plain": [
       "['__class__',\n",
       " '__class_getitem__',\n",
       " '__contains__',\n",
       " '__delattr__',\n",
       " '__delitem__',\n",
       " '__dir__',\n",
       " '__doc__',\n",
       " '__eq__',\n",
       " '__format__',\n",
       " '__ge__',\n",
       " '__getattribute__',\n",
       " '__getitem__',\n",
       " '__getstate__',\n",
       " '__gt__',\n",
       " '__hash__',\n",
       " '__init__',\n",
       " '__init_subclass__',\n",
       " '__ior__',\n",
       " '__iter__',\n",
       " '__le__',\n",
       " '__len__',\n",
       " '__lt__',\n",
       " '__ne__',\n",
       " '__new__',\n",
       " '__or__',\n",
       " '__reduce__',\n",
       " '__reduce_ex__',\n",
       " '__repr__',\n",
       " '__reversed__',\n",
       " '__ror__',\n",
       " '__setattr__',\n",
       " '__setitem__',\n",
       " '__sizeof__',\n",
       " '__str__',\n",
       " '__subclasshook__',\n",
       " 'clear',\n",
       " 'copy',\n",
       " 'fromkeys',\n",
       " 'get',\n",
       " 'items',\n",
       " 'keys',\n",
       " 'pop',\n",
       " 'popitem',\n",
       " 'setdefault',\n",
       " 'update',\n",
       " 'values']"
      ]
     },
     "execution_count": 95,
     "metadata": {},
     "output_type": "execute_result"
    }
   ],
   "source": [
    "dir({})  # dir([])  dir('') dir(())"
   ]
  },
  {
   "cell_type": "code",
   "execution_count": null,
   "id": "c8b667ee",
   "metadata": {},
   "outputs": [],
   "source": [
    "'clear',\n",
    " 'copy',\n",
    " 'fromkeys',\n",
    " 'get',\n",
    " 'items',\n",
    " 'keys',\n",
    " 'pop',\n",
    " 'popitem',\n",
    " 'setdefault',\n",
    " 'update',\n",
    " 'values'"
   ]
  },
  {
   "cell_type": "markdown",
   "id": "f8f5bd09",
   "metadata": {},
   "source": [
    "$keys$-$values$-$items$"
   ]
  },
  {
   "cell_type": "code",
   "execution_count": 96,
   "id": "1a8cab86",
   "metadata": {},
   "outputs": [
    {
     "data": {
      "text/plain": [
       "{'Ramesh': 20, 'Suresh': 25, 'Piyush': 27}"
      ]
     },
     "execution_count": 96,
     "metadata": {},
     "output_type": "execute_result"
    }
   ],
   "source": [
    "d1={'Ramesh':20,'Suresh':25,'Piyush':27}\n",
    "d1"
   ]
  },
  {
   "cell_type": "code",
   "execution_count": 97,
   "id": "5f19a7ba",
   "metadata": {},
   "outputs": [
    {
     "data": {
      "text/plain": [
       "dict_keys(['Ramesh', 'Suresh', 'Piyush'])"
      ]
     },
     "execution_count": 97,
     "metadata": {},
     "output_type": "execute_result"
    }
   ],
   "source": [
    "d1.keys()"
   ]
  },
  {
   "cell_type": "code",
   "execution_count": 98,
   "id": "6e52f7ee",
   "metadata": {},
   "outputs": [
    {
     "data": {
      "text/plain": [
       "dict_values([20, 25, 27])"
      ]
     },
     "execution_count": 98,
     "metadata": {},
     "output_type": "execute_result"
    }
   ],
   "source": [
    "d1.values()"
   ]
  },
  {
   "cell_type": "code",
   "execution_count": 99,
   "id": "4fe2070f",
   "metadata": {},
   "outputs": [
    {
     "data": {
      "text/plain": [
       "dict_items([('Ramesh', 20), ('Suresh', 25), ('Piyush', 27)])"
      ]
     },
     "execution_count": 99,
     "metadata": {},
     "output_type": "execute_result"
    }
   ],
   "source": [
    "d1.items()"
   ]
  },
  {
   "cell_type": "code",
   "execution_count": 103,
   "id": "1dbfba50",
   "metadata": {},
   "outputs": [
    {
     "data": {
      "text/plain": [
       "dict_keys"
      ]
     },
     "execution_count": 103,
     "metadata": {},
     "output_type": "execute_result"
    }
   ],
   "source": [
    "d1.keys() # to check the type of output\n",
    "type(d1.keys()) # dict_keys\n",
    "# so convert dict_keys type to list type"
   ]
  },
  {
   "cell_type": "code",
   "execution_count": 108,
   "id": "2ca81d40",
   "metadata": {},
   "outputs": [
    {
     "data": {
      "text/plain": [
       "['Ramesh', 'Suresh', 'Piyush']"
      ]
     },
     "execution_count": 108,
     "metadata": {},
     "output_type": "execute_result"
    }
   ],
   "source": [
    "list(d1.keys())"
   ]
  },
  {
   "cell_type": "code",
   "execution_count": 107,
   "id": "b95a4a6c",
   "metadata": {},
   "outputs": [
    {
     "data": {
      "text/plain": [
       "'ramesh'"
      ]
     },
     "execution_count": 107,
     "metadata": {},
     "output_type": "execute_result"
    }
   ],
   "source": [
    "list(d1.keys())[0].lower()"
   ]
  },
  {
   "cell_type": "code",
   "execution_count": null,
   "id": "94f63755",
   "metadata": {},
   "outputs": [],
   "source": [
    "clear\n",
    "copy\n",
    "get\n",
    "pop\n",
    "popitem\n",
    "\n"
   ]
  },
  {
   "cell_type": "code",
   "execution_count": null,
   "id": "179183c7",
   "metadata": {},
   "outputs": [],
   "source": [
    "list1.clear()\n",
    "list1\n",
    "\n",
    "# Intialise the list  l1\n",
    "# l2=l1.copy()\n",
    "# l1.clear()\n",
    "# print(l1),print(l2)\n",
    "l1=['A','B','C']\n",
    "l2=l1.copy()\n",
    "l1.clear()\n",
    "l1,l"
   ]
  },
  {
   "cell_type": "code",
   "execution_count": 110,
   "id": "2b0720c2",
   "metadata": {},
   "outputs": [
    {
     "data": {
      "text/plain": [
       "{}"
      ]
     },
     "execution_count": 110,
     "metadata": {},
     "output_type": "execute_result"
    }
   ],
   "source": [
    "d1={'Ramesh':20,'Suresh':25,'Piyush':27}\n",
    "d1.clear()\n",
    "d1"
   ]
  },
  {
   "cell_type": "code",
   "execution_count": 111,
   "id": "5f7902fc",
   "metadata": {},
   "outputs": [
    {
     "data": {
      "text/plain": [
       "({'Ramesh': 20, 'Suresh': 25, 'Piyush': 27}, {})"
      ]
     },
     "execution_count": 111,
     "metadata": {},
     "output_type": "execute_result"
    }
   ],
   "source": [
    "d1={'Ramesh':20,'Suresh':25,'Piyush':27}\n",
    "d2=d1.copy()\n",
    "d1.clear()\n",
    "d2,d1"
   ]
  },
  {
   "cell_type": "code",
   "execution_count": 1,
   "id": "6a6aeb84",
   "metadata": {},
   "outputs": [
    {
     "data": {
      "text/plain": [
       "['__class__',\n",
       " '__class_getitem__',\n",
       " '__contains__',\n",
       " '__delattr__',\n",
       " '__delitem__',\n",
       " '__dir__',\n",
       " '__doc__',\n",
       " '__eq__',\n",
       " '__format__',\n",
       " '__ge__',\n",
       " '__getattribute__',\n",
       " '__getitem__',\n",
       " '__getstate__',\n",
       " '__gt__',\n",
       " '__hash__',\n",
       " '__init__',\n",
       " '__init_subclass__',\n",
       " '__ior__',\n",
       " '__iter__',\n",
       " '__le__',\n",
       " '__len__',\n",
       " '__lt__',\n",
       " '__ne__',\n",
       " '__new__',\n",
       " '__or__',\n",
       " '__reduce__',\n",
       " '__reduce_ex__',\n",
       " '__repr__',\n",
       " '__reversed__',\n",
       " '__ror__',\n",
       " '__setattr__',\n",
       " '__setitem__',\n",
       " '__sizeof__',\n",
       " '__str__',\n",
       " '__subclasshook__',\n",
       " 'clear',\n",
       " 'copy',\n",
       " 'fromkeys',\n",
       " 'get',\n",
       " 'items',\n",
       " 'keys',\n",
       " 'pop',\n",
       " 'popitem',\n",
       " 'setdefault',\n",
       " 'update',\n",
       " 'values']"
      ]
     },
     "execution_count": 1,
     "metadata": {},
     "output_type": "execute_result"
    }
   ],
   "source": [
    "dir({})"
   ]
  },
  {
   "cell_type": "code",
   "execution_count": null,
   "id": "bbb15d85",
   "metadata": {},
   "outputs": [],
   "source": [
    "pop\n",
    "popitem\n",
    "fromkeys\n",
    "setdefault\n",
    "update"
   ]
  },
  {
   "cell_type": "code",
   "execution_count": 4,
   "id": "6d54726a",
   "metadata": {},
   "outputs": [
    {
     "data": {
      "text/plain": [
       "{'Suresh': 25, 'Piyush': 27}"
      ]
     },
     "execution_count": 4,
     "metadata": {},
     "output_type": "execute_result"
    }
   ],
   "source": [
    "d1={'Ramesh':20,'Suresh':25,'Piyush':27}\n",
    "d1.pop('Ramesh')   # key   return values\n",
    "d1"
   ]
  },
  {
   "cell_type": "code",
   "execution_count": 6,
   "id": "62daf763",
   "metadata": {},
   "outputs": [
    {
     "data": {
      "text/plain": [
       "{'Ramesh': 20, 'Suresh': 25}"
      ]
     },
     "execution_count": 6,
     "metadata": {},
     "output_type": "execute_result"
    }
   ],
   "source": [
    "d1={'Ramesh':20,'Suresh':25,'Piyush':27}\n",
    "d1.popitem()  # LIFO (key,value)\n",
    "d1"
   ]
  },
  {
   "cell_type": "markdown",
   "id": "31f6e7ae",
   "metadata": {},
   "source": [
    "$get$"
   ]
  },
  {
   "cell_type": "code",
   "execution_count": 7,
   "id": "3d9a00dc",
   "metadata": {},
   "outputs": [
    {
     "data": {
      "text/plain": [
       "20"
      ]
     },
     "execution_count": 7,
     "metadata": {},
     "output_type": "execute_result"
    }
   ],
   "source": [
    "d1={'Ramesh':20,'Suresh':25,'Piyush':27}\n",
    "d1.get('Ramesh')"
   ]
  },
  {
   "cell_type": "code",
   "execution_count": 8,
   "id": "1bc1c706",
   "metadata": {},
   "outputs": [
    {
     "data": {
      "text/plain": [
       "20"
      ]
     },
     "execution_count": 8,
     "metadata": {},
     "output_type": "execute_result"
    }
   ],
   "source": [
    "d1['Ramesh']  # By reference as a key you an get the value"
   ]
  },
  {
   "cell_type": "markdown",
   "id": "f46569d4",
   "metadata": {},
   "source": [
    "$update$"
   ]
  },
  {
   "cell_type": "code",
   "execution_count": 9,
   "id": "0c21a0f8",
   "metadata": {},
   "outputs": [
    {
     "data": {
      "text/plain": [
       "{'Ramesh': 20, 'Suresh': 30}"
      ]
     },
     "execution_count": 9,
     "metadata": {},
     "output_type": "execute_result"
    }
   ],
   "source": [
    "d1={'Ramesh':20}\n",
    "d2={'Suresh':30}\n",
    "d1.update(d2)\n",
    "d1"
   ]
  },
  {
   "cell_type": "code",
   "execution_count": 10,
   "id": "169163bb",
   "metadata": {},
   "outputs": [
    {
     "data": {
      "text/plain": [
       "{'Suresh': 30, 'Ramesh': 20}"
      ]
     },
     "execution_count": 10,
     "metadata": {},
     "output_type": "execute_result"
    }
   ],
   "source": [
    "d1={'Ramesh':20}\n",
    "d2={'Suresh':30}\n",
    "d2.update(d1)\n",
    "d2"
   ]
  },
  {
   "cell_type": "code",
   "execution_count": null,
   "id": "8be56242",
   "metadata": {},
   "outputs": [],
   "source": []
  }
 ],
 "metadata": {
  "kernelspec": {
   "display_name": "Python 3 (ipykernel)",
   "language": "python",
   "name": "python3"
  },
  "language_info": {
   "codemirror_mode": {
    "name": "ipython",
    "version": 3
   },
   "file_extension": ".py",
   "mimetype": "text/x-python",
   "name": "python",
   "nbconvert_exporter": "python",
   "pygments_lexer": "ipython3",
   "version": "3.11.7"
  }
 },
 "nbformat": 4,
 "nbformat_minor": 5
}
