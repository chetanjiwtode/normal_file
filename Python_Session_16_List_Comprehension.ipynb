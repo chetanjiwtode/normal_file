{
 "cells": [
  {
   "cell_type": "code",
   "execution_count": 1,
   "id": "0ed6e896-4cc8-4b61-af25-5b4da98ff6ac",
   "metadata": {},
   "outputs": [
    {
     "name": "stdout",
     "output_type": "stream",
     "text": [
      "0 1 2 3 4 5 6 7 8 9 "
     ]
    }
   ],
   "source": [
    "for i in range(10):\n",
    "    print(i,end=' ')"
   ]
  },
  {
   "cell_type": "code",
   "execution_count": 3,
   "id": "ed090049-bff4-400f-8cca-5bf6e1310e98",
   "metadata": {},
   "outputs": [
    {
     "data": {
      "text/plain": [
       "[0, 1, 2, 3, 4, 5, 6, 7, 8, 9]"
      ]
     },
     "execution_count": 3,
     "metadata": {},
     "output_type": "execute_result"
    }
   ],
   "source": [
    "l=[]\n",
    "for i in range(10):\n",
    "    l.append(i)\n",
    "l"
   ]
  },
  {
   "cell_type": "markdown",
   "id": "c9d18bad-3fd3-4742-9784-7b65e100f797",
   "metadata": {},
   "source": [
    "**Method-1: Only for loop**"
   ]
  },
  {
   "cell_type": "markdown",
   "id": "ba5166be-1ee7-41f4-a9d1-e4cd3ecd83f4",
   "metadata": {},
   "source": [
    "- what is the output we are saving : i\n",
    "\n",
    "- what is the loop : for i in range(10)\n",
    "\n",
    "- format: [output forloop]"
   ]
  },
  {
   "cell_type": "code",
   "execution_count": 4,
   "id": "8079d1d0-2ead-4111-8859-8a956591eb2e",
   "metadata": {},
   "outputs": [
    {
     "data": {
      "text/plain": [
       "[0, 1, 2, 3, 4, 5, 6, 7, 8, 9]"
      ]
     },
     "execution_count": 4,
     "metadata": {},
     "output_type": "execute_result"
    }
   ],
   "source": [
    "l=[i for i in range(10)]\n",
    "l"
   ]
  },
  {
   "cell_type": "code",
   "execution_count": 5,
   "id": "e8438463-144c-4db6-904e-173a04daf690",
   "metadata": {},
   "outputs": [],
   "source": [
    "# WAP : save the list of square numbers of 1 to 6\n",
    "square_list=[]\n",
    "for i in range(1,6):\n",
    "    square_list.append(i*i)"
   ]
  },
  {
   "cell_type": "code",
   "execution_count": 6,
   "id": "9e3516f6-b71f-489f-8636-e325ee09eb1f",
   "metadata": {},
   "outputs": [
    {
     "data": {
      "text/plain": [
       "[1, 4, 9, 16, 25]"
      ]
     },
     "execution_count": 6,
     "metadata": {},
     "output_type": "execute_result"
    }
   ],
   "source": [
    "square_list=[i*i for i in range(1,6)]\n",
    "square_list"
   ]
  },
  {
   "cell_type": "code",
   "execution_count": null,
   "id": "45d34023-bc62-459a-9e8d-e797de0eb8ab",
   "metadata": {},
   "outputs": [],
   "source": [
    "# WAP l=['hyd','mumbai','pune']\n",
    "#     out=['Hyd','Mumbai','Pune']\n",
    "\n",
    "# WAP l=['hyd','mumbai','pune']\n",
    "#     out=['HYD','MUMBAI','PUNE']\n",
    "\n",
    "# WAP l=['hyd','mumbai','pune']\n",
    "#     out=[0,10,20]\n",
    "\n",
    "# WAP l=['hyd','mumbai','pune']\n",
    "#     sum of the indexes"
   ]
  },
  {
   "cell_type": "code",
   "execution_count": 7,
   "id": "7d9676f4-62a9-4a52-9614-7b9680a47904",
   "metadata": {},
   "outputs": [
    {
     "data": {
      "text/plain": [
       "['Hyd', 'Mumbai', 'Pune']"
      ]
     },
     "execution_count": 7,
     "metadata": {},
     "output_type": "execute_result"
    }
   ],
   "source": [
    "# l=['hyd','mumbai','pune']\n",
    "l=['hyd','mumbai','pune']\n",
    "l1=[i.capitalize() for i in l]\n",
    "l1"
   ]
  },
  {
   "cell_type": "code",
   "execution_count": 8,
   "id": "eca425c8-add9-4546-9a55-14bec6d8f788",
   "metadata": {},
   "outputs": [
    {
     "data": {
      "text/plain": [
       "['HYD', 'MUMBAI', 'PUNE']"
      ]
     },
     "execution_count": 8,
     "metadata": {},
     "output_type": "execute_result"
    }
   ],
   "source": [
    "l=['hyd','mumbai','pune']\n",
    "l1=[i.upper() for i in l]\n",
    "l1"
   ]
  },
  {
   "cell_type": "code",
   "execution_count": 12,
   "id": "188479e2-e5eb-4556-88de-4badacf2780e",
   "metadata": {},
   "outputs": [
    {
     "data": {
      "text/plain": [
       "[0, 10, 20]"
      ]
     },
     "execution_count": 12,
     "metadata": {},
     "output_type": "execute_result"
    }
   ],
   "source": [
    "l=['hyd','mumbai','pune']\n",
    "l1=[l.index(i)*10 for i in l]\n",
    "l1"
   ]
  },
  {
   "cell_type": "code",
   "execution_count": 13,
   "id": "b21bd5c9-2dba-429c-b181-7f7f24fa13b4",
   "metadata": {},
   "outputs": [
    {
     "data": {
      "text/plain": [
       "3"
      ]
     },
     "execution_count": 13,
     "metadata": {},
     "output_type": "execute_result"
    }
   ],
   "source": [
    "l=['hyd','mumbai','pune']\n",
    "l1=[l.index(i) for i in l]\n",
    "sum(l1)"
   ]
  },
  {
   "cell_type": "code",
   "execution_count": 15,
   "id": "d6996500-0668-4111-ae64-7575ab27859d",
   "metadata": {},
   "outputs": [],
   "source": [
    "d={'a':'a'}"
   ]
  },
  {
   "cell_type": "code",
   "execution_count": 16,
   "id": "3ad82918-53d5-4543-a48e-7ad8fadd1cdd",
   "metadata": {},
   "outputs": [
    {
     "data": {
      "text/plain": [
       "dict_values(['a'])"
      ]
     },
     "execution_count": 16,
     "metadata": {},
     "output_type": "execute_result"
    }
   ],
   "source": [
    "d.values()"
   ]
  },
  {
   "cell_type": "code",
   "execution_count": 17,
   "id": "d7d5611f-e51c-4f98-80db-db73718d8839",
   "metadata": {},
   "outputs": [
    {
     "data": {
      "text/plain": [
       "dict_keys(['a'])"
      ]
     },
     "execution_count": 17,
     "metadata": {},
     "output_type": "execute_result"
    }
   ],
   "source": [
    "d.keys()"
   ]
  },
  {
   "cell_type": "markdown",
   "id": "4084f5cf-9c95-48ef-bb15-3634771b1941",
   "metadata": {},
   "source": [
    "**Method-2**\n",
    "\n",
    "**for loop and If condition**"
   ]
  },
  {
   "cell_type": "code",
   "execution_count": 3,
   "id": "3a0d3e08-d5cf-4420-8acb-40824b2dd247",
   "metadata": {},
   "outputs": [
    {
     "data": {
      "text/plain": [
       "['mum#bai', 'chen#nai']"
      ]
     },
     "execution_count": 3,
     "metadata": {},
     "output_type": "execute_result"
    }
   ],
   "source": [
    "# Q4) Wap\n",
    "# L=['hyd','mum#bai','chen#nai']\n",
    "# o=[mum#bai','chen#nai']\n",
    "L=['hyd','mum#bai','chen#nai']\n",
    "out=[]\n",
    "for i in L:\n",
    "    if '#' in i:\n",
    "        out.append(i)\n",
    "out"
   ]
  },
  {
   "cell_type": "code",
   "execution_count": 4,
   "id": "38a15505-177e-4dcd-a67f-69d5e7ad54f5",
   "metadata": {},
   "outputs": [
    {
     "data": {
      "text/plain": [
       "['mum#bai', 'chen#nai']"
      ]
     },
     "execution_count": 4,
     "metadata": {},
     "output_type": "execute_result"
    }
   ],
   "source": [
    "# syntax:[<writr output> <forloop> <ifcondition>]\n"
   ]
  },
  {
   "cell_type": "code",
   "execution_count": 5,
   "id": "1dece35a-bc2a-42f8-ba58-762b7fe580c1",
   "metadata": {},
   "outputs": [],
   "source": [
    "L=['hyd','mum#bai','chen#nai']\n",
    "out=[i for i in L if '#' in i]"
   ]
  },
  {
   "cell_type": "code",
   "execution_count": 6,
   "id": "6c25c7c7-ed6e-4943-9b32-02971d4bce4b",
   "metadata": {},
   "outputs": [
    {
     "data": {
      "text/plain": [
       "['hyd']"
      ]
     },
     "execution_count": 6,
     "metadata": {},
     "output_type": "execute_result"
    }
   ],
   "source": [
    "# Wap\n",
    "# L=['hyd','mum#bai','chen#nai']\n",
    "# o=['hyd']\n",
    "\n",
    "L=['hyd','mum#bai','chen#nai']\n",
    "out=[i for i in L if '#' not in i]\n",
    "out"
   ]
  },
  {
   "cell_type": "code",
   "execution_count": 7,
   "id": "9cdb3b47-feb7-4648-831f-d1e52ee06a2d",
   "metadata": {},
   "outputs": [
    {
     "data": {
      "text/plain": [
       "['mumbai', 'chennai']"
      ]
     },
     "execution_count": 7,
     "metadata": {},
     "output_type": "execute_result"
    }
   ],
   "source": [
    "# Wap\n",
    "# L=['hyd','mumbai','chennai']\n",
    "# o=['mumbai','chennai']\n",
    "# elements which are greaer than 4\n",
    "L=['hyd','mumbai','chennai']\n",
    "out=[i for i in L if len(i)>4]\n",
    "out"
   ]
  },
  {
   "cell_type": "code",
   "execution_count": null,
   "id": "cb13de72-ad23-424a-8976-f034f9a95022",
   "metadata": {},
   "outputs": [],
   "source": [
    "[output forloop]\n",
    "[output forloop ifcondtion]\n",
    "[<ifouput> <ifcondition> <else> <else output> <forloop>]"
   ]
  },
  {
   "cell_type": "code",
   "execution_count": 10,
   "id": "c0f5d28a-6c12-47d4-929c-aa3b9f2537fa",
   "metadata": {},
   "outputs": [
    {
     "data": {
      "text/plain": [
       "['odd:1',\n",
       " 'even:2',\n",
       " 'odd:3',\n",
       " 'even:4',\n",
       " 'odd:5',\n",
       " 'even:6',\n",
       " 'odd:7',\n",
       " 'even:8',\n",
       " 'odd:9']"
      ]
     },
     "execution_count": 10,
     "metadata": {},
     "output_type": "execute_result"
    }
   ],
   "source": [
    "# wap ask get the even and odd numbers from 1 to 10\n",
    "even_odd=[]\n",
    "for i in range(1,10):\n",
    "    if i%2==0:\n",
    "        even_odd.append(f\"even:{i}\")\n",
    "    else:\n",
    "        even_odd.append(f\"odd:{i}\")\n",
    "even_odd"
   ]
  },
  {
   "cell_type": "code",
   "execution_count": 11,
   "id": "a58bfc1b-433f-4789-bf3c-59bc58e4682e",
   "metadata": {},
   "outputs": [
    {
     "data": {
      "text/plain": [
       "['odd:1',\n",
       " 'even:2',\n",
       " 'odd:3',\n",
       " 'even:4',\n",
       " 'odd:5',\n",
       " 'even:6',\n",
       " 'odd:7',\n",
       " 'even:8',\n",
       " 'odd:9']"
      ]
     },
     "execution_count": 11,
     "metadata": {},
     "output_type": "execute_result"
    }
   ],
   "source": [
    "[f\"even:{i}\" if i%2==0 else f\"odd:{i}\" for i in range(1,10)]"
   ]
  },
  {
   "cell_type": "code",
   "execution_count": null,
   "id": "125734d4-df77-41d4-b6c9-f1797beddc85",
   "metadata": {},
   "outputs": [],
   "source": [
    "for loop : [<output> <forloop>]\n",
    "for -if  : [<output> <for loop> <if condition>]\n",
    "for  if else : [<if out> <if con> <else> <else op> <forloop>]"
   ]
  },
  {
   "cell_type": "code",
   "execution_count": 12,
   "id": "464b4501-458e-4d7d-908a-c7e3240a1346",
   "metadata": {},
   "outputs": [
    {
     "data": {
      "text/plain": [
       "['hyd', 'chennai']"
      ]
     },
     "execution_count": 12,
     "metadata": {},
     "output_type": "execute_result"
    }
   ],
   "source": [
    "l=['hyd','mumbai','chennai']\n",
    "[i for i in  l  if 'h' in i]"
   ]
  },
  {
   "cell_type": "code",
   "execution_count": null,
   "id": "02243028-86b0-45a6-b002-8d10a2d84fee",
   "metadata": {},
   "outputs": [],
   "source": [
    "for loop : [<output> <forloop>]\n",
    "for -if  : [<output> <for loop> <if condition>]\n",
    "for  if else : [<if out> <if con> <else> <else op> <forloop>]\n",
    "for if elif else: \n",
    "\n",
    "[<if out> <if con> <elif out> <elif con> <else> <else out> <for >]"
   ]
  },
  {
   "cell_type": "code",
   "execution_count": null,
   "id": "f8806e76-4a48-4ccf-ba9b-f6d992f6d928",
   "metadata": {},
   "outputs": [],
   "source": [
    "l=[1,2,3,0,-3,-2]\n",
    "#out=['pos:1','pos:2','pos:3']\n",
    "out=[]\n",
    "for i in l:\n",
    "    if i>0:\n",
    "        print(i)\n",
    "    elif i<0:\n",
    "        print(i)\n",
    "    else:\n",
    "        print(i)\n",
    "   "
   ]
  },
  {
   "cell_type": "code",
   "execution_count": null,
   "id": "66922942-2f01-46a1-951f-631b45f5061c",
   "metadata": {},
   "outputs": [],
   "source": [
    "for  if else : [<if out> <if con> <else> <else op> <forloop>]\n",
    "for if elif else: \n",
    "\n",
    "[<if out> <if con> =====else <elif out> if <elif cond>======= <else> <else out> <for >]"
   ]
  },
  {
   "cell_type": "code",
   "execution_count": 15,
   "id": "0af6b80a-32c7-4c26-8a8c-be363f710ad8",
   "metadata": {},
   "outputs": [
    {
     "data": {
      "text/plain": [
       "['pos:1', 'pos:2', 'pos:3', 'zero:0', 'neg:-3', 'neg:-2']"
      ]
     },
     "execution_count": 15,
     "metadata": {},
     "output_type": "execute_result"
    }
   ],
   "source": [
    "l=[1,2,3,0,-3,-2]\n",
    "out=[f\"pos:{i}\" if i>0 \n",
    "     else f\"neg:{i}\" if i<0 \n",
    "     else f\"zero:{i}\" \n",
    "     for i in l]\n",
    "out"
   ]
  },
  {
   "cell_type": "code",
   "execution_count": null,
   "id": "2b437a0e-dc9e-4b59-8c02-854e7502373d",
   "metadata": {},
   "outputs": [],
   "source": [
    "for loop : [<output> <forloop>]\n",
    "for -if  : [<output> <for loop> <if condition>]\n",
    "for  if else : [<if out> <if con> <else> <else op> <forloop>]"
   ]
  }
 ],
 "metadata": {
  "kernelspec": {
   "display_name": "Python 3 (ipykernel)",
   "language": "python",
   "name": "python3"
  },
  "language_info": {
   "codemirror_mode": {
    "name": "ipython",
    "version": 3
   },
   "file_extension": ".py",
   "mimetype": "text/x-python",
   "name": "python",
   "nbconvert_exporter": "python",
   "pygments_lexer": "ipython3",
   "version": "3.12.4"
  }
 },
 "nbformat": 4,
 "nbformat_minor": 5
}
